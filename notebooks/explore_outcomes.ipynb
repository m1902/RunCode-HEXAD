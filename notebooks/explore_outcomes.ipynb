{
 "cells": [
  {
   "metadata": {},
   "cell_type": "markdown",
   "source": [
    "## HEXAD vs outcomes and regularity vs outcomes\n",
    "\n",
    "Impact of HEXAD and regularity on outcomes"
   ],
   "id": "69b0d3a9b07eb1d5"
  },
  {
   "metadata": {
    "ExecuteTime": {
     "end_time": "2025-05-23T21:10:21.683710Z",
     "start_time": "2025-05-23T21:10:21.589012Z"
    }
   },
   "cell_type": "code",
   "source": [
    "%load_ext autoreload\n",
    "%autoreload 2\n",
    "\n",
    "import sys\n",
    "sys.path.append(\"..\")\n",
    "\n",
    "import pandas as pd\n",
    "from statsmodels.stats.diagnostic import het_breuschpagan\n",
    "import src.modeling.ols_model as ols_models\n",
    "\n",
    "# Load and scale data\n",
    "df = pd.read_csv(\"../data/preprocessed/student_time_features_2021_2024.csv\")\n",
    "scale_cols = [\n",
    "    'pre_test', 'test',\n",
    "    'entropy_day', 'entropy_week', 'gini_day', 'gini_week', 'burstiness_day', 'burstiness_week',\n",
    "    'HEXAD_P', 'HEXAD_S', 'HEXAD_F', 'HEXAD_A', 'HEXAD_D', 'HEXAD_R'\n",
    "]\n",
    "df = ols_models.standardize_columns(df, scale_cols)"
   ],
   "id": "be1cc321cf33b8fa",
   "outputs": [
    {
     "name": "stdout",
     "output_type": "stream",
     "text": [
      "The autoreload extension is already loaded. To reload it, use:\n",
      "  %reload_ext autoreload\n"
     ]
    }
   ],
   "execution_count": 80
  },
  {
   "metadata": {},
   "cell_type": "markdown",
   "source": "## Final test",
   "id": "d028fa358d0048e4"
  },
  {
   "metadata": {
    "collapsed": true,
    "ExecuteTime": {
     "end_time": "2025-05-23T21:10:21.834657Z",
     "start_time": "2025-05-23T21:10:21.747251Z"
    }
   },
   "cell_type": "code",
   "source": [
    "model_name = \"hexad_outcomes_main\"\n",
    "formula = ols_models.get_ols_formula_by_name(model_name)\n",
    "model = ols_models.fit_ols_model(df, formula)\n",
    "\n",
    "# Breusch–Pagan test - heteroscedasticity likely present\n",
    "bp_test = het_breuschpagan(model.resid, model.model.exog)\n",
    "bp_stat, bp_pval, f_stat, f_pval = bp_test\n",
    "\n",
    "print(\"Breusch-Pagan test statistic:\", bp_stat)\n",
    "print(\"p-value:\", bp_pval)\n",
    "\n",
    "# Use robust standard errors\n",
    "robust_model = model.get_robustcov_results(cov_type='HC1')\n"
   ],
   "id": "initial_id",
   "outputs": [
    {
     "name": "stdout",
     "output_type": "stream",
     "text": [
      "Breusch-Pagan test statistic: 27.15852151688184\n",
      "p-value: 0.00031207754034122187\n"
     ]
    }
   ],
   "execution_count": 81
  },
  {
   "metadata": {
    "ExecuteTime": {
     "end_time": "2025-05-23T21:10:21.919926Z",
     "start_time": "2025-05-23T21:10:21.842318Z"
    }
   },
   "cell_type": "code",
   "source": "formula",
   "id": "9a41b4d69d60ad1e",
   "outputs": [
    {
     "data": {
      "text/plain": [
       "'test ~ pre_test + HEXAD_P + HEXAD_S + HEXAD_F + HEXAD_A + HEXAD_D + HEXAD_R'"
      ]
     },
     "execution_count": 82,
     "metadata": {},
     "output_type": "execute_result"
    }
   ],
   "execution_count": 82
  },
  {
   "metadata": {
    "ExecuteTime": {
     "end_time": "2025-05-23T21:10:22.052271Z",
     "start_time": "2025-05-23T21:10:21.959076Z"
    }
   },
   "cell_type": "code",
   "source": "robust_model.summary()",
   "id": "810790bc0d920589",
   "outputs": [
    {
     "data": {
      "text/plain": [
       "<class 'statsmodels.iolib.summary.Summary'>\n",
       "\"\"\"\n",
       "                            OLS Regression Results                            \n",
       "==============================================================================\n",
       "Dep. Variable:                   test   R-squared:                       0.175\n",
       "Model:                            OLS   Adj. R-squared:                  0.169\n",
       "Method:                 Least Squares   F-statistic:                     26.25\n",
       "Date:                Fri, 23 May 2025   Prob (F-statistic):           1.04e-32\n",
       "Time:                        17:10:22   Log-Likelihood:                -1151.9\n",
       "No. Observations:                 871   AIC:                             2320.\n",
       "Df Residuals:                     863   BIC:                             2358.\n",
       "Df Model:                           7                                         \n",
       "Covariance Type:                  HC1                                         \n",
       "==============================================================================\n",
       "                 coef    std err          t      P>|t|      [0.025      0.975]\n",
       "------------------------------------------------------------------------------\n",
       "Intercept    2.16e-16      0.031   6.99e-15      1.000      -0.061       0.061\n",
       "pre_test       0.4086      0.032     12.862      0.000       0.346       0.471\n",
       "HEXAD_P       -0.0359      0.042     -0.854      0.393      -0.118       0.047\n",
       "HEXAD_S       -0.0177      0.038     -0.470      0.639      -0.092       0.056\n",
       "HEXAD_F        0.0874      0.041      2.115      0.035       0.006       0.168\n",
       "HEXAD_A        0.0019      0.046      0.042      0.966      -0.089       0.093\n",
       "HEXAD_D       -0.0603      0.035     -1.725      0.085      -0.129       0.008\n",
       "HEXAD_R        0.0831      0.042      1.981      0.048       0.001       0.166\n",
       "==============================================================================\n",
       "Omnibus:                       17.430   Durbin-Watson:                   1.871\n",
       "Prob(Omnibus):                  0.000   Jarque-Bera (JB):               17.821\n",
       "Skew:                          -0.333   Prob(JB):                     0.000135\n",
       "Kurtosis:                       2.781   Cond. No.                         3.49\n",
       "==============================================================================\n",
       "\n",
       "Notes:\n",
       "[1] Standard Errors are heteroscedasticity robust (HC1)\n",
       "\"\"\""
      ],
      "text/html": [
       "<table class=\"simpletable\">\n",
       "<caption>OLS Regression Results</caption>\n",
       "<tr>\n",
       "  <th>Dep. Variable:</th>          <td>test</td>       <th>  R-squared:         </th> <td>   0.175</td>\n",
       "</tr>\n",
       "<tr>\n",
       "  <th>Model:</th>                   <td>OLS</td>       <th>  Adj. R-squared:    </th> <td>   0.169</td>\n",
       "</tr>\n",
       "<tr>\n",
       "  <th>Method:</th>             <td>Least Squares</td>  <th>  F-statistic:       </th> <td>   26.25</td>\n",
       "</tr>\n",
       "<tr>\n",
       "  <th>Date:</th>             <td>Fri, 23 May 2025</td> <th>  Prob (F-statistic):</th> <td>1.04e-32</td>\n",
       "</tr>\n",
       "<tr>\n",
       "  <th>Time:</th>                 <td>17:10:22</td>     <th>  Log-Likelihood:    </th> <td> -1151.9</td>\n",
       "</tr>\n",
       "<tr>\n",
       "  <th>No. Observations:</th>      <td>   871</td>      <th>  AIC:               </th> <td>   2320.</td>\n",
       "</tr>\n",
       "<tr>\n",
       "  <th>Df Residuals:</th>          <td>   863</td>      <th>  BIC:               </th> <td>   2358.</td>\n",
       "</tr>\n",
       "<tr>\n",
       "  <th>Df Model:</th>              <td>     7</td>      <th>                     </th>     <td> </td>   \n",
       "</tr>\n",
       "<tr>\n",
       "  <th>Covariance Type:</th>         <td>HC1</td>       <th>                     </th>     <td> </td>   \n",
       "</tr>\n",
       "</table>\n",
       "<table class=\"simpletable\">\n",
       "<tr>\n",
       "      <td></td>         <th>coef</th>     <th>std err</th>      <th>t</th>      <th>P>|t|</th>  <th>[0.025</th>    <th>0.975]</th>  \n",
       "</tr>\n",
       "<tr>\n",
       "  <th>Intercept</th> <td>  2.16e-16</td> <td>    0.031</td> <td> 6.99e-15</td> <td> 1.000</td> <td>   -0.061</td> <td>    0.061</td>\n",
       "</tr>\n",
       "<tr>\n",
       "  <th>pre_test</th>  <td>    0.4086</td> <td>    0.032</td> <td>   12.862</td> <td> 0.000</td> <td>    0.346</td> <td>    0.471</td>\n",
       "</tr>\n",
       "<tr>\n",
       "  <th>HEXAD_P</th>   <td>   -0.0359</td> <td>    0.042</td> <td>   -0.854</td> <td> 0.393</td> <td>   -0.118</td> <td>    0.047</td>\n",
       "</tr>\n",
       "<tr>\n",
       "  <th>HEXAD_S</th>   <td>   -0.0177</td> <td>    0.038</td> <td>   -0.470</td> <td> 0.639</td> <td>   -0.092</td> <td>    0.056</td>\n",
       "</tr>\n",
       "<tr>\n",
       "  <th>HEXAD_F</th>   <td>    0.0874</td> <td>    0.041</td> <td>    2.115</td> <td> 0.035</td> <td>    0.006</td> <td>    0.168</td>\n",
       "</tr>\n",
       "<tr>\n",
       "  <th>HEXAD_A</th>   <td>    0.0019</td> <td>    0.046</td> <td>    0.042</td> <td> 0.966</td> <td>   -0.089</td> <td>    0.093</td>\n",
       "</tr>\n",
       "<tr>\n",
       "  <th>HEXAD_D</th>   <td>   -0.0603</td> <td>    0.035</td> <td>   -1.725</td> <td> 0.085</td> <td>   -0.129</td> <td>    0.008</td>\n",
       "</tr>\n",
       "<tr>\n",
       "  <th>HEXAD_R</th>   <td>    0.0831</td> <td>    0.042</td> <td>    1.981</td> <td> 0.048</td> <td>    0.001</td> <td>    0.166</td>\n",
       "</tr>\n",
       "</table>\n",
       "<table class=\"simpletable\">\n",
       "<tr>\n",
       "  <th>Omnibus:</th>       <td>17.430</td> <th>  Durbin-Watson:     </th> <td>   1.871</td>\n",
       "</tr>\n",
       "<tr>\n",
       "  <th>Prob(Omnibus):</th> <td> 0.000</td> <th>  Jarque-Bera (JB):  </th> <td>  17.821</td>\n",
       "</tr>\n",
       "<tr>\n",
       "  <th>Skew:</th>          <td>-0.333</td> <th>  Prob(JB):          </th> <td>0.000135</td>\n",
       "</tr>\n",
       "<tr>\n",
       "  <th>Kurtosis:</th>      <td> 2.781</td> <th>  Cond. No.          </th> <td>    3.49</td>\n",
       "</tr>\n",
       "</table><br/><br/>Notes:<br/>[1] Standard Errors are heteroscedasticity robust (HC1)"
      ],
      "text/latex": "\\begin{center}\n\\begin{tabular}{lclc}\n\\toprule\n\\textbf{Dep. Variable:}    &       test       & \\textbf{  R-squared:         } &     0.175   \\\\\n\\textbf{Model:}            &       OLS        & \\textbf{  Adj. R-squared:    } &     0.169   \\\\\n\\textbf{Method:}           &  Least Squares   & \\textbf{  F-statistic:       } &     26.25   \\\\\n\\textbf{Date:}             & Fri, 23 May 2025 & \\textbf{  Prob (F-statistic):} &  1.04e-32   \\\\\n\\textbf{Time:}             &     17:10:22     & \\textbf{  Log-Likelihood:    } &   -1151.9   \\\\\n\\textbf{No. Observations:} &         871      & \\textbf{  AIC:               } &     2320.   \\\\\n\\textbf{Df Residuals:}     &         863      & \\textbf{  BIC:               } &     2358.   \\\\\n\\textbf{Df Model:}         &           7      & \\textbf{                     } &             \\\\\n\\textbf{Covariance Type:}  &       HC1        & \\textbf{                     } &             \\\\\n\\bottomrule\n\\end{tabular}\n\\begin{tabular}{lcccccc}\n                   & \\textbf{coef} & \\textbf{std err} & \\textbf{t} & \\textbf{P$> |$t$|$} & \\textbf{[0.025} & \\textbf{0.975]}  \\\\\n\\midrule\n\\textbf{Intercept} &     2.16e-16  &        0.031     &  6.99e-15  &         1.000        &       -0.061    &        0.061     \\\\\n\\textbf{pre\\_test} &       0.4086  &        0.032     &    12.862  &         0.000        &        0.346    &        0.471     \\\\\n\\textbf{HEXAD\\_P}  &      -0.0359  &        0.042     &    -0.854  &         0.393        &       -0.118    &        0.047     \\\\\n\\textbf{HEXAD\\_S}  &      -0.0177  &        0.038     &    -0.470  &         0.639        &       -0.092    &        0.056     \\\\\n\\textbf{HEXAD\\_F}  &       0.0874  &        0.041     &     2.115  &         0.035        &        0.006    &        0.168     \\\\\n\\textbf{HEXAD\\_A}  &       0.0019  &        0.046     &     0.042  &         0.966        &       -0.089    &        0.093     \\\\\n\\textbf{HEXAD\\_D}  &      -0.0603  &        0.035     &    -1.725  &         0.085        &       -0.129    &        0.008     \\\\\n\\textbf{HEXAD\\_R}  &       0.0831  &        0.042     &     1.981  &         0.048        &        0.001    &        0.166     \\\\\n\\bottomrule\n\\end{tabular}\n\\begin{tabular}{lclc}\n\\textbf{Omnibus:}       & 17.430 & \\textbf{  Durbin-Watson:     } &    1.871  \\\\\n\\textbf{Prob(Omnibus):} &  0.000 & \\textbf{  Jarque-Bera (JB):  } &   17.821  \\\\\n\\textbf{Skew:}          & -0.333 & \\textbf{  Prob(JB):          } & 0.000135  \\\\\n\\textbf{Kurtosis:}      &  2.781 & \\textbf{  Cond. No.          } &     3.49  \\\\\n\\bottomrule\n\\end{tabular}\n%\\caption{OLS Regression Results}\n\\end{center}\n\nNotes: \\newline\n [1] Standard Errors are heteroscedasticity robust (HC1)"
     },
     "execution_count": 83,
     "metadata": {},
     "output_type": "execute_result"
    }
   ],
   "execution_count": 83
  },
  {
   "metadata": {},
   "cell_type": "markdown",
   "source": "## Final outcomes - HEXAD interactions",
   "id": "c2e6233858574d61"
  },
  {
   "metadata": {
    "collapsed": true,
    "ExecuteTime": {
     "end_time": "2025-05-23T21:10:22.187106Z",
     "start_time": "2025-05-23T21:10:22.082920Z"
    }
   },
   "cell_type": "code",
   "source": [
    "model_name = \"hexad_outcomes_interactions\"\n",
    "formula = ols_models.get_ols_formula_by_name(model_name)\n",
    "model = ols_models.fit_ols_model(df, formula)\n",
    "\n",
    "# Breusch–Pagan test - heteroscedasticity likely present\n",
    "bp_test = het_breuschpagan(model.resid, model.model.exog)\n",
    "bp_stat, bp_pval, f_stat, f_pval = bp_test\n",
    "\n",
    "print(\"Breusch-Pagan test statistic:\", bp_stat)\n",
    "print(\"p-value:\", bp_pval)\n",
    "\n",
    "# Use robust standard errors\n",
    "robust_model = model.get_robustcov_results(cov_type='HC1')\n"
   ],
   "id": "58ef98ded2303bd5",
   "outputs": [
    {
     "name": "stdout",
     "output_type": "stream",
     "text": [
      "Breusch-Pagan test statistic: 33.39049394158351\n",
      "p-value: 0.00023413087860081554\n"
     ]
    }
   ],
   "execution_count": 84
  },
  {
   "metadata": {
    "ExecuteTime": {
     "end_time": "2025-05-23T21:10:22.317290Z",
     "start_time": "2025-05-23T21:10:22.234210Z"
    }
   },
   "cell_type": "code",
   "source": "print(formula)",
   "id": "6b8ca925c601a0bb",
   "outputs": [
    {
     "name": "stdout",
     "output_type": "stream",
     "text": [
      "\n",
      "            test ~ pre_test\n",
      "            + HEXAD_P + HEXAD_S + HEXAD_F + HEXAD_A + HEXAD_D + HEXAD_R\n",
      "            + HEXAD_F:HEXAD_D + HEXAD_S:HEXAD_P + HEXAD_A:HEXAD_R\n",
      "            \n"
     ]
    }
   ],
   "execution_count": 85
  },
  {
   "metadata": {
    "ExecuteTime": {
     "end_time": "2025-05-23T21:10:22.440981Z",
     "start_time": "2025-05-23T21:10:22.350765Z"
    }
   },
   "cell_type": "code",
   "source": "robust_model.summary()",
   "id": "a13e81fdbd0150c4",
   "outputs": [
    {
     "data": {
      "text/plain": [
       "<class 'statsmodels.iolib.summary.Summary'>\n",
       "\"\"\"\n",
       "                            OLS Regression Results                            \n",
       "==============================================================================\n",
       "Dep. Variable:                   test   R-squared:                       0.186\n",
       "Model:                            OLS   Adj. R-squared:                  0.176\n",
       "Method:                 Least Squares   F-statistic:                     19.76\n",
       "Date:                Fri, 23 May 2025   Prob (F-statistic):           4.32e-33\n",
       "Time:                        17:10:22   Log-Likelihood:                -1146.4\n",
       "No. Observations:                 871   AIC:                             2315.\n",
       "Df Residuals:                     860   BIC:                             2367.\n",
       "Df Model:                          10                                         \n",
       "Covariance Type:                  HC1                                         \n",
       "===================================================================================\n",
       "                      coef    std err          t      P>|t|      [0.025      0.975]\n",
       "-----------------------------------------------------------------------------------\n",
       "Intercept          -0.0093      0.036     -0.258      0.797      -0.080       0.062\n",
       "pre_test            0.4126      0.032     13.008      0.000       0.350       0.475\n",
       "HEXAD_P            -0.0319      0.043     -0.745      0.457      -0.116       0.052\n",
       "HEXAD_S            -0.0014      0.038     -0.036      0.972      -0.076       0.073\n",
       "HEXAD_F             0.0850      0.041      2.049      0.041       0.004       0.166\n",
       "HEXAD_A            -0.0172      0.047     -0.366      0.714      -0.109       0.075\n",
       "HEXAD_D            -0.0794      0.036     -2.235      0.026      -0.149      -0.010\n",
       "HEXAD_R             0.0838      0.042      1.978      0.048       0.001       0.167\n",
       "HEXAD_F:HEXAD_D     0.0838      0.027      3.094      0.002       0.031       0.137\n",
       "HEXAD_S:HEXAD_P     0.0198      0.024      0.831      0.406      -0.027       0.066\n",
       "HEXAD_A:HEXAD_R    -0.0519      0.029     -1.793      0.073      -0.109       0.005\n",
       "==============================================================================\n",
       "Omnibus:                       14.619   Durbin-Watson:                   1.866\n",
       "Prob(Omnibus):                  0.001   Jarque-Bera (JB):               15.017\n",
       "Skew:                          -0.309   Prob(JB):                     0.000549\n",
       "Kurtosis:                       2.825   Cond. No.                         4.03\n",
       "==============================================================================\n",
       "\n",
       "Notes:\n",
       "[1] Standard Errors are heteroscedasticity robust (HC1)\n",
       "\"\"\""
      ],
      "text/html": [
       "<table class=\"simpletable\">\n",
       "<caption>OLS Regression Results</caption>\n",
       "<tr>\n",
       "  <th>Dep. Variable:</th>          <td>test</td>       <th>  R-squared:         </th> <td>   0.186</td>\n",
       "</tr>\n",
       "<tr>\n",
       "  <th>Model:</th>                   <td>OLS</td>       <th>  Adj. R-squared:    </th> <td>   0.176</td>\n",
       "</tr>\n",
       "<tr>\n",
       "  <th>Method:</th>             <td>Least Squares</td>  <th>  F-statistic:       </th> <td>   19.76</td>\n",
       "</tr>\n",
       "<tr>\n",
       "  <th>Date:</th>             <td>Fri, 23 May 2025</td> <th>  Prob (F-statistic):</th> <td>4.32e-33</td>\n",
       "</tr>\n",
       "<tr>\n",
       "  <th>Time:</th>                 <td>17:10:22</td>     <th>  Log-Likelihood:    </th> <td> -1146.4</td>\n",
       "</tr>\n",
       "<tr>\n",
       "  <th>No. Observations:</th>      <td>   871</td>      <th>  AIC:               </th> <td>   2315.</td>\n",
       "</tr>\n",
       "<tr>\n",
       "  <th>Df Residuals:</th>          <td>   860</td>      <th>  BIC:               </th> <td>   2367.</td>\n",
       "</tr>\n",
       "<tr>\n",
       "  <th>Df Model:</th>              <td>    10</td>      <th>                     </th>     <td> </td>   \n",
       "</tr>\n",
       "<tr>\n",
       "  <th>Covariance Type:</th>         <td>HC1</td>       <th>                     </th>     <td> </td>   \n",
       "</tr>\n",
       "</table>\n",
       "<table class=\"simpletable\">\n",
       "<tr>\n",
       "         <td></td>            <th>coef</th>     <th>std err</th>      <th>t</th>      <th>P>|t|</th>  <th>[0.025</th>    <th>0.975]</th>  \n",
       "</tr>\n",
       "<tr>\n",
       "  <th>Intercept</th>       <td>   -0.0093</td> <td>    0.036</td> <td>   -0.258</td> <td> 0.797</td> <td>   -0.080</td> <td>    0.062</td>\n",
       "</tr>\n",
       "<tr>\n",
       "  <th>pre_test</th>        <td>    0.4126</td> <td>    0.032</td> <td>   13.008</td> <td> 0.000</td> <td>    0.350</td> <td>    0.475</td>\n",
       "</tr>\n",
       "<tr>\n",
       "  <th>HEXAD_P</th>         <td>   -0.0319</td> <td>    0.043</td> <td>   -0.745</td> <td> 0.457</td> <td>   -0.116</td> <td>    0.052</td>\n",
       "</tr>\n",
       "<tr>\n",
       "  <th>HEXAD_S</th>         <td>   -0.0014</td> <td>    0.038</td> <td>   -0.036</td> <td> 0.972</td> <td>   -0.076</td> <td>    0.073</td>\n",
       "</tr>\n",
       "<tr>\n",
       "  <th>HEXAD_F</th>         <td>    0.0850</td> <td>    0.041</td> <td>    2.049</td> <td> 0.041</td> <td>    0.004</td> <td>    0.166</td>\n",
       "</tr>\n",
       "<tr>\n",
       "  <th>HEXAD_A</th>         <td>   -0.0172</td> <td>    0.047</td> <td>   -0.366</td> <td> 0.714</td> <td>   -0.109</td> <td>    0.075</td>\n",
       "</tr>\n",
       "<tr>\n",
       "  <th>HEXAD_D</th>         <td>   -0.0794</td> <td>    0.036</td> <td>   -2.235</td> <td> 0.026</td> <td>   -0.149</td> <td>   -0.010</td>\n",
       "</tr>\n",
       "<tr>\n",
       "  <th>HEXAD_R</th>         <td>    0.0838</td> <td>    0.042</td> <td>    1.978</td> <td> 0.048</td> <td>    0.001</td> <td>    0.167</td>\n",
       "</tr>\n",
       "<tr>\n",
       "  <th>HEXAD_F:HEXAD_D</th> <td>    0.0838</td> <td>    0.027</td> <td>    3.094</td> <td> 0.002</td> <td>    0.031</td> <td>    0.137</td>\n",
       "</tr>\n",
       "<tr>\n",
       "  <th>HEXAD_S:HEXAD_P</th> <td>    0.0198</td> <td>    0.024</td> <td>    0.831</td> <td> 0.406</td> <td>   -0.027</td> <td>    0.066</td>\n",
       "</tr>\n",
       "<tr>\n",
       "  <th>HEXAD_A:HEXAD_R</th> <td>   -0.0519</td> <td>    0.029</td> <td>   -1.793</td> <td> 0.073</td> <td>   -0.109</td> <td>    0.005</td>\n",
       "</tr>\n",
       "</table>\n",
       "<table class=\"simpletable\">\n",
       "<tr>\n",
       "  <th>Omnibus:</th>       <td>14.619</td> <th>  Durbin-Watson:     </th> <td>   1.866</td>\n",
       "</tr>\n",
       "<tr>\n",
       "  <th>Prob(Omnibus):</th> <td> 0.001</td> <th>  Jarque-Bera (JB):  </th> <td>  15.017</td>\n",
       "</tr>\n",
       "<tr>\n",
       "  <th>Skew:</th>          <td>-0.309</td> <th>  Prob(JB):          </th> <td>0.000549</td>\n",
       "</tr>\n",
       "<tr>\n",
       "  <th>Kurtosis:</th>      <td> 2.825</td> <th>  Cond. No.          </th> <td>    4.03</td>\n",
       "</tr>\n",
       "</table><br/><br/>Notes:<br/>[1] Standard Errors are heteroscedasticity robust (HC1)"
      ],
      "text/latex": "\\begin{center}\n\\begin{tabular}{lclc}\n\\toprule\n\\textbf{Dep. Variable:}    &       test       & \\textbf{  R-squared:         } &     0.186   \\\\\n\\textbf{Model:}            &       OLS        & \\textbf{  Adj. R-squared:    } &     0.176   \\\\\n\\textbf{Method:}           &  Least Squares   & \\textbf{  F-statistic:       } &     19.76   \\\\\n\\textbf{Date:}             & Fri, 23 May 2025 & \\textbf{  Prob (F-statistic):} &  4.32e-33   \\\\\n\\textbf{Time:}             &     17:10:22     & \\textbf{  Log-Likelihood:    } &   -1146.4   \\\\\n\\textbf{No. Observations:} &         871      & \\textbf{  AIC:               } &     2315.   \\\\\n\\textbf{Df Residuals:}     &         860      & \\textbf{  BIC:               } &     2367.   \\\\\n\\textbf{Df Model:}         &          10      & \\textbf{                     } &             \\\\\n\\textbf{Covariance Type:}  &       HC1        & \\textbf{                     } &             \\\\\n\\bottomrule\n\\end{tabular}\n\\begin{tabular}{lcccccc}\n                           & \\textbf{coef} & \\textbf{std err} & \\textbf{t} & \\textbf{P$> |$t$|$} & \\textbf{[0.025} & \\textbf{0.975]}  \\\\\n\\midrule\n\\textbf{Intercept}         &      -0.0093  &        0.036     &    -0.258  &         0.797        &       -0.080    &        0.062     \\\\\n\\textbf{pre\\_test}         &       0.4126  &        0.032     &    13.008  &         0.000        &        0.350    &        0.475     \\\\\n\\textbf{HEXAD\\_P}          &      -0.0319  &        0.043     &    -0.745  &         0.457        &       -0.116    &        0.052     \\\\\n\\textbf{HEXAD\\_S}          &      -0.0014  &        0.038     &    -0.036  &         0.972        &       -0.076    &        0.073     \\\\\n\\textbf{HEXAD\\_F}          &       0.0850  &        0.041     &     2.049  &         0.041        &        0.004    &        0.166     \\\\\n\\textbf{HEXAD\\_A}          &      -0.0172  &        0.047     &    -0.366  &         0.714        &       -0.109    &        0.075     \\\\\n\\textbf{HEXAD\\_D}          &      -0.0794  &        0.036     &    -2.235  &         0.026        &       -0.149    &       -0.010     \\\\\n\\textbf{HEXAD\\_R}          &       0.0838  &        0.042     &     1.978  &         0.048        &        0.001    &        0.167     \\\\\n\\textbf{HEXAD\\_F:HEXAD\\_D} &       0.0838  &        0.027     &     3.094  &         0.002        &        0.031    &        0.137     \\\\\n\\textbf{HEXAD\\_S:HEXAD\\_P} &       0.0198  &        0.024     &     0.831  &         0.406        &       -0.027    &        0.066     \\\\\n\\textbf{HEXAD\\_A:HEXAD\\_R} &      -0.0519  &        0.029     &    -1.793  &         0.073        &       -0.109    &        0.005     \\\\\n\\bottomrule\n\\end{tabular}\n\\begin{tabular}{lclc}\n\\textbf{Omnibus:}       & 14.619 & \\textbf{  Durbin-Watson:     } &    1.866  \\\\\n\\textbf{Prob(Omnibus):} &  0.001 & \\textbf{  Jarque-Bera (JB):  } &   15.017  \\\\\n\\textbf{Skew:}          & -0.309 & \\textbf{  Prob(JB):          } & 0.000549  \\\\\n\\textbf{Kurtosis:}      &  2.825 & \\textbf{  Cond. No.          } &     4.03  \\\\\n\\bottomrule\n\\end{tabular}\n%\\caption{OLS Regression Results}\n\\end{center}\n\nNotes: \\newline\n [1] Standard Errors are heteroscedasticity robust (HC1)"
     },
     "execution_count": 86,
     "metadata": {},
     "output_type": "execute_result"
    }
   ],
   "execution_count": 86
  },
  {
   "metadata": {},
   "cell_type": "markdown",
   "source": "## Regularity - days",
   "id": "e10af13bf754a793"
  },
  {
   "metadata": {
    "collapsed": true,
    "ExecuteTime": {
     "end_time": "2025-05-23T21:10:22.589001Z",
     "start_time": "2025-05-23T21:10:22.479949Z"
    }
   },
   "cell_type": "code",
   "source": [
    "model_name = \"regularity_day_main\"\n",
    "formula = ols_models.get_ols_formula_by_name(model_name)\n",
    "model = ols_models.fit_ols_model(df, formula)"
   ],
   "id": "10ed3ac1ebdb8f2d",
   "outputs": [],
   "execution_count": 87
  },
  {
   "metadata": {
    "ExecuteTime": {
     "end_time": "2025-05-23T21:10:22.706990Z",
     "start_time": "2025-05-23T21:10:22.624401Z"
    }
   },
   "cell_type": "code",
   "source": "formula",
   "id": "b13d245e2408548a",
   "outputs": [
    {
     "data": {
      "text/plain": [
       "'test ~ pre_test + entropy_day + burstiness_day + gini_day'"
      ]
     },
     "execution_count": 88,
     "metadata": {},
     "output_type": "execute_result"
    }
   ],
   "execution_count": 88
  },
  {
   "metadata": {
    "ExecuteTime": {
     "end_time": "2025-05-23T21:10:22.830893Z",
     "start_time": "2025-05-23T21:10:22.740942Z"
    }
   },
   "cell_type": "code",
   "source": "model.summary()",
   "id": "9713229619ad0574",
   "outputs": [
    {
     "data": {
      "text/plain": [
       "<class 'statsmodels.iolib.summary.Summary'>\n",
       "\"\"\"\n",
       "                            OLS Regression Results                            \n",
       "==============================================================================\n",
       "Dep. Variable:                   test   R-squared:                       0.218\n",
       "Model:                            OLS   Adj. R-squared:                  0.214\n",
       "Method:                 Least Squares   F-statistic:                     53.88\n",
       "Date:                Fri, 23 May 2025   Prob (F-statistic):           4.61e-40\n",
       "Time:                        17:10:22   Log-Likelihood:                -1007.8\n",
       "No. Observations:                 776   AIC:                             2026.\n",
       "Df Residuals:                     771   BIC:                             2049.\n",
       "Df Model:                           4                                         \n",
       "Covariance Type:            nonrobust                                         \n",
       "==================================================================================\n",
       "                     coef    std err          t      P>|t|      [0.025      0.975]\n",
       "----------------------------------------------------------------------------------\n",
       "Intercept          0.0388      0.032      1.210      0.227      -0.024       0.102\n",
       "pre_test           0.4983      0.035     14.403      0.000       0.430       0.566\n",
       "entropy_day        0.2545      0.041      6.184      0.000       0.174       0.335\n",
       "burstiness_day     0.0004      0.163      0.003      0.998      -0.319       0.320\n",
       "gini_day          -0.0159      0.159     -0.100      0.921      -0.328       0.296\n",
       "==============================================================================\n",
       "Omnibus:                        9.414   Durbin-Watson:                   1.891\n",
       "Prob(Omnibus):                  0.009   Jarque-Bera (JB):                9.367\n",
       "Skew:                          -0.245   Prob(JB):                      0.00925\n",
       "Kurtosis:                       2.777   Cond. No.                         11.3\n",
       "==============================================================================\n",
       "\n",
       "Notes:\n",
       "[1] Standard Errors assume that the covariance matrix of the errors is correctly specified.\n",
       "\"\"\""
      ],
      "text/html": [
       "<table class=\"simpletable\">\n",
       "<caption>OLS Regression Results</caption>\n",
       "<tr>\n",
       "  <th>Dep. Variable:</th>          <td>test</td>       <th>  R-squared:         </th> <td>   0.218</td>\n",
       "</tr>\n",
       "<tr>\n",
       "  <th>Model:</th>                   <td>OLS</td>       <th>  Adj. R-squared:    </th> <td>   0.214</td>\n",
       "</tr>\n",
       "<tr>\n",
       "  <th>Method:</th>             <td>Least Squares</td>  <th>  F-statistic:       </th> <td>   53.88</td>\n",
       "</tr>\n",
       "<tr>\n",
       "  <th>Date:</th>             <td>Fri, 23 May 2025</td> <th>  Prob (F-statistic):</th> <td>4.61e-40</td>\n",
       "</tr>\n",
       "<tr>\n",
       "  <th>Time:</th>                 <td>17:10:22</td>     <th>  Log-Likelihood:    </th> <td> -1007.8</td>\n",
       "</tr>\n",
       "<tr>\n",
       "  <th>No. Observations:</th>      <td>   776</td>      <th>  AIC:               </th> <td>   2026.</td>\n",
       "</tr>\n",
       "<tr>\n",
       "  <th>Df Residuals:</th>          <td>   771</td>      <th>  BIC:               </th> <td>   2049.</td>\n",
       "</tr>\n",
       "<tr>\n",
       "  <th>Df Model:</th>              <td>     4</td>      <th>                     </th>     <td> </td>   \n",
       "</tr>\n",
       "<tr>\n",
       "  <th>Covariance Type:</th>      <td>nonrobust</td>    <th>                     </th>     <td> </td>   \n",
       "</tr>\n",
       "</table>\n",
       "<table class=\"simpletable\">\n",
       "<tr>\n",
       "         <td></td>           <th>coef</th>     <th>std err</th>      <th>t</th>      <th>P>|t|</th>  <th>[0.025</th>    <th>0.975]</th>  \n",
       "</tr>\n",
       "<tr>\n",
       "  <th>Intercept</th>      <td>    0.0388</td> <td>    0.032</td> <td>    1.210</td> <td> 0.227</td> <td>   -0.024</td> <td>    0.102</td>\n",
       "</tr>\n",
       "<tr>\n",
       "  <th>pre_test</th>       <td>    0.4983</td> <td>    0.035</td> <td>   14.403</td> <td> 0.000</td> <td>    0.430</td> <td>    0.566</td>\n",
       "</tr>\n",
       "<tr>\n",
       "  <th>entropy_day</th>    <td>    0.2545</td> <td>    0.041</td> <td>    6.184</td> <td> 0.000</td> <td>    0.174</td> <td>    0.335</td>\n",
       "</tr>\n",
       "<tr>\n",
       "  <th>burstiness_day</th> <td>    0.0004</td> <td>    0.163</td> <td>    0.003</td> <td> 0.998</td> <td>   -0.319</td> <td>    0.320</td>\n",
       "</tr>\n",
       "<tr>\n",
       "  <th>gini_day</th>       <td>   -0.0159</td> <td>    0.159</td> <td>   -0.100</td> <td> 0.921</td> <td>   -0.328</td> <td>    0.296</td>\n",
       "</tr>\n",
       "</table>\n",
       "<table class=\"simpletable\">\n",
       "<tr>\n",
       "  <th>Omnibus:</th>       <td> 9.414</td> <th>  Durbin-Watson:     </th> <td>   1.891</td>\n",
       "</tr>\n",
       "<tr>\n",
       "  <th>Prob(Omnibus):</th> <td> 0.009</td> <th>  Jarque-Bera (JB):  </th> <td>   9.367</td>\n",
       "</tr>\n",
       "<tr>\n",
       "  <th>Skew:</th>          <td>-0.245</td> <th>  Prob(JB):          </th> <td> 0.00925</td>\n",
       "</tr>\n",
       "<tr>\n",
       "  <th>Kurtosis:</th>      <td> 2.777</td> <th>  Cond. No.          </th> <td>    11.3</td>\n",
       "</tr>\n",
       "</table><br/><br/>Notes:<br/>[1] Standard Errors assume that the covariance matrix of the errors is correctly specified."
      ],
      "text/latex": "\\begin{center}\n\\begin{tabular}{lclc}\n\\toprule\n\\textbf{Dep. Variable:}    &       test       & \\textbf{  R-squared:         } &     0.218   \\\\\n\\textbf{Model:}            &       OLS        & \\textbf{  Adj. R-squared:    } &     0.214   \\\\\n\\textbf{Method:}           &  Least Squares   & \\textbf{  F-statistic:       } &     53.88   \\\\\n\\textbf{Date:}             & Fri, 23 May 2025 & \\textbf{  Prob (F-statistic):} &  4.61e-40   \\\\\n\\textbf{Time:}             &     17:10:22     & \\textbf{  Log-Likelihood:    } &   -1007.8   \\\\\n\\textbf{No. Observations:} &         776      & \\textbf{  AIC:               } &     2026.   \\\\\n\\textbf{Df Residuals:}     &         771      & \\textbf{  BIC:               } &     2049.   \\\\\n\\textbf{Df Model:}         &           4      & \\textbf{                     } &             \\\\\n\\textbf{Covariance Type:}  &    nonrobust     & \\textbf{                     } &             \\\\\n\\bottomrule\n\\end{tabular}\n\\begin{tabular}{lcccccc}\n                         & \\textbf{coef} & \\textbf{std err} & \\textbf{t} & \\textbf{P$> |$t$|$} & \\textbf{[0.025} & \\textbf{0.975]}  \\\\\n\\midrule\n\\textbf{Intercept}       &       0.0388  &        0.032     &     1.210  &         0.227        &       -0.024    &        0.102     \\\\\n\\textbf{pre\\_test}       &       0.4983  &        0.035     &    14.403  &         0.000        &        0.430    &        0.566     \\\\\n\\textbf{entropy\\_day}    &       0.2545  &        0.041     &     6.184  &         0.000        &        0.174    &        0.335     \\\\\n\\textbf{burstiness\\_day} &       0.0004  &        0.163     &     0.003  &         0.998        &       -0.319    &        0.320     \\\\\n\\textbf{gini\\_day}       &      -0.0159  &        0.159     &    -0.100  &         0.921        &       -0.328    &        0.296     \\\\\n\\bottomrule\n\\end{tabular}\n\\begin{tabular}{lclc}\n\\textbf{Omnibus:}       &  9.414 & \\textbf{  Durbin-Watson:     } &    1.891  \\\\\n\\textbf{Prob(Omnibus):} &  0.009 & \\textbf{  Jarque-Bera (JB):  } &    9.367  \\\\\n\\textbf{Skew:}          & -0.245 & \\textbf{  Prob(JB):          } &  0.00925  \\\\\n\\textbf{Kurtosis:}      &  2.777 & \\textbf{  Cond. No.          } &     11.3  \\\\\n\\bottomrule\n\\end{tabular}\n%\\caption{OLS Regression Results}\n\\end{center}\n\nNotes: \\newline\n [1] Standard Errors assume that the covariance matrix of the errors is correctly specified."
     },
     "execution_count": 89,
     "metadata": {},
     "output_type": "execute_result"
    }
   ],
   "execution_count": 89
  },
  {
   "metadata": {},
   "cell_type": "markdown",
   "source": "## Regularity - weeks",
   "id": "358e47f725b1b6f5"
  },
  {
   "metadata": {
    "collapsed": true,
    "ExecuteTime": {
     "end_time": "2025-05-23T21:10:22.993196Z",
     "start_time": "2025-05-23T21:10:22.901666Z"
    }
   },
   "cell_type": "code",
   "source": [
    "model_name = \"regularity_week_main\"\n",
    "formula = ols_models.get_ols_formula_by_name(model_name)\n",
    "model = ols_models.fit_ols_model(df, formula)"
   ],
   "id": "fce2e63900a8fc0e",
   "outputs": [],
   "execution_count": 90
  },
  {
   "metadata": {
    "ExecuteTime": {
     "end_time": "2025-05-23T21:10:23.062611Z",
     "start_time": "2025-05-23T21:10:22.998856Z"
    }
   },
   "cell_type": "code",
   "source": "formula",
   "id": "2b011430d9d0e4f1",
   "outputs": [
    {
     "data": {
      "text/plain": [
       "'test ~ pre_test + entropy_week + burstiness_week + gini_week'"
      ]
     },
     "execution_count": 91,
     "metadata": {},
     "output_type": "execute_result"
    }
   ],
   "execution_count": 91
  },
  {
   "metadata": {
    "ExecuteTime": {
     "end_time": "2025-05-23T21:10:23.170599Z",
     "start_time": "2025-05-23T21:10:23.088077Z"
    }
   },
   "cell_type": "code",
   "source": "model.summary()",
   "id": "a5279f29b87ab678",
   "outputs": [
    {
     "data": {
      "text/plain": [
       "<class 'statsmodels.iolib.summary.Summary'>\n",
       "\"\"\"\n",
       "                            OLS Regression Results                            \n",
       "==============================================================================\n",
       "Dep. Variable:                   test   R-squared:                       0.214\n",
       "Model:                            OLS   Adj. R-squared:                  0.210\n",
       "Method:                 Least Squares   F-statistic:                     52.43\n",
       "Date:                Fri, 23 May 2025   Prob (F-statistic):           4.34e-39\n",
       "Time:                        17:10:23   Log-Likelihood:                -1010.1\n",
       "No. Observations:                 776   AIC:                             2030.\n",
       "Df Residuals:                     771   BIC:                             2053.\n",
       "Df Model:                           4                                         \n",
       "Covariance Type:            nonrobust                                         \n",
       "===================================================================================\n",
       "                      coef    std err          t      P>|t|      [0.025      0.975]\n",
       "-----------------------------------------------------------------------------------\n",
       "Intercept           0.0367      0.032      1.142      0.254      -0.026       0.100\n",
       "pre_test            0.4702      0.034     13.847      0.000       0.404       0.537\n",
       "entropy_week        0.2523      0.046      5.534      0.000       0.163       0.342\n",
       "burstiness_week     0.0298      0.049      0.611      0.541      -0.066       0.125\n",
       "gini_week          -0.0447      0.053     -0.840      0.401      -0.149       0.060\n",
       "==============================================================================\n",
       "Omnibus:                        9.672   Durbin-Watson:                   1.888\n",
       "Prob(Omnibus):                  0.008   Jarque-Bera (JB):                9.546\n",
       "Skew:                          -0.244   Prob(JB):                      0.00846\n",
       "Kurtosis:                       2.762   Cond. No.                         3.15\n",
       "==============================================================================\n",
       "\n",
       "Notes:\n",
       "[1] Standard Errors assume that the covariance matrix of the errors is correctly specified.\n",
       "\"\"\""
      ],
      "text/html": [
       "<table class=\"simpletable\">\n",
       "<caption>OLS Regression Results</caption>\n",
       "<tr>\n",
       "  <th>Dep. Variable:</th>          <td>test</td>       <th>  R-squared:         </th> <td>   0.214</td>\n",
       "</tr>\n",
       "<tr>\n",
       "  <th>Model:</th>                   <td>OLS</td>       <th>  Adj. R-squared:    </th> <td>   0.210</td>\n",
       "</tr>\n",
       "<tr>\n",
       "  <th>Method:</th>             <td>Least Squares</td>  <th>  F-statistic:       </th> <td>   52.43</td>\n",
       "</tr>\n",
       "<tr>\n",
       "  <th>Date:</th>             <td>Fri, 23 May 2025</td> <th>  Prob (F-statistic):</th> <td>4.34e-39</td>\n",
       "</tr>\n",
       "<tr>\n",
       "  <th>Time:</th>                 <td>17:10:23</td>     <th>  Log-Likelihood:    </th> <td> -1010.1</td>\n",
       "</tr>\n",
       "<tr>\n",
       "  <th>No. Observations:</th>      <td>   776</td>      <th>  AIC:               </th> <td>   2030.</td>\n",
       "</tr>\n",
       "<tr>\n",
       "  <th>Df Residuals:</th>          <td>   771</td>      <th>  BIC:               </th> <td>   2053.</td>\n",
       "</tr>\n",
       "<tr>\n",
       "  <th>Df Model:</th>              <td>     4</td>      <th>                     </th>     <td> </td>   \n",
       "</tr>\n",
       "<tr>\n",
       "  <th>Covariance Type:</th>      <td>nonrobust</td>    <th>                     </th>     <td> </td>   \n",
       "</tr>\n",
       "</table>\n",
       "<table class=\"simpletable\">\n",
       "<tr>\n",
       "         <td></td>            <th>coef</th>     <th>std err</th>      <th>t</th>      <th>P>|t|</th>  <th>[0.025</th>    <th>0.975]</th>  \n",
       "</tr>\n",
       "<tr>\n",
       "  <th>Intercept</th>       <td>    0.0367</td> <td>    0.032</td> <td>    1.142</td> <td> 0.254</td> <td>   -0.026</td> <td>    0.100</td>\n",
       "</tr>\n",
       "<tr>\n",
       "  <th>pre_test</th>        <td>    0.4702</td> <td>    0.034</td> <td>   13.847</td> <td> 0.000</td> <td>    0.404</td> <td>    0.537</td>\n",
       "</tr>\n",
       "<tr>\n",
       "  <th>entropy_week</th>    <td>    0.2523</td> <td>    0.046</td> <td>    5.534</td> <td> 0.000</td> <td>    0.163</td> <td>    0.342</td>\n",
       "</tr>\n",
       "<tr>\n",
       "  <th>burstiness_week</th> <td>    0.0298</td> <td>    0.049</td> <td>    0.611</td> <td> 0.541</td> <td>   -0.066</td> <td>    0.125</td>\n",
       "</tr>\n",
       "<tr>\n",
       "  <th>gini_week</th>       <td>   -0.0447</td> <td>    0.053</td> <td>   -0.840</td> <td> 0.401</td> <td>   -0.149</td> <td>    0.060</td>\n",
       "</tr>\n",
       "</table>\n",
       "<table class=\"simpletable\">\n",
       "<tr>\n",
       "  <th>Omnibus:</th>       <td> 9.672</td> <th>  Durbin-Watson:     </th> <td>   1.888</td>\n",
       "</tr>\n",
       "<tr>\n",
       "  <th>Prob(Omnibus):</th> <td> 0.008</td> <th>  Jarque-Bera (JB):  </th> <td>   9.546</td>\n",
       "</tr>\n",
       "<tr>\n",
       "  <th>Skew:</th>          <td>-0.244</td> <th>  Prob(JB):          </th> <td> 0.00846</td>\n",
       "</tr>\n",
       "<tr>\n",
       "  <th>Kurtosis:</th>      <td> 2.762</td> <th>  Cond. No.          </th> <td>    3.15</td>\n",
       "</tr>\n",
       "</table><br/><br/>Notes:<br/>[1] Standard Errors assume that the covariance matrix of the errors is correctly specified."
      ],
      "text/latex": "\\begin{center}\n\\begin{tabular}{lclc}\n\\toprule\n\\textbf{Dep. Variable:}    &       test       & \\textbf{  R-squared:         } &     0.214   \\\\\n\\textbf{Model:}            &       OLS        & \\textbf{  Adj. R-squared:    } &     0.210   \\\\\n\\textbf{Method:}           &  Least Squares   & \\textbf{  F-statistic:       } &     52.43   \\\\\n\\textbf{Date:}             & Fri, 23 May 2025 & \\textbf{  Prob (F-statistic):} &  4.34e-39   \\\\\n\\textbf{Time:}             &     17:10:23     & \\textbf{  Log-Likelihood:    } &   -1010.1   \\\\\n\\textbf{No. Observations:} &         776      & \\textbf{  AIC:               } &     2030.   \\\\\n\\textbf{Df Residuals:}     &         771      & \\textbf{  BIC:               } &     2053.   \\\\\n\\textbf{Df Model:}         &           4      & \\textbf{                     } &             \\\\\n\\textbf{Covariance Type:}  &    nonrobust     & \\textbf{                     } &             \\\\\n\\bottomrule\n\\end{tabular}\n\\begin{tabular}{lcccccc}\n                          & \\textbf{coef} & \\textbf{std err} & \\textbf{t} & \\textbf{P$> |$t$|$} & \\textbf{[0.025} & \\textbf{0.975]}  \\\\\n\\midrule\n\\textbf{Intercept}        &       0.0367  &        0.032     &     1.142  &         0.254        &       -0.026    &        0.100     \\\\\n\\textbf{pre\\_test}        &       0.4702  &        0.034     &    13.847  &         0.000        &        0.404    &        0.537     \\\\\n\\textbf{entropy\\_week}    &       0.2523  &        0.046     &     5.534  &         0.000        &        0.163    &        0.342     \\\\\n\\textbf{burstiness\\_week} &       0.0298  &        0.049     &     0.611  &         0.541        &       -0.066    &        0.125     \\\\\n\\textbf{gini\\_week}       &      -0.0447  &        0.053     &    -0.840  &         0.401        &       -0.149    &        0.060     \\\\\n\\bottomrule\n\\end{tabular}\n\\begin{tabular}{lclc}\n\\textbf{Omnibus:}       &  9.672 & \\textbf{  Durbin-Watson:     } &    1.888  \\\\\n\\textbf{Prob(Omnibus):} &  0.008 & \\textbf{  Jarque-Bera (JB):  } &    9.546  \\\\\n\\textbf{Skew:}          & -0.244 & \\textbf{  Prob(JB):          } &  0.00846  \\\\\n\\textbf{Kurtosis:}      &  2.762 & \\textbf{  Cond. No.          } &     3.15  \\\\\n\\bottomrule\n\\end{tabular}\n%\\caption{OLS Regression Results}\n\\end{center}\n\nNotes: \\newline\n [1] Standard Errors assume that the covariance matrix of the errors is correctly specified."
     },
     "execution_count": 92,
     "metadata": {},
     "output_type": "execute_result"
    }
   ],
   "execution_count": 92
  }
 ],
 "metadata": {
  "kernelspec": {
   "display_name": "Python 3",
   "language": "python",
   "name": "python3"
  },
  "language_info": {
   "codemirror_mode": {
    "name": "ipython",
    "version": 2
   },
   "file_extension": ".py",
   "mimetype": "text/x-python",
   "name": "python",
   "nbconvert_exporter": "python",
   "pygments_lexer": "ipython2",
   "version": "2.7.6"
  }
 },
 "nbformat": 4,
 "nbformat_minor": 5
}
