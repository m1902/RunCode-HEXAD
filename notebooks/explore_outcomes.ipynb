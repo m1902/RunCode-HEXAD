{
 "cells": [
  {
   "metadata": {},
   "cell_type": "markdown",
   "source": [
    "## HEXAD vs outcomes and regularity vs outcomes\n",
    "\n",
    "Impact of HEXAD and regularity on outcomes"
   ],
   "id": "69b0d3a9b07eb1d5"
  },
  {
   "metadata": {},
   "cell_type": "code",
   "source": [
    "%load_ext autoreload\n",
    "%autoreload 2\n",
    "\n",
    "import sys\n",
    "sys.path.append(\"..\")\n",
    "\n",
    "import pandas as pd\n",
    "from statsmodels.stats.diagnostic import het_breuschpagan\n",
    "import src.modeling.ols_model as ols_models\n",
    "\n",
    "# Load and scale data\n",
    "df = pd.read_csv(\"../data/preprocessed/student_time_features_2021_2024.csv\")\n",
    "scale_cols = [\n",
    "    'pre_test', 'test',\n",
    "    'entropy_day', 'entropy_week', 'gini_day', 'gini_week', 'burstiness_day', 'burstiness_week',\n",
    "    'HEXAD_P', 'HEXAD_S', 'HEXAD_F', 'HEXAD_A', 'HEXAD_D', 'HEXAD_R'\n",
    "]\n",
    "df = ols_models.standardize_columns(df, scale_cols)"
   ],
   "id": "be1cc321cf33b8fa",
   "outputs": [],
   "execution_count": null
  },
  {
   "metadata": {},
   "cell_type": "markdown",
   "source": "## Final test",
   "id": "d028fa358d0048e4"
  },
  {
   "metadata": {
    "collapsed": true
   },
   "cell_type": "code",
   "source": [
    "model_name = \"hexad_outcomes_main\"\n",
    "formula = ols_models.get_ols_formula_by_name(model_name)\n",
    "model = ols_models.fit_ols_model(df, formula)\n",
    "\n",
    "# Breusch–Pagan test - heteroscedasticity likely present\n",
    "bp_test = het_breuschpagan(model.resid, model.model.exog)\n",
    "bp_stat, bp_pval, f_stat, f_pval = bp_test\n",
    "\n",
    "print(\"Breusch-Pagan test statistic:\", bp_stat)\n",
    "print(\"p-value:\", bp_pval)\n",
    "\n",
    "# Use robust standard errors\n",
    "robust_model = model.get_robustcov_results(cov_type='HC1')\n"
   ],
   "id": "initial_id",
   "outputs": [],
   "execution_count": null
  },
  {
   "metadata": {},
   "cell_type": "code",
   "source": "formula",
   "id": "9a41b4d69d60ad1e",
   "outputs": [],
   "execution_count": null
  },
  {
   "metadata": {},
   "cell_type": "code",
   "source": "robust_model.summary()",
   "id": "810790bc0d920589",
   "outputs": [],
   "execution_count": null
  },
  {
   "metadata": {},
   "cell_type": "markdown",
   "source": "## Final outcomes - HEXAD interactions",
   "id": "c2e6233858574d61"
  },
  {
   "metadata": {
    "collapsed": true
   },
   "cell_type": "code",
   "source": [
    "model_name = \"hexad_outcomes_interactions\"\n",
    "formula = ols_models.get_ols_formula_by_name(model_name)\n",
    "model = ols_models.fit_ols_model(df, formula)\n",
    "\n",
    "# Breusch–Pagan test - heteroscedasticity likely present\n",
    "bp_test = het_breuschpagan(model.resid, model.model.exog)\n",
    "bp_stat, bp_pval, f_stat, f_pval = bp_test\n",
    "\n",
    "print(\"Breusch-Pagan test statistic:\", bp_stat)\n",
    "print(\"p-value:\", bp_pval)\n",
    "\n",
    "# Use robust standard errors\n",
    "robust_model = model.get_robustcov_results(cov_type='HC1')\n"
   ],
   "id": "58ef98ded2303bd5",
   "outputs": [],
   "execution_count": null
  },
  {
   "metadata": {},
   "cell_type": "code",
   "source": "print(formula)",
   "id": "6b8ca925c601a0bb",
   "outputs": [],
   "execution_count": null
  },
  {
   "metadata": {},
   "cell_type": "code",
   "source": "robust_model.summary()",
   "id": "a13e81fdbd0150c4",
   "outputs": [],
   "execution_count": null
  },
  {
   "metadata": {},
   "cell_type": "markdown",
   "source": "## Regularity - days",
   "id": "e10af13bf754a793"
  },
  {
   "metadata": {
    "collapsed": true
   },
   "cell_type": "code",
   "source": [
    "model_name = \"regularity_day_main\"\n",
    "formula = ols_models.get_ols_formula_by_name(model_name)\n",
    "model = ols_models.fit_ols_model(df, formula)"
   ],
   "id": "10ed3ac1ebdb8f2d",
   "outputs": [],
   "execution_count": null
  },
  {
   "metadata": {},
   "cell_type": "code",
   "source": "formula",
   "id": "b13d245e2408548a",
   "outputs": [],
   "execution_count": null
  },
  {
   "metadata": {},
   "cell_type": "code",
   "source": "model.summary()",
   "id": "9713229619ad0574",
   "outputs": [],
   "execution_count": null
  },
  {
   "metadata": {},
   "cell_type": "markdown",
   "source": "## Regularity - weeks",
   "id": "358e47f725b1b6f5"
  },
  {
   "metadata": {
    "collapsed": true
   },
   "cell_type": "code",
   "source": [
    "model_name = \"regularity_week_main\"\n",
    "formula = ols_models.get_ols_formula_by_name(model_name)\n",
    "model = ols_models.fit_ols_model(df, formula)"
   ],
   "id": "fce2e63900a8fc0e",
   "outputs": [],
   "execution_count": null
  },
  {
   "metadata": {},
   "cell_type": "code",
   "source": "formula",
   "id": "2b011430d9d0e4f1",
   "outputs": [],
   "execution_count": null
  },
  {
   "metadata": {},
   "cell_type": "code",
   "source": "model.summary()",
   "id": "a5279f29b87ab678",
   "outputs": [],
   "execution_count": null
  }
 ],
 "metadata": {
  "kernelspec": {
   "display_name": "Python 3",
   "language": "python",
   "name": "python3"
  },
  "language_info": {
   "codemirror_mode": {
    "name": "ipython",
    "version": 2
   },
   "file_extension": ".py",
   "mimetype": "text/x-python",
   "name": "python",
   "nbconvert_exporter": "python",
   "pygments_lexer": "ipython2",
   "version": "2.7.6"
  }
 },
 "nbformat": 4,
 "nbformat_minor": 5
}
