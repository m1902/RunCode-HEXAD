{
 "cells": [
  {
   "metadata": {},
   "cell_type": "markdown",
   "source": "## Explore the impact of regularity",
   "id": "69b0d3a9b07eb1d5"
  },
  {
   "metadata": {
    "ExecuteTime": {
     "end_time": "2025-05-23T21:10:29.219991Z",
     "start_time": "2025-05-23T21:10:29.124626Z"
    }
   },
   "cell_type": "code",
   "source": [
    "%load_ext autoreload\n",
    "%autoreload 2\n",
    "\n",
    "import sys\n",
    "sys.path.append(\"..\")\n",
    "\n",
    "import pandas as pd\n",
    "import src.modeling.ols_model as ols_models\n",
    "\n",
    "# Load and scale data\n",
    "df = pd.read_csv(\"../data/preprocessed/student_time_features_2021_2024.csv\")\n",
    "scale_cols = [\n",
    "    'pre_test', 'test',\n",
    "    'entropy_day', 'entropy_week', 'gini_day', 'gini_week', 'burstiness_day', 'burstiness_week',\n",
    "    'HEXAD_P', 'HEXAD_S', 'HEXAD_F', 'HEXAD_A', 'HEXAD_D', 'HEXAD_R'\n",
    "]\n",
    "df = ols_models.standardize_columns(df, scale_cols)"
   ],
   "id": "be1cc321cf33b8fa",
   "outputs": [
    {
     "name": "stdout",
     "output_type": "stream",
     "text": [
      "The autoreload extension is already loaded. To reload it, use:\n",
      "  %reload_ext autoreload\n"
     ]
    }
   ],
   "execution_count": 93
  },
  {
   "metadata": {},
   "cell_type": "markdown",
   "source": [
    "## Entropy (week) - HEXAD\n",
    "\n",
    "This model examines how students’ HEXAD traits and prior knowledge relate to the distribution (entropy) of their activity across weeks. It helps identify which traits are associated with more consistent versus more irregular weekly engagement patterns."
   ],
   "id": "d028fa358d0048e4"
  },
  {
   "metadata": {
    "collapsed": true,
    "ExecuteTime": {
     "end_time": "2025-05-23T21:10:29.355099Z",
     "start_time": "2025-05-23T21:10:29.268561Z"
    }
   },
   "cell_type": "code",
   "source": [
    "model_name = \"entropy_week_main\"\n",
    "formula = ols_models.get_ols_formula_by_name(model_name)\n",
    "model = ols_models.fit_ols_model(df, formula)"
   ],
   "id": "initial_id",
   "outputs": [],
   "execution_count": 94
  },
  {
   "metadata": {
    "ExecuteTime": {
     "end_time": "2025-05-23T21:10:29.421073Z",
     "start_time": "2025-05-23T21:10:29.360263Z"
    }
   },
   "cell_type": "code",
   "source": "formula",
   "id": "9a41b4d69d60ad1e",
   "outputs": [
    {
     "data": {
      "text/plain": [
       "'entropy_week ~ pre_test + HEXAD_P + HEXAD_S + HEXAD_F + HEXAD_A + HEXAD_D + HEXAD_R'"
      ]
     },
     "execution_count": 95,
     "metadata": {},
     "output_type": "execute_result"
    }
   ],
   "execution_count": 95
  },
  {
   "metadata": {
    "ExecuteTime": {
     "end_time": "2025-05-23T21:10:29.580362Z",
     "start_time": "2025-05-23T21:10:29.488131Z"
    }
   },
   "cell_type": "code",
   "source": "model.summary()",
   "id": "810790bc0d920589",
   "outputs": [
    {
     "data": {
      "text/plain": [
       "<class 'statsmodels.iolib.summary.Summary'>\n",
       "\"\"\"\n",
       "                            OLS Regression Results                            \n",
       "==============================================================================\n",
       "Dep. Variable:           entropy_week   R-squared:                       0.101\n",
       "Model:                            OLS   Adj. R-squared:                  0.092\n",
       "Method:                 Least Squares   F-statistic:                     12.28\n",
       "Date:                Fri, 23 May 2025   Prob (F-statistic):           6.08e-15\n",
       "Time:                        17:10:29   Log-Likelihood:                -1059.9\n",
       "No. Observations:                 776   AIC:                             2136.\n",
       "Df Residuals:                     768   BIC:                             2173.\n",
       "Df Model:                           7                                         \n",
       "Covariance Type:            nonrobust                                         \n",
       "==============================================================================\n",
       "                 coef    std err          t      P>|t|      [0.025      0.975]\n",
       "------------------------------------------------------------------------------\n",
       "Intercept     -0.0333      0.034     -0.966      0.334      -0.101       0.034\n",
       "pre_test      -0.2559      0.035     -7.348      0.000      -0.324      -0.188\n",
       "HEXAD_P       -0.0228      0.051     -0.449      0.653      -0.122       0.077\n",
       "HEXAD_S        0.0185      0.044      0.415      0.678      -0.069       0.106\n",
       "HEXAD_F       -0.0082      0.048     -0.169      0.866      -0.103       0.087\n",
       "HEXAD_A        0.0711      0.054      1.316      0.189      -0.035       0.177\n",
       "HEXAD_D       -0.1092      0.039     -2.788      0.005      -0.186      -0.032\n",
       "HEXAD_R        0.1066      0.048      2.209      0.028       0.012       0.201\n",
       "==============================================================================\n",
       "Omnibus:                       62.165   Durbin-Watson:                   2.040\n",
       "Prob(Omnibus):                  0.000   Jarque-Bera (JB):               30.891\n",
       "Skew:                          -0.311   Prob(JB):                     1.96e-07\n",
       "Kurtosis:                       2.247   Cond. No.                         3.52\n",
       "==============================================================================\n",
       "\n",
       "Notes:\n",
       "[1] Standard Errors assume that the covariance matrix of the errors is correctly specified.\n",
       "\"\"\""
      ],
      "text/html": [
       "<table class=\"simpletable\">\n",
       "<caption>OLS Regression Results</caption>\n",
       "<tr>\n",
       "  <th>Dep. Variable:</th>      <td>entropy_week</td>   <th>  R-squared:         </th> <td>   0.101</td>\n",
       "</tr>\n",
       "<tr>\n",
       "  <th>Model:</th>                   <td>OLS</td>       <th>  Adj. R-squared:    </th> <td>   0.092</td>\n",
       "</tr>\n",
       "<tr>\n",
       "  <th>Method:</th>             <td>Least Squares</td>  <th>  F-statistic:       </th> <td>   12.28</td>\n",
       "</tr>\n",
       "<tr>\n",
       "  <th>Date:</th>             <td>Fri, 23 May 2025</td> <th>  Prob (F-statistic):</th> <td>6.08e-15</td>\n",
       "</tr>\n",
       "<tr>\n",
       "  <th>Time:</th>                 <td>17:10:29</td>     <th>  Log-Likelihood:    </th> <td> -1059.9</td>\n",
       "</tr>\n",
       "<tr>\n",
       "  <th>No. Observations:</th>      <td>   776</td>      <th>  AIC:               </th> <td>   2136.</td>\n",
       "</tr>\n",
       "<tr>\n",
       "  <th>Df Residuals:</th>          <td>   768</td>      <th>  BIC:               </th> <td>   2173.</td>\n",
       "</tr>\n",
       "<tr>\n",
       "  <th>Df Model:</th>              <td>     7</td>      <th>                     </th>     <td> </td>   \n",
       "</tr>\n",
       "<tr>\n",
       "  <th>Covariance Type:</th>      <td>nonrobust</td>    <th>                     </th>     <td> </td>   \n",
       "</tr>\n",
       "</table>\n",
       "<table class=\"simpletable\">\n",
       "<tr>\n",
       "      <td></td>         <th>coef</th>     <th>std err</th>      <th>t</th>      <th>P>|t|</th>  <th>[0.025</th>    <th>0.975]</th>  \n",
       "</tr>\n",
       "<tr>\n",
       "  <th>Intercept</th> <td>   -0.0333</td> <td>    0.034</td> <td>   -0.966</td> <td> 0.334</td> <td>   -0.101</td> <td>    0.034</td>\n",
       "</tr>\n",
       "<tr>\n",
       "  <th>pre_test</th>  <td>   -0.2559</td> <td>    0.035</td> <td>   -7.348</td> <td> 0.000</td> <td>   -0.324</td> <td>   -0.188</td>\n",
       "</tr>\n",
       "<tr>\n",
       "  <th>HEXAD_P</th>   <td>   -0.0228</td> <td>    0.051</td> <td>   -0.449</td> <td> 0.653</td> <td>   -0.122</td> <td>    0.077</td>\n",
       "</tr>\n",
       "<tr>\n",
       "  <th>HEXAD_S</th>   <td>    0.0185</td> <td>    0.044</td> <td>    0.415</td> <td> 0.678</td> <td>   -0.069</td> <td>    0.106</td>\n",
       "</tr>\n",
       "<tr>\n",
       "  <th>HEXAD_F</th>   <td>   -0.0082</td> <td>    0.048</td> <td>   -0.169</td> <td> 0.866</td> <td>   -0.103</td> <td>    0.087</td>\n",
       "</tr>\n",
       "<tr>\n",
       "  <th>HEXAD_A</th>   <td>    0.0711</td> <td>    0.054</td> <td>    1.316</td> <td> 0.189</td> <td>   -0.035</td> <td>    0.177</td>\n",
       "</tr>\n",
       "<tr>\n",
       "  <th>HEXAD_D</th>   <td>   -0.1092</td> <td>    0.039</td> <td>   -2.788</td> <td> 0.005</td> <td>   -0.186</td> <td>   -0.032</td>\n",
       "</tr>\n",
       "<tr>\n",
       "  <th>HEXAD_R</th>   <td>    0.1066</td> <td>    0.048</td> <td>    2.209</td> <td> 0.028</td> <td>    0.012</td> <td>    0.201</td>\n",
       "</tr>\n",
       "</table>\n",
       "<table class=\"simpletable\">\n",
       "<tr>\n",
       "  <th>Omnibus:</th>       <td>62.165</td> <th>  Durbin-Watson:     </th> <td>   2.040</td>\n",
       "</tr>\n",
       "<tr>\n",
       "  <th>Prob(Omnibus):</th> <td> 0.000</td> <th>  Jarque-Bera (JB):  </th> <td>  30.891</td>\n",
       "</tr>\n",
       "<tr>\n",
       "  <th>Skew:</th>          <td>-0.311</td> <th>  Prob(JB):          </th> <td>1.96e-07</td>\n",
       "</tr>\n",
       "<tr>\n",
       "  <th>Kurtosis:</th>      <td> 2.247</td> <th>  Cond. No.          </th> <td>    3.52</td>\n",
       "</tr>\n",
       "</table><br/><br/>Notes:<br/>[1] Standard Errors assume that the covariance matrix of the errors is correctly specified."
      ],
      "text/latex": "\\begin{center}\n\\begin{tabular}{lclc}\n\\toprule\n\\textbf{Dep. Variable:}    &  entropy\\_week   & \\textbf{  R-squared:         } &     0.101   \\\\\n\\textbf{Model:}            &       OLS        & \\textbf{  Adj. R-squared:    } &     0.092   \\\\\n\\textbf{Method:}           &  Least Squares   & \\textbf{  F-statistic:       } &     12.28   \\\\\n\\textbf{Date:}             & Fri, 23 May 2025 & \\textbf{  Prob (F-statistic):} &  6.08e-15   \\\\\n\\textbf{Time:}             &     17:10:29     & \\textbf{  Log-Likelihood:    } &   -1059.9   \\\\\n\\textbf{No. Observations:} &         776      & \\textbf{  AIC:               } &     2136.   \\\\\n\\textbf{Df Residuals:}     &         768      & \\textbf{  BIC:               } &     2173.   \\\\\n\\textbf{Df Model:}         &           7      & \\textbf{                     } &             \\\\\n\\textbf{Covariance Type:}  &    nonrobust     & \\textbf{                     } &             \\\\\n\\bottomrule\n\\end{tabular}\n\\begin{tabular}{lcccccc}\n                   & \\textbf{coef} & \\textbf{std err} & \\textbf{t} & \\textbf{P$> |$t$|$} & \\textbf{[0.025} & \\textbf{0.975]}  \\\\\n\\midrule\n\\textbf{Intercept} &      -0.0333  &        0.034     &    -0.966  &         0.334        &       -0.101    &        0.034     \\\\\n\\textbf{pre\\_test} &      -0.2559  &        0.035     &    -7.348  &         0.000        &       -0.324    &       -0.188     \\\\\n\\textbf{HEXAD\\_P}  &      -0.0228  &        0.051     &    -0.449  &         0.653        &       -0.122    &        0.077     \\\\\n\\textbf{HEXAD\\_S}  &       0.0185  &        0.044     &     0.415  &         0.678        &       -0.069    &        0.106     \\\\\n\\textbf{HEXAD\\_F}  &      -0.0082  &        0.048     &    -0.169  &         0.866        &       -0.103    &        0.087     \\\\\n\\textbf{HEXAD\\_A}  &       0.0711  &        0.054     &     1.316  &         0.189        &       -0.035    &        0.177     \\\\\n\\textbf{HEXAD\\_D}  &      -0.1092  &        0.039     &    -2.788  &         0.005        &       -0.186    &       -0.032     \\\\\n\\textbf{HEXAD\\_R}  &       0.1066  &        0.048     &     2.209  &         0.028        &        0.012    &        0.201     \\\\\n\\bottomrule\n\\end{tabular}\n\\begin{tabular}{lclc}\n\\textbf{Omnibus:}       & 62.165 & \\textbf{  Durbin-Watson:     } &    2.040  \\\\\n\\textbf{Prob(Omnibus):} &  0.000 & \\textbf{  Jarque-Bera (JB):  } &   30.891  \\\\\n\\textbf{Skew:}          & -0.311 & \\textbf{  Prob(JB):          } & 1.96e-07  \\\\\n\\textbf{Kurtosis:}      &  2.247 & \\textbf{  Cond. No.          } &     3.52  \\\\\n\\bottomrule\n\\end{tabular}\n%\\caption{OLS Regression Results}\n\\end{center}\n\nNotes: \\newline\n [1] Standard Errors assume that the covariance matrix of the errors is correctly specified."
     },
     "execution_count": 96,
     "metadata": {},
     "output_type": "execute_result"
    }
   ],
   "execution_count": 96
  },
  {
   "metadata": {},
   "cell_type": "markdown",
   "source": [
    "## Gini (week) - HEXAD\n",
    "\n",
    "This model examines how students’ HEXAD traits and prior knowledge relate to the concentration (Gini index) of their activity across weeks. It helps identify which traits are associated with more uneven or more balanced weekly engagement."
   ],
   "id": "f9da3efd08b46b1d"
  },
  {
   "metadata": {
    "collapsed": true,
    "ExecuteTime": {
     "end_time": "2025-05-23T21:10:29.683126Z",
     "start_time": "2025-05-23T21:10:29.592062Z"
    }
   },
   "cell_type": "code",
   "source": [
    "model_name = \"gini_week_main\"\n",
    "formula = ols_models.get_ols_formula_by_name(model_name)\n",
    "model = ols_models.fit_ols_model(df, formula)"
   ],
   "id": "fafbdeaf846e7cdf",
   "outputs": [],
   "execution_count": 97
  },
  {
   "metadata": {
    "ExecuteTime": {
     "end_time": "2025-05-23T21:10:29.781970Z",
     "start_time": "2025-05-23T21:10:29.707159Z"
    }
   },
   "cell_type": "code",
   "source": "formula",
   "id": "aa8a62b74c05c80",
   "outputs": [
    {
     "data": {
      "text/plain": [
       "'gini_week ~ pre_test + HEXAD_P + HEXAD_S + HEXAD_F + HEXAD_A + HEXAD_D + HEXAD_R'"
      ]
     },
     "execution_count": 98,
     "metadata": {},
     "output_type": "execute_result"
    }
   ],
   "execution_count": 98
  },
  {
   "metadata": {
    "ExecuteTime": {
     "end_time": "2025-05-23T21:10:29.897527Z",
     "start_time": "2025-05-23T21:10:29.813416Z"
    }
   },
   "cell_type": "code",
   "source": "model.summary()",
   "id": "f146140ba32d45f6",
   "outputs": [
    {
     "data": {
      "text/plain": [
       "<class 'statsmodels.iolib.summary.Summary'>\n",
       "\"\"\"\n",
       "                            OLS Regression Results                            \n",
       "==============================================================================\n",
       "Dep. Variable:              gini_week   R-squared:                       0.076\n",
       "Model:                            OLS   Adj. R-squared:                  0.068\n",
       "Method:                 Least Squares   F-statistic:                     9.071\n",
       "Date:                Fri, 23 May 2025   Prob (F-statistic):           8.66e-11\n",
       "Time:                        17:10:29   Log-Likelihood:                -1070.3\n",
       "No. Observations:                 776   AIC:                             2157.\n",
       "Df Residuals:                     768   BIC:                             2194.\n",
       "Df Model:                           7                                         \n",
       "Covariance Type:            nonrobust                                         \n",
       "==============================================================================\n",
       "                 coef    std err          t      P>|t|      [0.025      0.975]\n",
       "------------------------------------------------------------------------------\n",
       "Intercept     -0.0268      0.035     -0.768      0.443      -0.095       0.042\n",
       "pre_test      -0.2478      0.035     -7.023      0.000      -0.317      -0.179\n",
       "HEXAD_P        0.0206      0.051      0.401      0.688      -0.080       0.121\n",
       "HEXAD_S        0.1026      0.045      2.279      0.023       0.014       0.191\n",
       "HEXAD_F       -0.0144      0.049     -0.295      0.768      -0.111       0.082\n",
       "HEXAD_A        0.0388      0.055      0.708      0.479      -0.069       0.146\n",
       "HEXAD_D       -0.0450      0.040     -1.135      0.257      -0.123       0.033\n",
       "HEXAD_R       -0.0129      0.049     -0.264      0.792      -0.109       0.083\n",
       "==============================================================================\n",
       "Omnibus:                       32.876   Durbin-Watson:                   2.029\n",
       "Prob(Omnibus):                  0.000   Jarque-Bera (JB):               34.430\n",
       "Skew:                          -0.490   Prob(JB):                     3.34e-08\n",
       "Kurtosis:                       2.677   Cond. No.                         3.52\n",
       "==============================================================================\n",
       "\n",
       "Notes:\n",
       "[1] Standard Errors assume that the covariance matrix of the errors is correctly specified.\n",
       "\"\"\""
      ],
      "text/html": [
       "<table class=\"simpletable\">\n",
       "<caption>OLS Regression Results</caption>\n",
       "<tr>\n",
       "  <th>Dep. Variable:</th>        <td>gini_week</td>    <th>  R-squared:         </th> <td>   0.076</td>\n",
       "</tr>\n",
       "<tr>\n",
       "  <th>Model:</th>                   <td>OLS</td>       <th>  Adj. R-squared:    </th> <td>   0.068</td>\n",
       "</tr>\n",
       "<tr>\n",
       "  <th>Method:</th>             <td>Least Squares</td>  <th>  F-statistic:       </th> <td>   9.071</td>\n",
       "</tr>\n",
       "<tr>\n",
       "  <th>Date:</th>             <td>Fri, 23 May 2025</td> <th>  Prob (F-statistic):</th> <td>8.66e-11</td>\n",
       "</tr>\n",
       "<tr>\n",
       "  <th>Time:</th>                 <td>17:10:29</td>     <th>  Log-Likelihood:    </th> <td> -1070.3</td>\n",
       "</tr>\n",
       "<tr>\n",
       "  <th>No. Observations:</th>      <td>   776</td>      <th>  AIC:               </th> <td>   2157.</td>\n",
       "</tr>\n",
       "<tr>\n",
       "  <th>Df Residuals:</th>          <td>   768</td>      <th>  BIC:               </th> <td>   2194.</td>\n",
       "</tr>\n",
       "<tr>\n",
       "  <th>Df Model:</th>              <td>     7</td>      <th>                     </th>     <td> </td>   \n",
       "</tr>\n",
       "<tr>\n",
       "  <th>Covariance Type:</th>      <td>nonrobust</td>    <th>                     </th>     <td> </td>   \n",
       "</tr>\n",
       "</table>\n",
       "<table class=\"simpletable\">\n",
       "<tr>\n",
       "      <td></td>         <th>coef</th>     <th>std err</th>      <th>t</th>      <th>P>|t|</th>  <th>[0.025</th>    <th>0.975]</th>  \n",
       "</tr>\n",
       "<tr>\n",
       "  <th>Intercept</th> <td>   -0.0268</td> <td>    0.035</td> <td>   -0.768</td> <td> 0.443</td> <td>   -0.095</td> <td>    0.042</td>\n",
       "</tr>\n",
       "<tr>\n",
       "  <th>pre_test</th>  <td>   -0.2478</td> <td>    0.035</td> <td>   -7.023</td> <td> 0.000</td> <td>   -0.317</td> <td>   -0.179</td>\n",
       "</tr>\n",
       "<tr>\n",
       "  <th>HEXAD_P</th>   <td>    0.0206</td> <td>    0.051</td> <td>    0.401</td> <td> 0.688</td> <td>   -0.080</td> <td>    0.121</td>\n",
       "</tr>\n",
       "<tr>\n",
       "  <th>HEXAD_S</th>   <td>    0.1026</td> <td>    0.045</td> <td>    2.279</td> <td> 0.023</td> <td>    0.014</td> <td>    0.191</td>\n",
       "</tr>\n",
       "<tr>\n",
       "  <th>HEXAD_F</th>   <td>   -0.0144</td> <td>    0.049</td> <td>   -0.295</td> <td> 0.768</td> <td>   -0.111</td> <td>    0.082</td>\n",
       "</tr>\n",
       "<tr>\n",
       "  <th>HEXAD_A</th>   <td>    0.0388</td> <td>    0.055</td> <td>    0.708</td> <td> 0.479</td> <td>   -0.069</td> <td>    0.146</td>\n",
       "</tr>\n",
       "<tr>\n",
       "  <th>HEXAD_D</th>   <td>   -0.0450</td> <td>    0.040</td> <td>   -1.135</td> <td> 0.257</td> <td>   -0.123</td> <td>    0.033</td>\n",
       "</tr>\n",
       "<tr>\n",
       "  <th>HEXAD_R</th>   <td>   -0.0129</td> <td>    0.049</td> <td>   -0.264</td> <td> 0.792</td> <td>   -0.109</td> <td>    0.083</td>\n",
       "</tr>\n",
       "</table>\n",
       "<table class=\"simpletable\">\n",
       "<tr>\n",
       "  <th>Omnibus:</th>       <td>32.876</td> <th>  Durbin-Watson:     </th> <td>   2.029</td>\n",
       "</tr>\n",
       "<tr>\n",
       "  <th>Prob(Omnibus):</th> <td> 0.000</td> <th>  Jarque-Bera (JB):  </th> <td>  34.430</td>\n",
       "</tr>\n",
       "<tr>\n",
       "  <th>Skew:</th>          <td>-0.490</td> <th>  Prob(JB):          </th> <td>3.34e-08</td>\n",
       "</tr>\n",
       "<tr>\n",
       "  <th>Kurtosis:</th>      <td> 2.677</td> <th>  Cond. No.          </th> <td>    3.52</td>\n",
       "</tr>\n",
       "</table><br/><br/>Notes:<br/>[1] Standard Errors assume that the covariance matrix of the errors is correctly specified."
      ],
      "text/latex": "\\begin{center}\n\\begin{tabular}{lclc}\n\\toprule\n\\textbf{Dep. Variable:}    &    gini\\_week    & \\textbf{  R-squared:         } &     0.076   \\\\\n\\textbf{Model:}            &       OLS        & \\textbf{  Adj. R-squared:    } &     0.068   \\\\\n\\textbf{Method:}           &  Least Squares   & \\textbf{  F-statistic:       } &     9.071   \\\\\n\\textbf{Date:}             & Fri, 23 May 2025 & \\textbf{  Prob (F-statistic):} &  8.66e-11   \\\\\n\\textbf{Time:}             &     17:10:29     & \\textbf{  Log-Likelihood:    } &   -1070.3   \\\\\n\\textbf{No. Observations:} &         776      & \\textbf{  AIC:               } &     2157.   \\\\\n\\textbf{Df Residuals:}     &         768      & \\textbf{  BIC:               } &     2194.   \\\\\n\\textbf{Df Model:}         &           7      & \\textbf{                     } &             \\\\\n\\textbf{Covariance Type:}  &    nonrobust     & \\textbf{                     } &             \\\\\n\\bottomrule\n\\end{tabular}\n\\begin{tabular}{lcccccc}\n                   & \\textbf{coef} & \\textbf{std err} & \\textbf{t} & \\textbf{P$> |$t$|$} & \\textbf{[0.025} & \\textbf{0.975]}  \\\\\n\\midrule\n\\textbf{Intercept} &      -0.0268  &        0.035     &    -0.768  &         0.443        &       -0.095    &        0.042     \\\\\n\\textbf{pre\\_test} &      -0.2478  &        0.035     &    -7.023  &         0.000        &       -0.317    &       -0.179     \\\\\n\\textbf{HEXAD\\_P}  &       0.0206  &        0.051     &     0.401  &         0.688        &       -0.080    &        0.121     \\\\\n\\textbf{HEXAD\\_S}  &       0.1026  &        0.045     &     2.279  &         0.023        &        0.014    &        0.191     \\\\\n\\textbf{HEXAD\\_F}  &      -0.0144  &        0.049     &    -0.295  &         0.768        &       -0.111    &        0.082     \\\\\n\\textbf{HEXAD\\_A}  &       0.0388  &        0.055     &     0.708  &         0.479        &       -0.069    &        0.146     \\\\\n\\textbf{HEXAD\\_D}  &      -0.0450  &        0.040     &    -1.135  &         0.257        &       -0.123    &        0.033     \\\\\n\\textbf{HEXAD\\_R}  &      -0.0129  &        0.049     &    -0.264  &         0.792        &       -0.109    &        0.083     \\\\\n\\bottomrule\n\\end{tabular}\n\\begin{tabular}{lclc}\n\\textbf{Omnibus:}       & 32.876 & \\textbf{  Durbin-Watson:     } &    2.029  \\\\\n\\textbf{Prob(Omnibus):} &  0.000 & \\textbf{  Jarque-Bera (JB):  } &   34.430  \\\\\n\\textbf{Skew:}          & -0.490 & \\textbf{  Prob(JB):          } & 3.34e-08  \\\\\n\\textbf{Kurtosis:}      &  2.677 & \\textbf{  Cond. No.          } &     3.52  \\\\\n\\bottomrule\n\\end{tabular}\n%\\caption{OLS Regression Results}\n\\end{center}\n\nNotes: \\newline\n [1] Standard Errors assume that the covariance matrix of the errors is correctly specified."
     },
     "execution_count": 99,
     "metadata": {},
     "output_type": "execute_result"
    }
   ],
   "execution_count": 99
  },
  {
   "metadata": {},
   "cell_type": "markdown",
   "source": [
    "## Burstiness (week) - HEXAD\n",
    "\n",
    "This model examines how students’ HEXAD traits and prior knowledge relate to the burstiness of their weekly activity. It helps identify which traits are associated with more irregular or clustered patterns of engagement over time."
   ],
   "id": "7d570235fcc544e5"
  },
  {
   "metadata": {
    "collapsed": true,
    "ExecuteTime": {
     "end_time": "2025-05-23T21:10:30.006580Z",
     "start_time": "2025-05-23T21:10:29.924788Z"
    }
   },
   "cell_type": "code",
   "source": [
    "model_name = \"burstiness_week_main\"\n",
    "formula = ols_models.get_ols_formula_by_name(model_name)\n",
    "model = ols_models.fit_ols_model(df, formula)"
   ],
   "id": "13eb70b094e5bb40",
   "outputs": [],
   "execution_count": 100
  },
  {
   "metadata": {
    "ExecuteTime": {
     "end_time": "2025-05-23T21:10:30.101851Z",
     "start_time": "2025-05-23T21:10:30.038573Z"
    }
   },
   "cell_type": "code",
   "source": "formula",
   "id": "5f6213aa9665c33b",
   "outputs": [
    {
     "data": {
      "text/plain": [
       "'burstiness_week ~ pre_test + HEXAD_P + HEXAD_S + HEXAD_F + HEXAD_A + HEXAD_D + HEXAD_R'"
      ]
     },
     "execution_count": 101,
     "metadata": {},
     "output_type": "execute_result"
    }
   ],
   "execution_count": 101
  },
  {
   "metadata": {
    "ExecuteTime": {
     "end_time": "2025-05-23T21:10:30.217614Z",
     "start_time": "2025-05-23T21:10:30.138677Z"
    }
   },
   "cell_type": "code",
   "source": "model.summary()",
   "id": "97803e93d74602e1",
   "outputs": [
    {
     "data": {
      "text/plain": [
       "<class 'statsmodels.iolib.summary.Summary'>\n",
       "\"\"\"\n",
       "                            OLS Regression Results                            \n",
       "==============================================================================\n",
       "Dep. Variable:        burstiness_week   R-squared:                       0.016\n",
       "Model:                            OLS   Adj. R-squared:                  0.007\n",
       "Method:                 Least Squares   F-statistic:                     1.808\n",
       "Date:                Fri, 23 May 2025   Prob (F-statistic):             0.0827\n",
       "Time:                        17:10:30   Log-Likelihood:                -1094.8\n",
       "No. Observations:                 776   AIC:                             2206.\n",
       "Df Residuals:                     768   BIC:                             2243.\n",
       "Df Model:                           7                                         \n",
       "Covariance Type:            nonrobust                                         \n",
       "==============================================================================\n",
       "                 coef    std err          t      P>|t|      [0.025      0.975]\n",
       "------------------------------------------------------------------------------\n",
       "Intercept     -0.0063      0.036     -0.174      0.862      -0.077       0.064\n",
       "pre_test      -0.0919      0.036     -2.524      0.012      -0.163      -0.020\n",
       "HEXAD_P        0.0494      0.053      0.932      0.351      -0.055       0.154\n",
       "HEXAD_S        0.0584      0.046      1.258      0.209      -0.033       0.150\n",
       "HEXAD_F       -0.0353      0.051     -0.699      0.485      -0.135       0.064\n",
       "HEXAD_A        0.0364      0.057      0.645      0.519      -0.075       0.147\n",
       "HEXAD_D        0.0232      0.041      0.566      0.571      -0.057       0.104\n",
       "HEXAD_R       -0.0917      0.050     -1.818      0.070      -0.191       0.007\n",
       "==============================================================================\n",
       "Omnibus:                      238.030   Durbin-Watson:                   1.963\n",
       "Prob(Omnibus):                  0.000   Jarque-Bera (JB):              751.626\n",
       "Skew:                          -1.483   Prob(JB):                    6.12e-164\n",
       "Kurtosis:                       6.801   Cond. No.                         3.52\n",
       "==============================================================================\n",
       "\n",
       "Notes:\n",
       "[1] Standard Errors assume that the covariance matrix of the errors is correctly specified.\n",
       "\"\"\""
      ],
      "text/html": [
       "<table class=\"simpletable\">\n",
       "<caption>OLS Regression Results</caption>\n",
       "<tr>\n",
       "  <th>Dep. Variable:</th>     <td>burstiness_week</td> <th>  R-squared:         </th> <td>   0.016</td>\n",
       "</tr>\n",
       "<tr>\n",
       "  <th>Model:</th>                   <td>OLS</td>       <th>  Adj. R-squared:    </th> <td>   0.007</td>\n",
       "</tr>\n",
       "<tr>\n",
       "  <th>Method:</th>             <td>Least Squares</td>  <th>  F-statistic:       </th> <td>   1.808</td>\n",
       "</tr>\n",
       "<tr>\n",
       "  <th>Date:</th>             <td>Fri, 23 May 2025</td> <th>  Prob (F-statistic):</th>  <td>0.0827</td> \n",
       "</tr>\n",
       "<tr>\n",
       "  <th>Time:</th>                 <td>17:10:30</td>     <th>  Log-Likelihood:    </th> <td> -1094.8</td>\n",
       "</tr>\n",
       "<tr>\n",
       "  <th>No. Observations:</th>      <td>   776</td>      <th>  AIC:               </th> <td>   2206.</td>\n",
       "</tr>\n",
       "<tr>\n",
       "  <th>Df Residuals:</th>          <td>   768</td>      <th>  BIC:               </th> <td>   2243.</td>\n",
       "</tr>\n",
       "<tr>\n",
       "  <th>Df Model:</th>              <td>     7</td>      <th>                     </th>     <td> </td>   \n",
       "</tr>\n",
       "<tr>\n",
       "  <th>Covariance Type:</th>      <td>nonrobust</td>    <th>                     </th>     <td> </td>   \n",
       "</tr>\n",
       "</table>\n",
       "<table class=\"simpletable\">\n",
       "<tr>\n",
       "      <td></td>         <th>coef</th>     <th>std err</th>      <th>t</th>      <th>P>|t|</th>  <th>[0.025</th>    <th>0.975]</th>  \n",
       "</tr>\n",
       "<tr>\n",
       "  <th>Intercept</th> <td>   -0.0063</td> <td>    0.036</td> <td>   -0.174</td> <td> 0.862</td> <td>   -0.077</td> <td>    0.064</td>\n",
       "</tr>\n",
       "<tr>\n",
       "  <th>pre_test</th>  <td>   -0.0919</td> <td>    0.036</td> <td>   -2.524</td> <td> 0.012</td> <td>   -0.163</td> <td>   -0.020</td>\n",
       "</tr>\n",
       "<tr>\n",
       "  <th>HEXAD_P</th>   <td>    0.0494</td> <td>    0.053</td> <td>    0.932</td> <td> 0.351</td> <td>   -0.055</td> <td>    0.154</td>\n",
       "</tr>\n",
       "<tr>\n",
       "  <th>HEXAD_S</th>   <td>    0.0584</td> <td>    0.046</td> <td>    1.258</td> <td> 0.209</td> <td>   -0.033</td> <td>    0.150</td>\n",
       "</tr>\n",
       "<tr>\n",
       "  <th>HEXAD_F</th>   <td>   -0.0353</td> <td>    0.051</td> <td>   -0.699</td> <td> 0.485</td> <td>   -0.135</td> <td>    0.064</td>\n",
       "</tr>\n",
       "<tr>\n",
       "  <th>HEXAD_A</th>   <td>    0.0364</td> <td>    0.057</td> <td>    0.645</td> <td> 0.519</td> <td>   -0.075</td> <td>    0.147</td>\n",
       "</tr>\n",
       "<tr>\n",
       "  <th>HEXAD_D</th>   <td>    0.0232</td> <td>    0.041</td> <td>    0.566</td> <td> 0.571</td> <td>   -0.057</td> <td>    0.104</td>\n",
       "</tr>\n",
       "<tr>\n",
       "  <th>HEXAD_R</th>   <td>   -0.0917</td> <td>    0.050</td> <td>   -1.818</td> <td> 0.070</td> <td>   -0.191</td> <td>    0.007</td>\n",
       "</tr>\n",
       "</table>\n",
       "<table class=\"simpletable\">\n",
       "<tr>\n",
       "  <th>Omnibus:</th>       <td>238.030</td> <th>  Durbin-Watson:     </th> <td>   1.963</td> \n",
       "</tr>\n",
       "<tr>\n",
       "  <th>Prob(Omnibus):</th> <td> 0.000</td>  <th>  Jarque-Bera (JB):  </th> <td> 751.626</td> \n",
       "</tr>\n",
       "<tr>\n",
       "  <th>Skew:</th>          <td>-1.483</td>  <th>  Prob(JB):          </th> <td>6.12e-164</td>\n",
       "</tr>\n",
       "<tr>\n",
       "  <th>Kurtosis:</th>      <td> 6.801</td>  <th>  Cond. No.          </th> <td>    3.52</td> \n",
       "</tr>\n",
       "</table><br/><br/>Notes:<br/>[1] Standard Errors assume that the covariance matrix of the errors is correctly specified."
      ],
      "text/latex": "\\begin{center}\n\\begin{tabular}{lclc}\n\\toprule\n\\textbf{Dep. Variable:}    & burstiness\\_week & \\textbf{  R-squared:         } &     0.016   \\\\\n\\textbf{Model:}            &       OLS        & \\textbf{  Adj. R-squared:    } &     0.007   \\\\\n\\textbf{Method:}           &  Least Squares   & \\textbf{  F-statistic:       } &     1.808   \\\\\n\\textbf{Date:}             & Fri, 23 May 2025 & \\textbf{  Prob (F-statistic):} &   0.0827    \\\\\n\\textbf{Time:}             &     17:10:30     & \\textbf{  Log-Likelihood:    } &   -1094.8   \\\\\n\\textbf{No. Observations:} &         776      & \\textbf{  AIC:               } &     2206.   \\\\\n\\textbf{Df Residuals:}     &         768      & \\textbf{  BIC:               } &     2243.   \\\\\n\\textbf{Df Model:}         &           7      & \\textbf{                     } &             \\\\\n\\textbf{Covariance Type:}  &    nonrobust     & \\textbf{                     } &             \\\\\n\\bottomrule\n\\end{tabular}\n\\begin{tabular}{lcccccc}\n                   & \\textbf{coef} & \\textbf{std err} & \\textbf{t} & \\textbf{P$> |$t$|$} & \\textbf{[0.025} & \\textbf{0.975]}  \\\\\n\\midrule\n\\textbf{Intercept} &      -0.0063  &        0.036     &    -0.174  &         0.862        &       -0.077    &        0.064     \\\\\n\\textbf{pre\\_test} &      -0.0919  &        0.036     &    -2.524  &         0.012        &       -0.163    &       -0.020     \\\\\n\\textbf{HEXAD\\_P}  &       0.0494  &        0.053     &     0.932  &         0.351        &       -0.055    &        0.154     \\\\\n\\textbf{HEXAD\\_S}  &       0.0584  &        0.046     &     1.258  &         0.209        &       -0.033    &        0.150     \\\\\n\\textbf{HEXAD\\_F}  &      -0.0353  &        0.051     &    -0.699  &         0.485        &       -0.135    &        0.064     \\\\\n\\textbf{HEXAD\\_A}  &       0.0364  &        0.057     &     0.645  &         0.519        &       -0.075    &        0.147     \\\\\n\\textbf{HEXAD\\_D}  &       0.0232  &        0.041     &     0.566  &         0.571        &       -0.057    &        0.104     \\\\\n\\textbf{HEXAD\\_R}  &      -0.0917  &        0.050     &    -1.818  &         0.070        &       -0.191    &        0.007     \\\\\n\\bottomrule\n\\end{tabular}\n\\begin{tabular}{lclc}\n\\textbf{Omnibus:}       & 238.030 & \\textbf{  Durbin-Watson:     } &     1.963  \\\\\n\\textbf{Prob(Omnibus):} &   0.000 & \\textbf{  Jarque-Bera (JB):  } &   751.626  \\\\\n\\textbf{Skew:}          &  -1.483 & \\textbf{  Prob(JB):          } & 6.12e-164  \\\\\n\\textbf{Kurtosis:}      &   6.801 & \\textbf{  Cond. No.          } &      3.52  \\\\\n\\bottomrule\n\\end{tabular}\n%\\caption{OLS Regression Results}\n\\end{center}\n\nNotes: \\newline\n [1] Standard Errors assume that the covariance matrix of the errors is correctly specified."
     },
     "execution_count": 102,
     "metadata": {},
     "output_type": "execute_result"
    }
   ],
   "execution_count": 102
  }
 ],
 "metadata": {
  "kernelspec": {
   "display_name": "Python 3",
   "language": "python",
   "name": "python3"
  },
  "language_info": {
   "codemirror_mode": {
    "name": "ipython",
    "version": 2
   },
   "file_extension": ".py",
   "mimetype": "text/x-python",
   "name": "python",
   "nbconvert_exporter": "python",
   "pygments_lexer": "ipython2",
   "version": "2.7.6"
  }
 },
 "nbformat": 4,
 "nbformat_minor": 5
}
