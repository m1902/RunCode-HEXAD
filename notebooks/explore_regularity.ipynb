{
 "cells": [
  {
   "metadata": {},
   "cell_type": "markdown",
   "source": "## Explore the impact of regularity",
   "id": "69b0d3a9b07eb1d5"
  },
  {
   "metadata": {},
   "cell_type": "code",
   "source": [
    "%load_ext autoreload\n",
    "%autoreload 2\n",
    "\n",
    "import sys\n",
    "sys.path.append(\"..\")\n",
    "\n",
    "import pandas as pd\n",
    "import src.modeling.ols_model as ols_models\n",
    "\n",
    "# Load and scale data\n",
    "df = pd.read_csv(\"../data/preprocessed/student_time_features_2021_2024.csv\")\n",
    "scale_cols = [\n",
    "    'pre_test', 'test',\n",
    "    'entropy_day', 'entropy_week', 'gini_day', 'gini_week', 'burstiness_day', 'burstiness_week',\n",
    "    'HEXAD_P', 'HEXAD_S', 'HEXAD_F', 'HEXAD_A', 'HEXAD_D', 'HEXAD_R'\n",
    "]\n",
    "df = ols_models.standardize_columns(df, scale_cols)"
   ],
   "id": "be1cc321cf33b8fa",
   "outputs": [],
   "execution_count": null
  },
  {
   "metadata": {},
   "cell_type": "markdown",
   "source": [
    "## Entropy (week) - HEXAD\n",
    "\n",
    "This model examines how students’ HEXAD traits and prior knowledge relate to the distribution (entropy) of their activity across weeks. It helps identify which traits are associated with more consistent versus more irregular weekly engagement patterns."
   ],
   "id": "d028fa358d0048e4"
  },
  {
   "metadata": {
    "collapsed": true
   },
   "cell_type": "code",
   "source": [
    "model_name = \"entropy_week_main\"\n",
    "formula = ols_models.get_ols_formula_by_name(model_name)\n",
    "model = ols_models.fit_ols_model(df, formula)"
   ],
   "id": "initial_id",
   "outputs": [],
   "execution_count": null
  },
  {
   "metadata": {},
   "cell_type": "code",
   "source": "formula",
   "id": "9a41b4d69d60ad1e",
   "outputs": [],
   "execution_count": null
  },
  {
   "metadata": {},
   "cell_type": "code",
   "source": "model.summary()",
   "id": "810790bc0d920589",
   "outputs": [],
   "execution_count": null
  },
  {
   "metadata": {},
   "cell_type": "markdown",
   "source": [
    "## Gini (week) - HEXAD\n",
    "\n",
    "This model examines how students’ HEXAD traits and prior knowledge relate to the concentration (Gini index) of their activity across weeks. It helps identify which traits are associated with more uneven or more balanced weekly engagement."
   ],
   "id": "f9da3efd08b46b1d"
  },
  {
   "metadata": {
    "collapsed": true
   },
   "cell_type": "code",
   "source": [
    "model_name = \"gini_week_main\"\n",
    "formula = ols_models.get_ols_formula_by_name(model_name)\n",
    "model = ols_models.fit_ols_model(df, formula)"
   ],
   "id": "fafbdeaf846e7cdf",
   "outputs": [],
   "execution_count": null
  },
  {
   "metadata": {},
   "cell_type": "code",
   "source": "formula",
   "id": "aa8a62b74c05c80",
   "outputs": [],
   "execution_count": null
  },
  {
   "metadata": {},
   "cell_type": "code",
   "source": "model.summary()",
   "id": "f146140ba32d45f6",
   "outputs": [],
   "execution_count": null
  },
  {
   "metadata": {},
   "cell_type": "markdown",
   "source": [
    "## Burstiness (week) - HEXAD\n",
    "\n",
    "This model examines how students’ HEXAD traits and prior knowledge relate to the burstiness of their weekly activity. It helps identify which traits are associated with more irregular or clustered patterns of engagement over time."
   ],
   "id": "7d570235fcc544e5"
  },
  {
   "metadata": {
    "collapsed": true
   },
   "cell_type": "code",
   "source": [
    "model_name = \"burstiness_week_main\"\n",
    "formula = ols_models.get_ols_formula_by_name(model_name)\n",
    "model = ols_models.fit_ols_model(df, formula)"
   ],
   "id": "13eb70b094e5bb40",
   "outputs": [],
   "execution_count": null
  },
  {
   "metadata": {},
   "cell_type": "code",
   "source": "formula",
   "id": "5f6213aa9665c33b",
   "outputs": [],
   "execution_count": null
  },
  {
   "metadata": {},
   "cell_type": "code",
   "source": "model.summary()",
   "id": "97803e93d74602e1",
   "outputs": [],
   "execution_count": null
  }
 ],
 "metadata": {
  "kernelspec": {
   "display_name": "Python 3",
   "language": "python",
   "name": "python3"
  },
  "language_info": {
   "codemirror_mode": {
    "name": "ipython",
    "version": 2
   },
   "file_extension": ".py",
   "mimetype": "text/x-python",
   "name": "python",
   "nbconvert_exporter": "python",
   "pygments_lexer": "ipython2",
   "version": "2.7.6"
  }
 },
 "nbformat": 4,
 "nbformat_minor": 5
}
