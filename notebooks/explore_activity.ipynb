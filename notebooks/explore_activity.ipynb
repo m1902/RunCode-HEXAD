{
 "cells": [
  {
   "cell_type": "markdown",
   "id": "11ad00e8d2250dca",
   "metadata": {},
   "source": [
    "## HEXAD vs student activity\n",
    "\n",
    "This notebook explores the impact of HEXAD traits on student activity.\n"
   ]
  },
  {
   "cell_type": "code",
   "id": "initial_id",
   "metadata": {},
   "source": [
    "%load_ext autoreload\n",
    "%autoreload 2\n",
    "\n",
    "import sys\n",
    "sys.path.append(\"..\")\n",
    "\n",
    "import pandas as pd\n",
    "import src.modeling.ols_model as ols_models\n",
    "import src.modeling.negative_binomial_model as nb_models\n",
    "import src.modeling.binomial_model as bin_models\n",
    "import src.modeling.logistic_model as logistic_models\n",
    "\n",
    "# Load and scale data\n",
    "df = pd.read_csv(\"../data/preprocessed/student_time_features_2021_2024.csv\")\n",
    "scale_cols = ['pre_test', 'HEXAD_P', 'HEXAD_S', 'HEXAD_F', 'HEXAD_A', 'HEXAD_D', 'HEXAD_R']\n",
    "df = ols_models.standardize_columns(df, scale_cols)"
   ],
   "outputs": [],
   "execution_count": null
  },
  {
   "cell_type": "markdown",
   "id": "68cac12df0610ae6",
   "metadata": {},
   "source": [
    "## Solved tasks\n",
    "\n",
    "This model examines how students’ HEXAD traits and prior knowledge relate to the number of programming tasks they completed. It helps identify which traits are associated with higher or lower task-solving activity."
   ]
  },
  {
   "cell_type": "code",
   "id": "7608d9e759e13c7c",
   "metadata": {},
   "source": [
    "# Select model\n",
    "model_name = \"solved_tasks_main\"\n",
    "formula = nb_models.get_nb_formula_by_name(model_name)\n",
    "\n",
    "# Fit the selected model\n",
    "model = nb_models.fit_negative_binomial(df, formula)"
   ],
   "outputs": [],
   "execution_count": null
  },
  {
   "cell_type": "code",
   "id": "1c9d3e53ebe86635",
   "metadata": {},
   "source": "formula",
   "outputs": [],
   "execution_count": null
  },
  {
   "cell_type": "code",
   "id": "a71d8c02be7621fd",
   "metadata": {},
   "source": "model.summary()",
   "outputs": [],
   "execution_count": null
  },
  {
   "cell_type": "markdown",
   "id": "891ab09270216c8f",
   "metadata": {},
   "source": [
    "## Participation\n",
    "\n",
    "This model examines how students’ HEXAD traits and prior knowledge relate to whether they participated (submitted code at least once). It helps identify which traits are associated with a higher or lower likelihood of participation."
   ]
  },
  {
   "cell_type": "code",
   "id": "acffeaae39edcd33",
   "metadata": {},
   "source": [
    "df = logistic_models.add_participation_variable(df)"
   ],
   "outputs": [],
   "execution_count": null
  },
  {
   "cell_type": "code",
   "id": "65be778e0172ff4",
   "metadata": {},
   "source": [
    "model_name = \"participated_main\"\n",
    "formula = logistic_models.get_logit_formula_by_name(model_name)\n",
    "model = logistic_models.fit_logit_model(df, formula)"
   ],
   "outputs": [],
   "execution_count": null
  },
  {
   "cell_type": "code",
   "id": "1b881460aa2a254e",
   "metadata": {},
   "source": [
    "formula"
   ],
   "outputs": [],
   "execution_count": null
  },
  {
   "cell_type": "code",
   "id": "415804eb55115e3c",
   "metadata": {},
   "source": "model.summary()",
   "outputs": [],
   "execution_count": null
  },
  {
   "cell_type": "markdown",
   "id": "15f65251fec71c17",
   "metadata": {},
   "source": [
    "## Late work\n",
    "\n",
    "This model examines how students’ HEXAD traits and prior knowledge relate to the likelihood of being a late worker (i.e., submitting most work near the deadline). It helps identify which traits are associated with a higher or lower tendency to submit tasks late."
   ]
  },
  {
   "cell_type": "code",
   "id": "dfd32995cf8873e6",
   "metadata": {},
   "source": [
    "late_work_threshold = 0.9\n",
    "df = logistic_models.add_late_worker_variable(df, late_work_threshold)"
   ],
   "outputs": [],
   "execution_count": null
  },
  {
   "cell_type": "code",
   "id": "61def3a3a770826f",
   "metadata": {},
   "source": [
    "model_name = \"late_work_main\"\n",
    "formula = logistic_models.get_logit_formula_by_name(model_name)\n",
    "model = logistic_models.fit_logit_model(df, formula)"
   ],
   "outputs": [],
   "execution_count": null
  },
  {
   "cell_type": "code",
   "id": "e485a2b5a4bb57f9",
   "metadata": {},
   "source": [
    "formula"
   ],
   "outputs": [],
   "execution_count": null
  },
  {
   "cell_type": "code",
   "id": "af17ccbb85a882a5",
   "metadata": {},
   "source": "model.summary()",
   "outputs": [],
   "execution_count": null
  },
  {
   "cell_type": "markdown",
   "id": "5dbece981b51757b",
   "metadata": {},
   "source": [
    "## Shallow engagement\n",
    "\n",
    "This model examines how students’ HEXAD traits and prior knowledge relate to the likelihood of showing shallow engagement, defined as being among the least active 25% of students (based on n_days_active). It helps identify which traits are associated with lower levels of consistent activity."
   ]
  },
  {
   "cell_type": "code",
   "id": "cbe416c6ba612bb0",
   "metadata": {},
   "source": [
    "engagement_threshold = 0.25\n",
    "df = logistic_models.add_shallow_engagement_variable(df, engagement_threshold)"
   ],
   "outputs": [],
   "execution_count": null
  },
  {
   "cell_type": "code",
   "id": "96bf30f3d507ce25",
   "metadata": {},
   "source": [
    "model_name = \"shallow_engagement_main\"\n",
    "formula = logistic_models.get_logit_formula_by_name(model_name)\n",
    "model = logistic_models.fit_logit_model(df, formula)"
   ],
   "outputs": [],
   "execution_count": null
  },
  {
   "cell_type": "code",
   "id": "100dcb9910322410",
   "metadata": {},
   "source": [
    "formula"
   ],
   "outputs": [],
   "execution_count": null
  },
  {
   "cell_type": "code",
   "id": "4c08ab500f488295",
   "metadata": {},
   "source": "model.summary()",
   "outputs": [],
   "execution_count": null
  },
  {
   "cell_type": "markdown",
   "id": "9e5b73f3ed9374f0",
   "metadata": {},
   "source": [
    "## Solve rate\n",
    "\n",
    "This model examines how students’ HEXAD traits and prior knowledge relate to their solve rate - the proportion of successfully completed tasks out of all attempts. It helps identify which traits are associated with more effective problem solving during task submissions."
   ]
  },
  {
   "cell_type": "code",
   "id": "6b1d5bfc13377269",
   "metadata": {},
   "source": [
    "# Prepare data\n",
    "endog, exog =  bin_models.prepare_solve_rate_data(df)\n",
    "\n",
    "# Fit binomial model\n",
    "model = bin_models.fit_binomial_model(endog, exog)"
   ],
   "outputs": [],
   "execution_count": null
  },
  {
   "cell_type": "code",
   "id": "b9717dfc9b672538",
   "metadata": {},
   "source": "model.summary()",
   "outputs": [],
   "execution_count": null
  },
  {
   "cell_type": "markdown",
   "id": "1d2a334a6c04ed64",
   "metadata": {},
   "source": [
    "## First day\n",
    "\n",
    "This model examines how students’ HEXAD traits and prior knowledge relate to the timing of their first code submission. It helps identify which traits are associated with earlier or later initial engagement in the course."
   ]
  },
  {
   "cell_type": "code",
   "id": "1236c4cebfe1e47",
   "metadata": {},
   "source": [
    "# Filter out zero-day users for 'first_day'\n",
    "df = df[df[\"first_day\"] > 0].copy()"
   ],
   "outputs": [],
   "execution_count": null
  },
  {
   "cell_type": "code",
   "id": "5ce2f647fb45e402",
   "metadata": {},
   "source": [
    "is_over, mean_val, var_val = nb_models.check_overdispersion(df, count_col=\"first_day\")\n",
    "print(f\"Mean: {mean_val:.2f}, Variance: {var_val:.2f}\")\n",
    "if is_over:\n",
    "    print(\"➡ Overdispersion likely — NB model appropriate\")\n",
    "\n",
    "model_name = \"first_day_main\"\n",
    "# Get formula and fit model\n",
    "formula = nb_models.get_nb_formula_by_name(model_name)\n",
    "model = nb_models.fit_negative_binomial(df, formula)"
   ],
   "outputs": [],
   "execution_count": null
  },
  {
   "cell_type": "code",
   "id": "30239679dccd548d",
   "metadata": {},
   "source": [
    "formula"
   ],
   "outputs": [],
   "execution_count": null
  },
  {
   "cell_type": "code",
   "id": "9420a1067ff0e3ef",
   "metadata": {},
   "source": "model.summary()",
   "outputs": [],
   "execution_count": null
  },
  {
   "cell_type": "markdown",
   "id": "214fe2579d03951f",
   "metadata": {},
   "source": [
    "## Median day of activity\n",
    "\n",
    "This model examines how students’ HEXAD traits and prior knowledge relate to the median day of their activity during the course. It helps identify which traits are associated with earlier or later patterns of sustained engagement."
   ]
  },
  {
   "cell_type": "code",
   "id": "3653a516bad46d3b",
   "metadata": {},
   "source": [
    "is_over, mean_val, var_val = nb_models.check_overdispersion(df, count_col=\"median_day_of_activity\")\n",
    "print(f\"Mean: {mean_val:.2f}, Variance: {var_val:.2f}\")\n",
    "if is_over:\n",
    "    print(\"➡  Potential overdispersion detected (variance > mean)\")"
   ],
   "outputs": [],
   "execution_count": null
  },
  {
   "cell_type": "code",
   "id": "7d129dba26a10d54",
   "metadata": {},
   "source": [
    "model_name = \"median_day_main\"\n",
    "formula = nb_models.get_nb_formula_by_name(model_name)\n",
    "model = nb_models.fit_negative_binomial(df, formula)"
   ],
   "outputs": [],
   "execution_count": null
  },
  {
   "cell_type": "code",
   "id": "d77115aefe08ea12",
   "metadata": {},
   "source": [
    "formula"
   ],
   "outputs": [],
   "execution_count": null
  },
  {
   "cell_type": "code",
   "id": "c78f5519ede312fa",
   "metadata": {},
   "source": "model.summary()",
   "outputs": [],
   "execution_count": null
  },
  {
   "cell_type": "markdown",
   "id": "260dc45cfd124faf",
   "metadata": {},
   "source": [
    "## Days of activity\n",
    "\n",
    "This model examines how students’ HEXAD traits and prior knowledge relate to the number of days they were active on the platform (code submission) during the course. It helps identify which traits are associated with more consistent engagement over time."
   ]
  },
  {
   "cell_type": "code",
   "id": "a8044fb5b5e2c8b6",
   "metadata": {},
   "source": [
    "is_over, mean_val, var_val = nb_models.check_overdispersion(df, count_col=\"n_days_active\")\n",
    "print(f\"Mean: {mean_val:.2f}, Variance: {var_val:.2f}\")\n",
    "if is_over:\n",
    "    print(\"➡  Potential overdispersion detected (variance > mean)\")"
   ],
   "outputs": [],
   "execution_count": null
  },
  {
   "cell_type": "code",
   "id": "464304e3af26807c",
   "metadata": {},
   "source": [
    "model_name = \"days_of_activity_main\"\n",
    "formula = nb_models.get_nb_formula_by_name(model_name)\n",
    "model = nb_models.fit_negative_binomial(df, formula)"
   ],
   "outputs": [],
   "execution_count": null
  },
  {
   "cell_type": "code",
   "id": "88085ac77e81f3af",
   "metadata": {},
   "source": [
    "formula"
   ],
   "outputs": [],
   "execution_count": null
  },
  {
   "cell_type": "code",
   "id": "da5dd31dec9657d1",
   "metadata": {},
   "source": "model.summary()",
   "outputs": [],
   "execution_count": null
  },
  {
   "cell_type": "markdown",
   "id": "ed01d5b948181905",
   "metadata": {},
   "source": [
    "## Weeks of activity\n",
    "\n",
    "This model examines how students’ HEXAD traits and prior knowledge relate to the number of weeks they were active during the course. It helps identify which traits are associated with sustained engagement across multiple weeks."
   ]
  },
  {
   "cell_type": "code",
   "id": "dcf94a71063b1931",
   "metadata": {},
   "source": [
    "is_over, mean_val, var_val = nb_models.check_overdispersion(df, count_col=\"n_weeks_active\")\n",
    "print(f\"Mean: {mean_val:.2f}, Variance: {var_val:.2f}\")\n",
    "if is_over:\n",
    "    print(\"➡  Potential overdispersion detected (variance > mean)\")"
   ],
   "outputs": [],
   "execution_count": null
  },
  {
   "cell_type": "code",
   "id": "139fc656f0508952",
   "metadata": {},
   "source": [
    "model_name = \"weeks_of_activity_main\"\n",
    "formula = nb_models.get_nb_formula_by_name(model_name)\n",
    "model = nb_models.fit_negative_binomial(df, formula)"
   ],
   "outputs": [],
   "execution_count": null
  },
  {
   "cell_type": "code",
   "id": "36ea61f2db20d393",
   "metadata": {},
   "source": [
    "formula"
   ],
   "outputs": [],
   "execution_count": null
  },
  {
   "cell_type": "code",
   "id": "da9b960bb0737697",
   "metadata": {},
   "source": "model.summary()",
   "outputs": [],
   "execution_count": null
  }
 ],
 "metadata": {
  "kernelspec": {
   "display_name": "Python 3 (ipykernel)",
   "language": "python",
   "name": "python3"
  },
  "language_info": {
   "codemirror_mode": {
    "name": "ipython",
    "version": 3
   },
   "file_extension": ".py",
   "mimetype": "text/x-python",
   "name": "python",
   "nbconvert_exporter": "python",
   "pygments_lexer": "ipython3",
   "version": "3.10.7"
  }
 },
 "nbformat": 4,
 "nbformat_minor": 5
}
