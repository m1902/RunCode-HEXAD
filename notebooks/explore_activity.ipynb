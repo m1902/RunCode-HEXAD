{
 "cells": [
  {
   "cell_type": "markdown",
   "id": "11ad00e8d2250dca",
   "metadata": {},
   "source": [
    "## HEXAD vs student activity\n",
    "\n",
    "This notebook explores the impact of HEXAD traits on student activity.\n"
   ]
  },
  {
   "cell_type": "code",
   "id": "initial_id",
   "metadata": {
    "ExecuteTime": {
     "end_time": "2025-05-23T21:10:13.768578Z",
     "start_time": "2025-05-23T21:10:12.574428Z"
    }
   },
   "source": [
    "%load_ext autoreload\n",
    "%autoreload 2\n",
    "\n",
    "import sys\n",
    "sys.path.append(\"..\")\n",
    "\n",
    "import pandas as pd\n",
    "import src.modeling.ols_model as ols_models\n",
    "import src.modeling.negative_binomial_model as nb_models\n",
    "import src.modeling.binomial_model as bin_models\n",
    "import src.modeling.logistic_model as logistic_models\n",
    "\n",
    "# Load and scale data\n",
    "df = pd.read_csv(\"../data/preprocessed/student_time_features_2021_2024.csv\")\n",
    "scale_cols = ['pre_test', 'HEXAD_P', 'HEXAD_S', 'HEXAD_F', 'HEXAD_A', 'HEXAD_D', 'HEXAD_R']\n",
    "df = ols_models.standardize_columns(df, scale_cols)"
   ],
   "outputs": [],
   "execution_count": 1
  },
  {
   "cell_type": "markdown",
   "id": "68cac12df0610ae6",
   "metadata": {},
   "source": [
    "## Solved tasks\n",
    "\n",
    "This model examines how students’ HEXAD traits and prior knowledge relate to the number of programming tasks they completed. It helps identify which traits are associated with higher or lower task-solving activity."
   ]
  },
  {
   "cell_type": "code",
   "id": "7608d9e759e13c7c",
   "metadata": {
    "ExecuteTime": {
     "end_time": "2025-05-23T21:10:13.863489Z",
     "start_time": "2025-05-23T21:10:13.768955Z"
    }
   },
   "source": [
    "# Select model\n",
    "model_name = \"solved_tasks_main\"\n",
    "formula = nb_models.get_nb_formula_by_name(model_name)\n",
    "\n",
    "# Fit the selected model\n",
    "model = nb_models.fit_negative_binomial(df, formula)"
   ],
   "outputs": [
    {
     "name": "stdout",
     "output_type": "stream",
     "text": [
      "Optimization terminated successfully.\n",
      "         Current function value: 5.463103\n",
      "         Iterations: 12\n",
      "         Function evaluations: 13\n",
      "         Gradient evaluations: 13\n"
     ]
    }
   ],
   "execution_count": 2
  },
  {
   "cell_type": "code",
   "id": "1c9d3e53ebe86635",
   "metadata": {
    "ExecuteTime": {
     "end_time": "2025-05-23T21:10:14.157192Z",
     "start_time": "2025-05-23T21:10:14.078026Z"
    }
   },
   "source": "formula",
   "outputs": [
    {
     "data": {
      "text/plain": [
       "'n_solved_tasks ~ pre_test + HEXAD_P + HEXAD_S + HEXAD_F + HEXAD_A + HEXAD_D + HEXAD_R'"
      ]
     },
     "execution_count": 3,
     "metadata": {},
     "output_type": "execute_result"
    }
   ],
   "execution_count": 3
  },
  {
   "cell_type": "code",
   "id": "a71d8c02be7621fd",
   "metadata": {
    "ExecuteTime": {
     "end_time": "2025-05-23T21:10:14.271369Z",
     "start_time": "2025-05-23T21:10:14.175527Z"
    }
   },
   "source": "model.summary()",
   "outputs": [
    {
     "data": {
      "text/plain": [
       "<class 'statsmodels.iolib.summary.Summary'>\n",
       "\"\"\"\n",
       "                     NegativeBinomial Regression Results                      \n",
       "==============================================================================\n",
       "Dep. Variable:         n_solved_tasks   No. Observations:                  871\n",
       "Model:               NegativeBinomial   Df Residuals:                      863\n",
       "Method:                           MLE   Df Model:                            7\n",
       "Date:                Fri, 23 May 2025   Pseudo R-squ.:                0.003705\n",
       "Time:                        17:10:14   Log-Likelihood:                -4758.4\n",
       "converged:                       True   LL-Null:                       -4776.1\n",
       "Covariance Type:            nonrobust   LLR p-value:                 9.449e-06\n",
       "==============================================================================\n",
       "                 coef    std err          z      P>|z|      [0.025      0.975]\n",
       "------------------------------------------------------------------------------\n",
       "Intercept      4.5159      0.043    106.135      0.000       4.432       4.599\n",
       "pre_test      -0.1980      0.044     -4.524      0.000      -0.284      -0.112\n",
       "HEXAD_P       -0.0416      0.064     -0.649      0.516      -0.167       0.084\n",
       "HEXAD_S        0.0638      0.056      1.135      0.257      -0.046       0.174\n",
       "HEXAD_F       -0.0063      0.059     -0.106      0.915      -0.122       0.109\n",
       "HEXAD_A        0.0851      0.069      1.229      0.219      -0.051       0.221\n",
       "HEXAD_D       -0.1380      0.048     -2.861      0.004      -0.233      -0.043\n",
       "HEXAD_R        0.0144      0.063      0.229      0.819      -0.109       0.138\n",
       "alpha          1.5655      0.073     21.479      0.000       1.423       1.708\n",
       "==============================================================================\n",
       "\"\"\""
      ],
      "text/html": [
       "<table class=\"simpletable\">\n",
       "<caption>NegativeBinomial Regression Results</caption>\n",
       "<tr>\n",
       "  <th>Dep. Variable:</th>    <td>n_solved_tasks</td>  <th>  No. Observations:  </th>  <td>   871</td>  \n",
       "</tr>\n",
       "<tr>\n",
       "  <th>Model:</th>           <td>NegativeBinomial</td> <th>  Df Residuals:      </th>  <td>   863</td>  \n",
       "</tr>\n",
       "<tr>\n",
       "  <th>Method:</th>                 <td>MLE</td>       <th>  Df Model:          </th>  <td>     7</td>  \n",
       "</tr>\n",
       "<tr>\n",
       "  <th>Date:</th>            <td>Fri, 23 May 2025</td> <th>  Pseudo R-squ.:     </th> <td>0.003705</td> \n",
       "</tr>\n",
       "<tr>\n",
       "  <th>Time:</th>                <td>17:10:14</td>     <th>  Log-Likelihood:    </th> <td> -4758.4</td> \n",
       "</tr>\n",
       "<tr>\n",
       "  <th>converged:</th>             <td>True</td>       <th>  LL-Null:           </th> <td> -4776.1</td> \n",
       "</tr>\n",
       "<tr>\n",
       "  <th>Covariance Type:</th>     <td>nonrobust</td>    <th>  LLR p-value:       </th> <td>9.449e-06</td>\n",
       "</tr>\n",
       "</table>\n",
       "<table class=\"simpletable\">\n",
       "<tr>\n",
       "      <td></td>         <th>coef</th>     <th>std err</th>      <th>z</th>      <th>P>|z|</th>  <th>[0.025</th>    <th>0.975]</th>  \n",
       "</tr>\n",
       "<tr>\n",
       "  <th>Intercept</th> <td>    4.5159</td> <td>    0.043</td> <td>  106.135</td> <td> 0.000</td> <td>    4.432</td> <td>    4.599</td>\n",
       "</tr>\n",
       "<tr>\n",
       "  <th>pre_test</th>  <td>   -0.1980</td> <td>    0.044</td> <td>   -4.524</td> <td> 0.000</td> <td>   -0.284</td> <td>   -0.112</td>\n",
       "</tr>\n",
       "<tr>\n",
       "  <th>HEXAD_P</th>   <td>   -0.0416</td> <td>    0.064</td> <td>   -0.649</td> <td> 0.516</td> <td>   -0.167</td> <td>    0.084</td>\n",
       "</tr>\n",
       "<tr>\n",
       "  <th>HEXAD_S</th>   <td>    0.0638</td> <td>    0.056</td> <td>    1.135</td> <td> 0.257</td> <td>   -0.046</td> <td>    0.174</td>\n",
       "</tr>\n",
       "<tr>\n",
       "  <th>HEXAD_F</th>   <td>   -0.0063</td> <td>    0.059</td> <td>   -0.106</td> <td> 0.915</td> <td>   -0.122</td> <td>    0.109</td>\n",
       "</tr>\n",
       "<tr>\n",
       "  <th>HEXAD_A</th>   <td>    0.0851</td> <td>    0.069</td> <td>    1.229</td> <td> 0.219</td> <td>   -0.051</td> <td>    0.221</td>\n",
       "</tr>\n",
       "<tr>\n",
       "  <th>HEXAD_D</th>   <td>   -0.1380</td> <td>    0.048</td> <td>   -2.861</td> <td> 0.004</td> <td>   -0.233</td> <td>   -0.043</td>\n",
       "</tr>\n",
       "<tr>\n",
       "  <th>HEXAD_R</th>   <td>    0.0144</td> <td>    0.063</td> <td>    0.229</td> <td> 0.819</td> <td>   -0.109</td> <td>    0.138</td>\n",
       "</tr>\n",
       "<tr>\n",
       "  <th>alpha</th>     <td>    1.5655</td> <td>    0.073</td> <td>   21.479</td> <td> 0.000</td> <td>    1.423</td> <td>    1.708</td>\n",
       "</tr>\n",
       "</table>"
      ],
      "text/latex": "\\begin{center}\n\\begin{tabular}{lclc}\n\\toprule\n\\textbf{Dep. Variable:}   & n\\_solved\\_tasks & \\textbf{  No. Observations:  } &      871    \\\\\n\\textbf{Model:}           & NegativeBinomial & \\textbf{  Df Residuals:      } &      863    \\\\\n\\textbf{Method:}          &       MLE        & \\textbf{  Df Model:          } &        7    \\\\\n\\textbf{Date:}            & Fri, 23 May 2025 & \\textbf{  Pseudo R-squ.:     } &  0.003705   \\\\\n\\textbf{Time:}            &     17:10:14     & \\textbf{  Log-Likelihood:    } &   -4758.4   \\\\\n\\textbf{converged:}       &       True       & \\textbf{  LL-Null:           } &   -4776.1   \\\\\n\\textbf{Covariance Type:} &    nonrobust     & \\textbf{  LLR p-value:       } & 9.449e-06   \\\\\n\\bottomrule\n\\end{tabular}\n\\begin{tabular}{lcccccc}\n                   & \\textbf{coef} & \\textbf{std err} & \\textbf{z} & \\textbf{P$> |$z$|$} & \\textbf{[0.025} & \\textbf{0.975]}  \\\\\n\\midrule\n\\textbf{Intercept} &       4.5159  &        0.043     &   106.135  &         0.000        &        4.432    &        4.599     \\\\\n\\textbf{pre\\_test} &      -0.1980  &        0.044     &    -4.524  &         0.000        &       -0.284    &       -0.112     \\\\\n\\textbf{HEXAD\\_P}  &      -0.0416  &        0.064     &    -0.649  &         0.516        &       -0.167    &        0.084     \\\\\n\\textbf{HEXAD\\_S}  &       0.0638  &        0.056     &     1.135  &         0.257        &       -0.046    &        0.174     \\\\\n\\textbf{HEXAD\\_F}  &      -0.0063  &        0.059     &    -0.106  &         0.915        &       -0.122    &        0.109     \\\\\n\\textbf{HEXAD\\_A}  &       0.0851  &        0.069     &     1.229  &         0.219        &       -0.051    &        0.221     \\\\\n\\textbf{HEXAD\\_D}  &      -0.1380  &        0.048     &    -2.861  &         0.004        &       -0.233    &       -0.043     \\\\\n\\textbf{HEXAD\\_R}  &       0.0144  &        0.063     &     0.229  &         0.819        &       -0.109    &        0.138     \\\\\n\\textbf{alpha}     &       1.5655  &        0.073     &    21.479  &         0.000        &        1.423    &        1.708     \\\\\n\\bottomrule\n\\end{tabular}\n%\\caption{NegativeBinomial Regression Results}\n\\end{center}"
     },
     "execution_count": 4,
     "metadata": {},
     "output_type": "execute_result"
    }
   ],
   "execution_count": 4
  },
  {
   "cell_type": "markdown",
   "id": "891ab09270216c8f",
   "metadata": {},
   "source": [
    "## Participation\n",
    "\n",
    "This model examines how students’ HEXAD traits and prior knowledge relate to whether they participated (submitted code at least once). It helps identify which traits are associated with a higher or lower likelihood of participation."
   ]
  },
  {
   "cell_type": "code",
   "id": "acffeaae39edcd33",
   "metadata": {
    "ExecuteTime": {
     "end_time": "2025-05-23T21:10:14.437136Z",
     "start_time": "2025-05-23T21:10:14.345920Z"
    }
   },
   "source": [
    "df = logistic_models.add_participation_variable(df)"
   ],
   "outputs": [],
   "execution_count": 5
  },
  {
   "cell_type": "code",
   "id": "65be778e0172ff4",
   "metadata": {
    "ExecuteTime": {
     "end_time": "2025-05-23T21:10:14.528799Z",
     "start_time": "2025-05-23T21:10:14.442346Z"
    }
   },
   "source": [
    "model_name = \"participated_main\"\n",
    "formula = logistic_models.get_logit_formula_by_name(model_name)\n",
    "model = logistic_models.fit_logit_model(df, formula)"
   ],
   "outputs": [
    {
     "name": "stdout",
     "output_type": "stream",
     "text": [
      "Optimization terminated successfully.\n",
      "         Current function value: 0.288754\n",
      "         Iterations 7\n"
     ]
    }
   ],
   "execution_count": 6
  },
  {
   "cell_type": "code",
   "id": "1b881460aa2a254e",
   "metadata": {
    "ExecuteTime": {
     "end_time": "2025-05-23T21:10:14.637974Z",
     "start_time": "2025-05-23T21:10:14.552252Z"
    }
   },
   "source": [
    "formula"
   ],
   "outputs": [
    {
     "data": {
      "text/plain": [
       "'participated ~ pre_test + HEXAD_P + HEXAD_S + HEXAD_F + HEXAD_A + HEXAD_D + HEXAD_R'"
      ]
     },
     "execution_count": 7,
     "metadata": {},
     "output_type": "execute_result"
    }
   ],
   "execution_count": 7
  },
  {
   "cell_type": "code",
   "id": "415804eb55115e3c",
   "metadata": {
    "ExecuteTime": {
     "end_time": "2025-05-23T21:10:14.761461Z",
     "start_time": "2025-05-23T21:10:14.659703Z"
    }
   },
   "source": "model.summary()",
   "outputs": [
    {
     "data": {
      "text/plain": [
       "<class 'statsmodels.iolib.summary.Summary'>\n",
       "\"\"\"\n",
       "                           Logit Regression Results                           \n",
       "==============================================================================\n",
       "Dep. Variable:           participated   No. Observations:                  871\n",
       "Model:                          Logit   Df Residuals:                      863\n",
       "Method:                           MLE   Df Model:                            7\n",
       "Date:                Fri, 23 May 2025   Pseudo R-squ.:                  0.1620\n",
       "Time:                        17:10:14   Log-Likelihood:                -251.50\n",
       "converged:                       True   LL-Null:                       -300.12\n",
       "Covariance Type:            nonrobust   LLR p-value:                 4.032e-18\n",
       "==============================================================================\n",
       "                 coef    std err          z      P>|z|      [0.025      0.975]\n",
       "------------------------------------------------------------------------------\n",
       "Intercept      2.6207      0.159     16.510      0.000       2.310       2.932\n",
       "pre_test      -0.6563      0.129     -5.081      0.000      -0.909      -0.403\n",
       "HEXAD_P       -0.2102      0.165     -1.272      0.203      -0.534       0.114\n",
       "HEXAD_S        0.4540      0.148      3.063      0.002       0.164       0.744\n",
       "HEXAD_F        0.3286      0.160      2.060      0.039       0.016       0.641\n",
       "HEXAD_A        0.3194      0.178      1.796      0.072      -0.029       0.668\n",
       "HEXAD_D       -0.7961      0.152     -5.238      0.000      -1.094      -0.498\n",
       "HEXAD_R        0.1516      0.160      0.950      0.342      -0.161       0.464\n",
       "==============================================================================\n",
       "\"\"\""
      ],
      "text/html": [
       "<table class=\"simpletable\">\n",
       "<caption>Logit Regression Results</caption>\n",
       "<tr>\n",
       "  <th>Dep. Variable:</th>     <td>participated</td>   <th>  No. Observations:  </th>  <td>   871</td>  \n",
       "</tr>\n",
       "<tr>\n",
       "  <th>Model:</th>                 <td>Logit</td>      <th>  Df Residuals:      </th>  <td>   863</td>  \n",
       "</tr>\n",
       "<tr>\n",
       "  <th>Method:</th>                 <td>MLE</td>       <th>  Df Model:          </th>  <td>     7</td>  \n",
       "</tr>\n",
       "<tr>\n",
       "  <th>Date:</th>            <td>Fri, 23 May 2025</td> <th>  Pseudo R-squ.:     </th>  <td>0.1620</td>  \n",
       "</tr>\n",
       "<tr>\n",
       "  <th>Time:</th>                <td>17:10:14</td>     <th>  Log-Likelihood:    </th> <td> -251.50</td> \n",
       "</tr>\n",
       "<tr>\n",
       "  <th>converged:</th>             <td>True</td>       <th>  LL-Null:           </th> <td> -300.12</td> \n",
       "</tr>\n",
       "<tr>\n",
       "  <th>Covariance Type:</th>     <td>nonrobust</td>    <th>  LLR p-value:       </th> <td>4.032e-18</td>\n",
       "</tr>\n",
       "</table>\n",
       "<table class=\"simpletable\">\n",
       "<tr>\n",
       "      <td></td>         <th>coef</th>     <th>std err</th>      <th>z</th>      <th>P>|z|</th>  <th>[0.025</th>    <th>0.975]</th>  \n",
       "</tr>\n",
       "<tr>\n",
       "  <th>Intercept</th> <td>    2.6207</td> <td>    0.159</td> <td>   16.510</td> <td> 0.000</td> <td>    2.310</td> <td>    2.932</td>\n",
       "</tr>\n",
       "<tr>\n",
       "  <th>pre_test</th>  <td>   -0.6563</td> <td>    0.129</td> <td>   -5.081</td> <td> 0.000</td> <td>   -0.909</td> <td>   -0.403</td>\n",
       "</tr>\n",
       "<tr>\n",
       "  <th>HEXAD_P</th>   <td>   -0.2102</td> <td>    0.165</td> <td>   -1.272</td> <td> 0.203</td> <td>   -0.534</td> <td>    0.114</td>\n",
       "</tr>\n",
       "<tr>\n",
       "  <th>HEXAD_S</th>   <td>    0.4540</td> <td>    0.148</td> <td>    3.063</td> <td> 0.002</td> <td>    0.164</td> <td>    0.744</td>\n",
       "</tr>\n",
       "<tr>\n",
       "  <th>HEXAD_F</th>   <td>    0.3286</td> <td>    0.160</td> <td>    2.060</td> <td> 0.039</td> <td>    0.016</td> <td>    0.641</td>\n",
       "</tr>\n",
       "<tr>\n",
       "  <th>HEXAD_A</th>   <td>    0.3194</td> <td>    0.178</td> <td>    1.796</td> <td> 0.072</td> <td>   -0.029</td> <td>    0.668</td>\n",
       "</tr>\n",
       "<tr>\n",
       "  <th>HEXAD_D</th>   <td>   -0.7961</td> <td>    0.152</td> <td>   -5.238</td> <td> 0.000</td> <td>   -1.094</td> <td>   -0.498</td>\n",
       "</tr>\n",
       "<tr>\n",
       "  <th>HEXAD_R</th>   <td>    0.1516</td> <td>    0.160</td> <td>    0.950</td> <td> 0.342</td> <td>   -0.161</td> <td>    0.464</td>\n",
       "</tr>\n",
       "</table>"
      ],
      "text/latex": "\\begin{center}\n\\begin{tabular}{lclc}\n\\toprule\n\\textbf{Dep. Variable:}   &   participated   & \\textbf{  No. Observations:  } &      871    \\\\\n\\textbf{Model:}           &      Logit       & \\textbf{  Df Residuals:      } &      863    \\\\\n\\textbf{Method:}          &       MLE        & \\textbf{  Df Model:          } &        7    \\\\\n\\textbf{Date:}            & Fri, 23 May 2025 & \\textbf{  Pseudo R-squ.:     } &   0.1620    \\\\\n\\textbf{Time:}            &     17:10:14     & \\textbf{  Log-Likelihood:    } &   -251.50   \\\\\n\\textbf{converged:}       &       True       & \\textbf{  LL-Null:           } &   -300.12   \\\\\n\\textbf{Covariance Type:} &    nonrobust     & \\textbf{  LLR p-value:       } & 4.032e-18   \\\\\n\\bottomrule\n\\end{tabular}\n\\begin{tabular}{lcccccc}\n                   & \\textbf{coef} & \\textbf{std err} & \\textbf{z} & \\textbf{P$> |$z$|$} & \\textbf{[0.025} & \\textbf{0.975]}  \\\\\n\\midrule\n\\textbf{Intercept} &       2.6207  &        0.159     &    16.510  &         0.000        &        2.310    &        2.932     \\\\\n\\textbf{pre\\_test} &      -0.6563  &        0.129     &    -5.081  &         0.000        &       -0.909    &       -0.403     \\\\\n\\textbf{HEXAD\\_P}  &      -0.2102  &        0.165     &    -1.272  &         0.203        &       -0.534    &        0.114     \\\\\n\\textbf{HEXAD\\_S}  &       0.4540  &        0.148     &     3.063  &         0.002        &        0.164    &        0.744     \\\\\n\\textbf{HEXAD\\_F}  &       0.3286  &        0.160     &     2.060  &         0.039        &        0.016    &        0.641     \\\\\n\\textbf{HEXAD\\_A}  &       0.3194  &        0.178     &     1.796  &         0.072        &       -0.029    &        0.668     \\\\\n\\textbf{HEXAD\\_D}  &      -0.7961  &        0.152     &    -5.238  &         0.000        &       -1.094    &       -0.498     \\\\\n\\textbf{HEXAD\\_R}  &       0.1516  &        0.160     &     0.950  &         0.342        &       -0.161    &        0.464     \\\\\n\\bottomrule\n\\end{tabular}\n%\\caption{Logit Regression Results}\n\\end{center}"
     },
     "execution_count": 8,
     "metadata": {},
     "output_type": "execute_result"
    }
   ],
   "execution_count": 8
  },
  {
   "cell_type": "markdown",
   "id": "15f65251fec71c17",
   "metadata": {},
   "source": [
    "## Late work\n",
    "\n",
    "This model examines how students’ HEXAD traits and prior knowledge relate to the likelihood of being a late worker (i.e., submitting most work near the deadline). It helps identify which traits are associated with a higher or lower tendency to submit tasks late."
   ]
  },
  {
   "cell_type": "code",
   "id": "dfd32995cf8873e6",
   "metadata": {
    "ExecuteTime": {
     "end_time": "2025-05-23T21:10:14.855250Z",
     "start_time": "2025-05-23T21:10:14.778767Z"
    }
   },
   "source": [
    "late_work_threshold = 0.9\n",
    "df = logistic_models.add_late_worker_variable(df, late_work_threshold)"
   ],
   "outputs": [],
   "execution_count": 9
  },
  {
   "cell_type": "code",
   "id": "61def3a3a770826f",
   "metadata": {
    "ExecuteTime": {
     "end_time": "2025-05-23T21:10:14.963704Z",
     "start_time": "2025-05-23T21:10:14.871806Z"
    }
   },
   "source": [
    "model_name = \"late_work_main\"\n",
    "formula = logistic_models.get_logit_formula_by_name(model_name)\n",
    "model = logistic_models.fit_logit_model(df, formula)"
   ],
   "outputs": [
    {
     "name": "stdout",
     "output_type": "stream",
     "text": [
      "Optimization terminated successfully.\n",
      "         Current function value: 0.293045\n",
      "         Iterations 7\n"
     ]
    }
   ],
   "execution_count": 10
  },
  {
   "cell_type": "code",
   "id": "e485a2b5a4bb57f9",
   "metadata": {
    "ExecuteTime": {
     "end_time": "2025-05-23T21:10:15.072716Z",
     "start_time": "2025-05-23T21:10:14.999638Z"
    }
   },
   "source": [
    "formula"
   ],
   "outputs": [
    {
     "data": {
      "text/plain": [
       "'late_worker ~ pre_test + HEXAD_P + HEXAD_S + HEXAD_F + HEXAD_A + HEXAD_D + HEXAD_R'"
      ]
     },
     "execution_count": 11,
     "metadata": {},
     "output_type": "execute_result"
    }
   ],
   "execution_count": 11
  },
  {
   "cell_type": "code",
   "id": "af17ccbb85a882a5",
   "metadata": {
    "ExecuteTime": {
     "end_time": "2025-05-23T21:10:15.217214Z",
     "start_time": "2025-05-23T21:10:15.108159Z"
    }
   },
   "source": "model.summary()",
   "outputs": [
    {
     "data": {
      "text/plain": [
       "<class 'statsmodels.iolib.summary.Summary'>\n",
       "\"\"\"\n",
       "                           Logit Regression Results                           \n",
       "==============================================================================\n",
       "Dep. Variable:            late_worker   No. Observations:                  871\n",
       "Model:                          Logit   Df Residuals:                      863\n",
       "Method:                           MLE   Df Model:                            7\n",
       "Date:                Fri, 23 May 2025   Pseudo R-squ.:                 0.02805\n",
       "Time:                        17:10:15   Log-Likelihood:                -255.24\n",
       "converged:                       True   LL-Null:                       -262.61\n",
       "Covariance Type:            nonrobust   LLR p-value:                   0.03962\n",
       "==============================================================================\n",
       "                 coef    std err          z      P>|z|      [0.025      0.975]\n",
       "------------------------------------------------------------------------------\n",
       "Intercept     -2.4104      0.129    -18.696      0.000      -2.663      -2.158\n",
       "pre_test      -0.0576      0.123     -0.466      0.641      -0.300       0.184\n",
       "HEXAD_P        0.1254      0.176      0.711      0.477      -0.220       0.471\n",
       "HEXAD_S       -0.0174      0.158     -0.110      0.913      -0.327       0.293\n",
       "HEXAD_F       -0.2097      0.166     -1.260      0.208      -0.536       0.116\n",
       "HEXAD_A       -0.2557      0.188     -1.363      0.173      -0.624       0.112\n",
       "HEXAD_D        0.4537      0.144      3.149      0.002       0.171       0.736\n",
       "HEXAD_R        0.0224      0.169      0.132      0.895      -0.309       0.354\n",
       "==============================================================================\n",
       "\"\"\""
      ],
      "text/html": [
       "<table class=\"simpletable\">\n",
       "<caption>Logit Regression Results</caption>\n",
       "<tr>\n",
       "  <th>Dep. Variable:</th>      <td>late_worker</td>   <th>  No. Observations:  </th>  <td>   871</td> \n",
       "</tr>\n",
       "<tr>\n",
       "  <th>Model:</th>                 <td>Logit</td>      <th>  Df Residuals:      </th>  <td>   863</td> \n",
       "</tr>\n",
       "<tr>\n",
       "  <th>Method:</th>                 <td>MLE</td>       <th>  Df Model:          </th>  <td>     7</td> \n",
       "</tr>\n",
       "<tr>\n",
       "  <th>Date:</th>            <td>Fri, 23 May 2025</td> <th>  Pseudo R-squ.:     </th>  <td>0.02805</td>\n",
       "</tr>\n",
       "<tr>\n",
       "  <th>Time:</th>                <td>17:10:15</td>     <th>  Log-Likelihood:    </th> <td> -255.24</td>\n",
       "</tr>\n",
       "<tr>\n",
       "  <th>converged:</th>             <td>True</td>       <th>  LL-Null:           </th> <td> -262.61</td>\n",
       "</tr>\n",
       "<tr>\n",
       "  <th>Covariance Type:</th>     <td>nonrobust</td>    <th>  LLR p-value:       </th>  <td>0.03962</td>\n",
       "</tr>\n",
       "</table>\n",
       "<table class=\"simpletable\">\n",
       "<tr>\n",
       "      <td></td>         <th>coef</th>     <th>std err</th>      <th>z</th>      <th>P>|z|</th>  <th>[0.025</th>    <th>0.975]</th>  \n",
       "</tr>\n",
       "<tr>\n",
       "  <th>Intercept</th> <td>   -2.4104</td> <td>    0.129</td> <td>  -18.696</td> <td> 0.000</td> <td>   -2.663</td> <td>   -2.158</td>\n",
       "</tr>\n",
       "<tr>\n",
       "  <th>pre_test</th>  <td>   -0.0576</td> <td>    0.123</td> <td>   -0.466</td> <td> 0.641</td> <td>   -0.300</td> <td>    0.184</td>\n",
       "</tr>\n",
       "<tr>\n",
       "  <th>HEXAD_P</th>   <td>    0.1254</td> <td>    0.176</td> <td>    0.711</td> <td> 0.477</td> <td>   -0.220</td> <td>    0.471</td>\n",
       "</tr>\n",
       "<tr>\n",
       "  <th>HEXAD_S</th>   <td>   -0.0174</td> <td>    0.158</td> <td>   -0.110</td> <td> 0.913</td> <td>   -0.327</td> <td>    0.293</td>\n",
       "</tr>\n",
       "<tr>\n",
       "  <th>HEXAD_F</th>   <td>   -0.2097</td> <td>    0.166</td> <td>   -1.260</td> <td> 0.208</td> <td>   -0.536</td> <td>    0.116</td>\n",
       "</tr>\n",
       "<tr>\n",
       "  <th>HEXAD_A</th>   <td>   -0.2557</td> <td>    0.188</td> <td>   -1.363</td> <td> 0.173</td> <td>   -0.624</td> <td>    0.112</td>\n",
       "</tr>\n",
       "<tr>\n",
       "  <th>HEXAD_D</th>   <td>    0.4537</td> <td>    0.144</td> <td>    3.149</td> <td> 0.002</td> <td>    0.171</td> <td>    0.736</td>\n",
       "</tr>\n",
       "<tr>\n",
       "  <th>HEXAD_R</th>   <td>    0.0224</td> <td>    0.169</td> <td>    0.132</td> <td> 0.895</td> <td>   -0.309</td> <td>    0.354</td>\n",
       "</tr>\n",
       "</table>"
      ],
      "text/latex": "\\begin{center}\n\\begin{tabular}{lclc}\n\\toprule\n\\textbf{Dep. Variable:}   &   late\\_worker   & \\textbf{  No. Observations:  } &      871    \\\\\n\\textbf{Model:}           &      Logit       & \\textbf{  Df Residuals:      } &      863    \\\\\n\\textbf{Method:}          &       MLE        & \\textbf{  Df Model:          } &        7    \\\\\n\\textbf{Date:}            & Fri, 23 May 2025 & \\textbf{  Pseudo R-squ.:     } &  0.02805    \\\\\n\\textbf{Time:}            &     17:10:15     & \\textbf{  Log-Likelihood:    } &   -255.24   \\\\\n\\textbf{converged:}       &       True       & \\textbf{  LL-Null:           } &   -262.61   \\\\\n\\textbf{Covariance Type:} &    nonrobust     & \\textbf{  LLR p-value:       } &  0.03962    \\\\\n\\bottomrule\n\\end{tabular}\n\\begin{tabular}{lcccccc}\n                   & \\textbf{coef} & \\textbf{std err} & \\textbf{z} & \\textbf{P$> |$z$|$} & \\textbf{[0.025} & \\textbf{0.975]}  \\\\\n\\midrule\n\\textbf{Intercept} &      -2.4104  &        0.129     &   -18.696  &         0.000        &       -2.663    &       -2.158     \\\\\n\\textbf{pre\\_test} &      -0.0576  &        0.123     &    -0.466  &         0.641        &       -0.300    &        0.184     \\\\\n\\textbf{HEXAD\\_P}  &       0.1254  &        0.176     &     0.711  &         0.477        &       -0.220    &        0.471     \\\\\n\\textbf{HEXAD\\_S}  &      -0.0174  &        0.158     &    -0.110  &         0.913        &       -0.327    &        0.293     \\\\\n\\textbf{HEXAD\\_F}  &      -0.2097  &        0.166     &    -1.260  &         0.208        &       -0.536    &        0.116     \\\\\n\\textbf{HEXAD\\_A}  &      -0.2557  &        0.188     &    -1.363  &         0.173        &       -0.624    &        0.112     \\\\\n\\textbf{HEXAD\\_D}  &       0.4537  &        0.144     &     3.149  &         0.002        &        0.171    &        0.736     \\\\\n\\textbf{HEXAD\\_R}  &       0.0224  &        0.169     &     0.132  &         0.895        &       -0.309    &        0.354     \\\\\n\\bottomrule\n\\end{tabular}\n%\\caption{Logit Regression Results}\n\\end{center}"
     },
     "execution_count": 12,
     "metadata": {},
     "output_type": "execute_result"
    }
   ],
   "execution_count": 12
  },
  {
   "cell_type": "markdown",
   "id": "5dbece981b51757b",
   "metadata": {},
   "source": [
    "## Shallow engagement\n",
    "\n",
    "This model examines how students’ HEXAD traits and prior knowledge relate to the likelihood of showing shallow engagement, defined as being among the least active 25% of students (based on n_days_active). It helps identify which traits are associated with lower levels of consistent activity."
   ]
  },
  {
   "cell_type": "code",
   "id": "cbe416c6ba612bb0",
   "metadata": {
    "ExecuteTime": {
     "end_time": "2025-05-23T21:10:15.316668Z",
     "start_time": "2025-05-23T21:10:15.237491Z"
    }
   },
   "source": [
    "engagement_threshold = 0.25\n",
    "df = logistic_models.add_shallow_engagement_variable(df, engagement_threshold)"
   ],
   "outputs": [],
   "execution_count": 13
  },
  {
   "cell_type": "code",
   "id": "96bf30f3d507ce25",
   "metadata": {
    "ExecuteTime": {
     "end_time": "2025-05-23T21:10:15.419484Z",
     "start_time": "2025-05-23T21:10:15.332491Z"
    }
   },
   "source": [
    "model_name = \"shallow_engagement_main\"\n",
    "formula = logistic_models.get_logit_formula_by_name(model_name)\n",
    "model = logistic_models.fit_logit_model(df, formula)"
   ],
   "outputs": [
    {
     "name": "stdout",
     "output_type": "stream",
     "text": [
      "Optimization terminated successfully.\n",
      "         Current function value: 0.535562\n",
      "         Iterations 6\n"
     ]
    }
   ],
   "execution_count": 14
  },
  {
   "cell_type": "code",
   "id": "100dcb9910322410",
   "metadata": {
    "ExecuteTime": {
     "end_time": "2025-05-23T21:10:15.514228Z",
     "start_time": "2025-05-23T21:10:15.435252Z"
    }
   },
   "source": [
    "formula"
   ],
   "outputs": [
    {
     "data": {
      "text/plain": [
       "'shallow_engagement ~ pre_test + HEXAD_P + HEXAD_S + HEXAD_F + HEXAD_A + HEXAD_D + HEXAD_R'"
      ]
     },
     "execution_count": 15,
     "metadata": {},
     "output_type": "execute_result"
    }
   ],
   "execution_count": 15
  },
  {
   "cell_type": "code",
   "id": "4c08ab500f488295",
   "metadata": {
    "ExecuteTime": {
     "end_time": "2025-05-23T21:10:15.648312Z",
     "start_time": "2025-05-23T21:10:15.557391Z"
    }
   },
   "source": "model.summary()",
   "outputs": [
    {
     "data": {
      "text/plain": [
       "<class 'statsmodels.iolib.summary.Summary'>\n",
       "\"\"\"\n",
       "                           Logit Regression Results                           \n",
       "==============================================================================\n",
       "Dep. Variable:     shallow_engagement   No. Observations:                  871\n",
       "Model:                          Logit   Df Residuals:                      863\n",
       "Method:                           MLE   Df Model:                            7\n",
       "Date:                Fri, 23 May 2025   Pseudo R-squ.:                  0.1142\n",
       "Time:                        17:10:15   Log-Likelihood:                -466.47\n",
       "converged:                       True   LL-Null:                       -526.62\n",
       "Covariance Type:            nonrobust   LLR p-value:                 6.690e-23\n",
       "==============================================================================\n",
       "                 coef    std err          z      P>|z|      [0.025      0.975]\n",
       "------------------------------------------------------------------------------\n",
       "Intercept     -1.0339      0.085    -12.187      0.000      -1.200      -0.868\n",
       "pre_test       0.6894      0.085      8.093      0.000       0.522       0.856\n",
       "HEXAD_P        0.2244      0.114      1.967      0.049       0.001       0.448\n",
       "HEXAD_S       -0.3092      0.102     -3.041      0.002      -0.508      -0.110\n",
       "HEXAD_F       -0.0752      0.112     -0.672      0.501      -0.294       0.144\n",
       "HEXAD_A       -0.1242      0.123     -1.013      0.311      -0.365       0.116\n",
       "HEXAD_D        0.3624      0.093      3.885      0.000       0.180       0.545\n",
       "HEXAD_R       -0.2222      0.111     -2.005      0.045      -0.439      -0.005\n",
       "==============================================================================\n",
       "\"\"\""
      ],
      "text/html": [
       "<table class=\"simpletable\">\n",
       "<caption>Logit Regression Results</caption>\n",
       "<tr>\n",
       "  <th>Dep. Variable:</th>   <td>shallow_engagement</td> <th>  No. Observations:  </th>  <td>   871</td>  \n",
       "</tr>\n",
       "<tr>\n",
       "  <th>Model:</th>                  <td>Logit</td>       <th>  Df Residuals:      </th>  <td>   863</td>  \n",
       "</tr>\n",
       "<tr>\n",
       "  <th>Method:</th>                  <td>MLE</td>        <th>  Df Model:          </th>  <td>     7</td>  \n",
       "</tr>\n",
       "<tr>\n",
       "  <th>Date:</th>             <td>Fri, 23 May 2025</td>  <th>  Pseudo R-squ.:     </th>  <td>0.1142</td>  \n",
       "</tr>\n",
       "<tr>\n",
       "  <th>Time:</th>                 <td>17:10:15</td>      <th>  Log-Likelihood:    </th> <td> -466.47</td> \n",
       "</tr>\n",
       "<tr>\n",
       "  <th>converged:</th>              <td>True</td>        <th>  LL-Null:           </th> <td> -526.62</td> \n",
       "</tr>\n",
       "<tr>\n",
       "  <th>Covariance Type:</th>      <td>nonrobust</td>     <th>  LLR p-value:       </th> <td>6.690e-23</td>\n",
       "</tr>\n",
       "</table>\n",
       "<table class=\"simpletable\">\n",
       "<tr>\n",
       "      <td></td>         <th>coef</th>     <th>std err</th>      <th>z</th>      <th>P>|z|</th>  <th>[0.025</th>    <th>0.975]</th>  \n",
       "</tr>\n",
       "<tr>\n",
       "  <th>Intercept</th> <td>   -1.0339</td> <td>    0.085</td> <td>  -12.187</td> <td> 0.000</td> <td>   -1.200</td> <td>   -0.868</td>\n",
       "</tr>\n",
       "<tr>\n",
       "  <th>pre_test</th>  <td>    0.6894</td> <td>    0.085</td> <td>    8.093</td> <td> 0.000</td> <td>    0.522</td> <td>    0.856</td>\n",
       "</tr>\n",
       "<tr>\n",
       "  <th>HEXAD_P</th>   <td>    0.2244</td> <td>    0.114</td> <td>    1.967</td> <td> 0.049</td> <td>    0.001</td> <td>    0.448</td>\n",
       "</tr>\n",
       "<tr>\n",
       "  <th>HEXAD_S</th>   <td>   -0.3092</td> <td>    0.102</td> <td>   -3.041</td> <td> 0.002</td> <td>   -0.508</td> <td>   -0.110</td>\n",
       "</tr>\n",
       "<tr>\n",
       "  <th>HEXAD_F</th>   <td>   -0.0752</td> <td>    0.112</td> <td>   -0.672</td> <td> 0.501</td> <td>   -0.294</td> <td>    0.144</td>\n",
       "</tr>\n",
       "<tr>\n",
       "  <th>HEXAD_A</th>   <td>   -0.1242</td> <td>    0.123</td> <td>   -1.013</td> <td> 0.311</td> <td>   -0.365</td> <td>    0.116</td>\n",
       "</tr>\n",
       "<tr>\n",
       "  <th>HEXAD_D</th>   <td>    0.3624</td> <td>    0.093</td> <td>    3.885</td> <td> 0.000</td> <td>    0.180</td> <td>    0.545</td>\n",
       "</tr>\n",
       "<tr>\n",
       "  <th>HEXAD_R</th>   <td>   -0.2222</td> <td>    0.111</td> <td>   -2.005</td> <td> 0.045</td> <td>   -0.439</td> <td>   -0.005</td>\n",
       "</tr>\n",
       "</table>"
      ],
      "text/latex": "\\begin{center}\n\\begin{tabular}{lclc}\n\\toprule\n\\textbf{Dep. Variable:}   & shallow\\_engagement & \\textbf{  No. Observations:  } &      871    \\\\\n\\textbf{Model:}           &        Logit        & \\textbf{  Df Residuals:      } &      863    \\\\\n\\textbf{Method:}          &         MLE         & \\textbf{  Df Model:          } &        7    \\\\\n\\textbf{Date:}            &   Fri, 23 May 2025  & \\textbf{  Pseudo R-squ.:     } &   0.1142    \\\\\n\\textbf{Time:}            &       17:10:15      & \\textbf{  Log-Likelihood:    } &   -466.47   \\\\\n\\textbf{converged:}       &         True        & \\textbf{  LL-Null:           } &   -526.62   \\\\\n\\textbf{Covariance Type:} &      nonrobust      & \\textbf{  LLR p-value:       } & 6.690e-23   \\\\\n\\bottomrule\n\\end{tabular}\n\\begin{tabular}{lcccccc}\n                   & \\textbf{coef} & \\textbf{std err} & \\textbf{z} & \\textbf{P$> |$z$|$} & \\textbf{[0.025} & \\textbf{0.975]}  \\\\\n\\midrule\n\\textbf{Intercept} &      -1.0339  &        0.085     &   -12.187  &         0.000        &       -1.200    &       -0.868     \\\\\n\\textbf{pre\\_test} &       0.6894  &        0.085     &     8.093  &         0.000        &        0.522    &        0.856     \\\\\n\\textbf{HEXAD\\_P}  &       0.2244  &        0.114     &     1.967  &         0.049        &        0.001    &        0.448     \\\\\n\\textbf{HEXAD\\_S}  &      -0.3092  &        0.102     &    -3.041  &         0.002        &       -0.508    &       -0.110     \\\\\n\\textbf{HEXAD\\_F}  &      -0.0752  &        0.112     &    -0.672  &         0.501        &       -0.294    &        0.144     \\\\\n\\textbf{HEXAD\\_A}  &      -0.1242  &        0.123     &    -1.013  &         0.311        &       -0.365    &        0.116     \\\\\n\\textbf{HEXAD\\_D}  &       0.3624  &        0.093     &     3.885  &         0.000        &        0.180    &        0.545     \\\\\n\\textbf{HEXAD\\_R}  &      -0.2222  &        0.111     &    -2.005  &         0.045        &       -0.439    &       -0.005     \\\\\n\\bottomrule\n\\end{tabular}\n%\\caption{Logit Regression Results}\n\\end{center}"
     },
     "execution_count": 16,
     "metadata": {},
     "output_type": "execute_result"
    }
   ],
   "execution_count": 16
  },
  {
   "cell_type": "markdown",
   "id": "9e5b73f3ed9374f0",
   "metadata": {},
   "source": [
    "## Solve rate\n",
    "\n",
    "This model examines how students’ HEXAD traits and prior knowledge relate to their solve rate - the proportion of successfully completed tasks out of all attempts. It helps identify which traits are associated with more effective problem solving during task submissions."
   ]
  },
  {
   "cell_type": "code",
   "id": "6b1d5bfc13377269",
   "metadata": {
    "ExecuteTime": {
     "end_time": "2025-05-23T21:10:15.736046Z",
     "start_time": "2025-05-23T21:10:15.656385Z"
    }
   },
   "source": [
    "# Prepare data\n",
    "endog, exog =  bin_models.prepare_solve_rate_data(df)\n",
    "\n",
    "# Fit binomial model\n",
    "model = bin_models.fit_binomial_model(endog, exog)"
   ],
   "outputs": [],
   "execution_count": 17
  },
  {
   "cell_type": "code",
   "id": "b9717dfc9b672538",
   "metadata": {
    "ExecuteTime": {
     "end_time": "2025-05-23T21:10:15.859014Z",
     "start_time": "2025-05-23T21:10:15.767880Z"
    }
   },
   "source": "model.summary()",
   "outputs": [
    {
     "data": {
      "text/plain": [
       "<class 'statsmodels.iolib.summary.Summary'>\n",
       "\"\"\"\n",
       "                       Generalized Linear Model Regression Results                        \n",
       "==========================================================================================\n",
       "Dep. Variable:     ['n_solved_tasks', 'failures']   No. Observations:                  776\n",
       "Model:                                        GLM   Df Residuals:                      768\n",
       "Model Family:                            Binomial   Df Model:                            7\n",
       "Link Function:                              Logit   Scale:                          1.0000\n",
       "Method:                                      IRLS   Log-Likelihood:                -2886.2\n",
       "Date:                            Fri, 23 May 2025   Deviance:                       4001.4\n",
       "Time:                                    17:10:15   Pearson chi2:                 5.77e+03\n",
       "No. Iterations:                                 7   Pseudo R-squ. (CS):             0.3360\n",
       "Covariance Type:                        nonrobust                                         \n",
       "==============================================================================\n",
       "                 coef    std err          z      P>|z|      [0.025      0.975]\n",
       "------------------------------------------------------------------------------\n",
       "const          3.3889      0.021    162.730      0.000       3.348       3.430\n",
       "pre_test       0.3320      0.021     15.916      0.000       0.291       0.373\n",
       "HEXAD_P        0.0103      0.028      0.370      0.711      -0.044       0.065\n",
       "HEXAD_S       -0.0646      0.025     -2.615      0.009      -0.113      -0.016\n",
       "HEXAD_F        0.0631      0.025      2.510      0.012       0.014       0.112\n",
       "HEXAD_A        0.0479      0.030      1.590      0.112      -0.011       0.107\n",
       "HEXAD_D       -0.1499      0.021     -7.057      0.000      -0.192      -0.108\n",
       "HEXAD_R        0.0150      0.027      0.552      0.581      -0.038       0.068\n",
       "==============================================================================\n",
       "\"\"\""
      ],
      "text/html": [
       "<table class=\"simpletable\">\n",
       "<caption>Generalized Linear Model Regression Results</caption>\n",
       "<tr>\n",
       "  <th>Dep. Variable:</th>   <td>['n_solved_tasks', 'failures']</td> <th>  No. Observations:  </th>  <td>   776</td> \n",
       "</tr>\n",
       "<tr>\n",
       "  <th>Model:</th>                         <td>GLM</td>              <th>  Df Residuals:      </th>  <td>   768</td> \n",
       "</tr>\n",
       "<tr>\n",
       "  <th>Model Family:</th>               <td>Binomial</td>            <th>  Df Model:          </th>  <td>     7</td> \n",
       "</tr>\n",
       "<tr>\n",
       "  <th>Link Function:</th>                <td>Logit</td>             <th>  Scale:             </th> <td>  1.0000</td>\n",
       "</tr>\n",
       "<tr>\n",
       "  <th>Method:</th>                       <td>IRLS</td>              <th>  Log-Likelihood:    </th> <td> -2886.2</td>\n",
       "</tr>\n",
       "<tr>\n",
       "  <th>Date:</th>                   <td>Fri, 23 May 2025</td>        <th>  Deviance:          </th> <td>  4001.4</td>\n",
       "</tr>\n",
       "<tr>\n",
       "  <th>Time:</th>                       <td>17:10:15</td>            <th>  Pearson chi2:      </th> <td>5.77e+03</td>\n",
       "</tr>\n",
       "<tr>\n",
       "  <th>No. Iterations:</th>                 <td>7</td>               <th>  Pseudo R-squ. (CS):</th>  <td>0.3360</td> \n",
       "</tr>\n",
       "<tr>\n",
       "  <th>Covariance Type:</th>            <td>nonrobust</td>           <th>                     </th>     <td> </td>   \n",
       "</tr>\n",
       "</table>\n",
       "<table class=\"simpletable\">\n",
       "<tr>\n",
       "      <td></td>        <th>coef</th>     <th>std err</th>      <th>z</th>      <th>P>|z|</th>  <th>[0.025</th>    <th>0.975]</th>  \n",
       "</tr>\n",
       "<tr>\n",
       "  <th>const</th>    <td>    3.3889</td> <td>    0.021</td> <td>  162.730</td> <td> 0.000</td> <td>    3.348</td> <td>    3.430</td>\n",
       "</tr>\n",
       "<tr>\n",
       "  <th>pre_test</th> <td>    0.3320</td> <td>    0.021</td> <td>   15.916</td> <td> 0.000</td> <td>    0.291</td> <td>    0.373</td>\n",
       "</tr>\n",
       "<tr>\n",
       "  <th>HEXAD_P</th>  <td>    0.0103</td> <td>    0.028</td> <td>    0.370</td> <td> 0.711</td> <td>   -0.044</td> <td>    0.065</td>\n",
       "</tr>\n",
       "<tr>\n",
       "  <th>HEXAD_S</th>  <td>   -0.0646</td> <td>    0.025</td> <td>   -2.615</td> <td> 0.009</td> <td>   -0.113</td> <td>   -0.016</td>\n",
       "</tr>\n",
       "<tr>\n",
       "  <th>HEXAD_F</th>  <td>    0.0631</td> <td>    0.025</td> <td>    2.510</td> <td> 0.012</td> <td>    0.014</td> <td>    0.112</td>\n",
       "</tr>\n",
       "<tr>\n",
       "  <th>HEXAD_A</th>  <td>    0.0479</td> <td>    0.030</td> <td>    1.590</td> <td> 0.112</td> <td>   -0.011</td> <td>    0.107</td>\n",
       "</tr>\n",
       "<tr>\n",
       "  <th>HEXAD_D</th>  <td>   -0.1499</td> <td>    0.021</td> <td>   -7.057</td> <td> 0.000</td> <td>   -0.192</td> <td>   -0.108</td>\n",
       "</tr>\n",
       "<tr>\n",
       "  <th>HEXAD_R</th>  <td>    0.0150</td> <td>    0.027</td> <td>    0.552</td> <td> 0.581</td> <td>   -0.038</td> <td>    0.068</td>\n",
       "</tr>\n",
       "</table>"
      ],
      "text/latex": "\\begin{center}\n\\begin{tabular}{lclc}\n\\toprule\n\\textbf{Dep. Variable:}   & ['n\\_solved\\_tasks', 'failures'] & \\textbf{  No. Observations:  } &      776    \\\\\n\\textbf{Model:}           &               GLM                & \\textbf{  Df Residuals:      } &      768    \\\\\n\\textbf{Model Family:}    &             Binomial             & \\textbf{  Df Model:          } &        7    \\\\\n\\textbf{Link Function:}   &              Logit               & \\textbf{  Scale:             } &    1.0000   \\\\\n\\textbf{Method:}          &               IRLS               & \\textbf{  Log-Likelihood:    } &   -2886.2   \\\\\n\\textbf{Date:}            &         Fri, 23 May 2025         & \\textbf{  Deviance:          } &    4001.4   \\\\\n\\textbf{Time:}            &             17:10:15             & \\textbf{  Pearson chi2:      } &  5.77e+03   \\\\\n\\textbf{No. Iterations:}  &                7                 & \\textbf{  Pseudo R-squ. (CS):} &   0.3360    \\\\\n\\textbf{Covariance Type:} &            nonrobust             & \\textbf{                     } &             \\\\\n\\bottomrule\n\\end{tabular}\n\\begin{tabular}{lcccccc}\n                   & \\textbf{coef} & \\textbf{std err} & \\textbf{z} & \\textbf{P$> |$z$|$} & \\textbf{[0.025} & \\textbf{0.975]}  \\\\\n\\midrule\n\\textbf{const}     &       3.3889  &        0.021     &   162.730  &         0.000        &        3.348    &        3.430     \\\\\n\\textbf{pre\\_test} &       0.3320  &        0.021     &    15.916  &         0.000        &        0.291    &        0.373     \\\\\n\\textbf{HEXAD\\_P}  &       0.0103  &        0.028     &     0.370  &         0.711        &       -0.044    &        0.065     \\\\\n\\textbf{HEXAD\\_S}  &      -0.0646  &        0.025     &    -2.615  &         0.009        &       -0.113    &       -0.016     \\\\\n\\textbf{HEXAD\\_F}  &       0.0631  &        0.025     &     2.510  &         0.012        &        0.014    &        0.112     \\\\\n\\textbf{HEXAD\\_A}  &       0.0479  &        0.030     &     1.590  &         0.112        &       -0.011    &        0.107     \\\\\n\\textbf{HEXAD\\_D}  &      -0.1499  &        0.021     &    -7.057  &         0.000        &       -0.192    &       -0.108     \\\\\n\\textbf{HEXAD\\_R}  &       0.0150  &        0.027     &     0.552  &         0.581        &       -0.038    &        0.068     \\\\\n\\bottomrule\n\\end{tabular}\n%\\caption{Generalized Linear Model Regression Results}\n\\end{center}"
     },
     "execution_count": 18,
     "metadata": {},
     "output_type": "execute_result"
    }
   ],
   "execution_count": 18
  },
  {
   "cell_type": "markdown",
   "id": "1d2a334a6c04ed64",
   "metadata": {},
   "source": [
    "## First day\n",
    "\n",
    "This model examines how students’ HEXAD traits and prior knowledge relate to the timing of their first code submission. It helps identify which traits are associated with earlier or later initial engagement in the course."
   ]
  },
  {
   "cell_type": "code",
   "id": "1236c4cebfe1e47",
   "metadata": {
    "ExecuteTime": {
     "end_time": "2025-05-23T21:10:15.956282Z",
     "start_time": "2025-05-23T21:10:15.878801Z"
    }
   },
   "source": [
    "# Filter out zero-day users for 'first_day'\n",
    "df = df[df[\"first_day\"] > 0].copy()"
   ],
   "outputs": [],
   "execution_count": 19
  },
  {
   "cell_type": "code",
   "id": "5ce2f647fb45e402",
   "metadata": {
    "ExecuteTime": {
     "end_time": "2025-05-23T21:10:16.069837Z",
     "start_time": "2025-05-23T21:10:15.988142Z"
    }
   },
   "source": [
    "is_over, mean_val, var_val = nb_models.check_overdispersion(df, count_col=\"first_day\")\n",
    "print(f\"Mean: {mean_val:.2f}, Variance: {var_val:.2f}\")\n",
    "if is_over:\n",
    "    print(\"➡ Overdispersion likely — NB model appropriate\")\n",
    "\n",
    "model_name = \"first_day_main\"\n",
    "# Get formula and fit model\n",
    "formula = nb_models.get_nb_formula_by_name(model_name)\n",
    "model = nb_models.fit_negative_binomial(df, formula)"
   ],
   "outputs": [
    {
     "name": "stdout",
     "output_type": "stream",
     "text": [
      "Mean: 25.86, Variance: 903.92\n",
      "➡ Overdispersion likely — NB model appropriate\n",
      "Optimization terminated successfully.\n",
      "         Current function value: 4.233528\n",
      "         Iterations: 12\n",
      "         Function evaluations: 13\n",
      "         Gradient evaluations: 13\n"
     ]
    }
   ],
   "execution_count": 20
  },
  {
   "cell_type": "code",
   "id": "30239679dccd548d",
   "metadata": {
    "ExecuteTime": {
     "end_time": "2025-05-23T21:10:16.163695Z",
     "start_time": "2025-05-23T21:10:16.092373Z"
    }
   },
   "source": [
    "formula"
   ],
   "outputs": [
    {
     "data": {
      "text/plain": [
       "'first_day ~ pre_test + HEXAD_P + HEXAD_S + HEXAD_F + HEXAD_A + HEXAD_D + HEXAD_R'"
      ]
     },
     "execution_count": 21,
     "metadata": {},
     "output_type": "execute_result"
    }
   ],
   "execution_count": 21
  },
  {
   "cell_type": "code",
   "id": "9420a1067ff0e3ef",
   "metadata": {
    "ExecuteTime": {
     "end_time": "2025-05-23T21:10:16.303925Z",
     "start_time": "2025-05-23T21:10:16.203139Z"
    }
   },
   "source": "model.summary()",
   "outputs": [
    {
     "data": {
      "text/plain": [
       "<class 'statsmodels.iolib.summary.Summary'>\n",
       "\"\"\"\n",
       "                     NegativeBinomial Regression Results                      \n",
       "==============================================================================\n",
       "Dep. Variable:              first_day   No. Observations:                  752\n",
       "Model:               NegativeBinomial   Df Residuals:                      744\n",
       "Method:                           MLE   Df Model:                            7\n",
       "Date:                Fri, 23 May 2025   Pseudo R-squ.:                0.003684\n",
       "Time:                        17:10:16   Log-Likelihood:                -3183.6\n",
       "converged:                       True   LL-Null:                       -3195.4\n",
       "Covariance Type:            nonrobust   LLR p-value:                  0.001370\n",
       "==============================================================================\n",
       "                 coef    std err          z      P>|z|      [0.025      0.975]\n",
       "------------------------------------------------------------------------------\n",
       "Intercept      3.2514      0.042     77.171      0.000       3.169       3.334\n",
       "pre_test       0.0646      0.044      1.476      0.140      -0.021       0.150\n",
       "HEXAD_P        0.0264      0.064      0.415      0.678      -0.098       0.151\n",
       "HEXAD_S        0.0317      0.055      0.571      0.568      -0.077       0.140\n",
       "HEXAD_F        0.0012      0.060      0.020      0.984      -0.115       0.118\n",
       "HEXAD_A       -0.0946      0.065     -1.465      0.143      -0.221       0.032\n",
       "HEXAD_D        0.1227      0.048      2.530      0.011       0.028       0.218\n",
       "HEXAD_R       -0.1046      0.056     -1.860      0.063      -0.215       0.006\n",
       "alpha          1.2745      0.060     21.101      0.000       1.156       1.393\n",
       "==============================================================================\n",
       "\"\"\""
      ],
      "text/html": [
       "<table class=\"simpletable\">\n",
       "<caption>NegativeBinomial Regression Results</caption>\n",
       "<tr>\n",
       "  <th>Dep. Variable:</th>       <td>first_day</td>    <th>  No. Observations:  </th>  <td>   752</td> \n",
       "</tr>\n",
       "<tr>\n",
       "  <th>Model:</th>           <td>NegativeBinomial</td> <th>  Df Residuals:      </th>  <td>   744</td> \n",
       "</tr>\n",
       "<tr>\n",
       "  <th>Method:</th>                 <td>MLE</td>       <th>  Df Model:          </th>  <td>     7</td> \n",
       "</tr>\n",
       "<tr>\n",
       "  <th>Date:</th>            <td>Fri, 23 May 2025</td> <th>  Pseudo R-squ.:     </th> <td>0.003684</td>\n",
       "</tr>\n",
       "<tr>\n",
       "  <th>Time:</th>                <td>17:10:16</td>     <th>  Log-Likelihood:    </th> <td> -3183.6</td>\n",
       "</tr>\n",
       "<tr>\n",
       "  <th>converged:</th>             <td>True</td>       <th>  LL-Null:           </th> <td> -3195.4</td>\n",
       "</tr>\n",
       "<tr>\n",
       "  <th>Covariance Type:</th>     <td>nonrobust</td>    <th>  LLR p-value:       </th> <td>0.001370</td>\n",
       "</tr>\n",
       "</table>\n",
       "<table class=\"simpletable\">\n",
       "<tr>\n",
       "      <td></td>         <th>coef</th>     <th>std err</th>      <th>z</th>      <th>P>|z|</th>  <th>[0.025</th>    <th>0.975]</th>  \n",
       "</tr>\n",
       "<tr>\n",
       "  <th>Intercept</th> <td>    3.2514</td> <td>    0.042</td> <td>   77.171</td> <td> 0.000</td> <td>    3.169</td> <td>    3.334</td>\n",
       "</tr>\n",
       "<tr>\n",
       "  <th>pre_test</th>  <td>    0.0646</td> <td>    0.044</td> <td>    1.476</td> <td> 0.140</td> <td>   -0.021</td> <td>    0.150</td>\n",
       "</tr>\n",
       "<tr>\n",
       "  <th>HEXAD_P</th>   <td>    0.0264</td> <td>    0.064</td> <td>    0.415</td> <td> 0.678</td> <td>   -0.098</td> <td>    0.151</td>\n",
       "</tr>\n",
       "<tr>\n",
       "  <th>HEXAD_S</th>   <td>    0.0317</td> <td>    0.055</td> <td>    0.571</td> <td> 0.568</td> <td>   -0.077</td> <td>    0.140</td>\n",
       "</tr>\n",
       "<tr>\n",
       "  <th>HEXAD_F</th>   <td>    0.0012</td> <td>    0.060</td> <td>    0.020</td> <td> 0.984</td> <td>   -0.115</td> <td>    0.118</td>\n",
       "</tr>\n",
       "<tr>\n",
       "  <th>HEXAD_A</th>   <td>   -0.0946</td> <td>    0.065</td> <td>   -1.465</td> <td> 0.143</td> <td>   -0.221</td> <td>    0.032</td>\n",
       "</tr>\n",
       "<tr>\n",
       "  <th>HEXAD_D</th>   <td>    0.1227</td> <td>    0.048</td> <td>    2.530</td> <td> 0.011</td> <td>    0.028</td> <td>    0.218</td>\n",
       "</tr>\n",
       "<tr>\n",
       "  <th>HEXAD_R</th>   <td>   -0.1046</td> <td>    0.056</td> <td>   -1.860</td> <td> 0.063</td> <td>   -0.215</td> <td>    0.006</td>\n",
       "</tr>\n",
       "<tr>\n",
       "  <th>alpha</th>     <td>    1.2745</td> <td>    0.060</td> <td>   21.101</td> <td> 0.000</td> <td>    1.156</td> <td>    1.393</td>\n",
       "</tr>\n",
       "</table>"
      ],
      "text/latex": "\\begin{center}\n\\begin{tabular}{lclc}\n\\toprule\n\\textbf{Dep. Variable:}   &    first\\_day    & \\textbf{  No. Observations:  } &      752    \\\\\n\\textbf{Model:}           & NegativeBinomial & \\textbf{  Df Residuals:      } &      744    \\\\\n\\textbf{Method:}          &       MLE        & \\textbf{  Df Model:          } &        7    \\\\\n\\textbf{Date:}            & Fri, 23 May 2025 & \\textbf{  Pseudo R-squ.:     } &  0.003684   \\\\\n\\textbf{Time:}            &     17:10:16     & \\textbf{  Log-Likelihood:    } &   -3183.6   \\\\\n\\textbf{converged:}       &       True       & \\textbf{  LL-Null:           } &   -3195.4   \\\\\n\\textbf{Covariance Type:} &    nonrobust     & \\textbf{  LLR p-value:       } &  0.001370   \\\\\n\\bottomrule\n\\end{tabular}\n\\begin{tabular}{lcccccc}\n                   & \\textbf{coef} & \\textbf{std err} & \\textbf{z} & \\textbf{P$> |$z$|$} & \\textbf{[0.025} & \\textbf{0.975]}  \\\\\n\\midrule\n\\textbf{Intercept} &       3.2514  &        0.042     &    77.171  &         0.000        &        3.169    &        3.334     \\\\\n\\textbf{pre\\_test} &       0.0646  &        0.044     &     1.476  &         0.140        &       -0.021    &        0.150     \\\\\n\\textbf{HEXAD\\_P}  &       0.0264  &        0.064     &     0.415  &         0.678        &       -0.098    &        0.151     \\\\\n\\textbf{HEXAD\\_S}  &       0.0317  &        0.055     &     0.571  &         0.568        &       -0.077    &        0.140     \\\\\n\\textbf{HEXAD\\_F}  &       0.0012  &        0.060     &     0.020  &         0.984        &       -0.115    &        0.118     \\\\\n\\textbf{HEXAD\\_A}  &      -0.0946  &        0.065     &    -1.465  &         0.143        &       -0.221    &        0.032     \\\\\n\\textbf{HEXAD\\_D}  &       0.1227  &        0.048     &     2.530  &         0.011        &        0.028    &        0.218     \\\\\n\\textbf{HEXAD\\_R}  &      -0.1046  &        0.056     &    -1.860  &         0.063        &       -0.215    &        0.006     \\\\\n\\textbf{alpha}     &       1.2745  &        0.060     &    21.101  &         0.000        &        1.156    &        1.393     \\\\\n\\bottomrule\n\\end{tabular}\n%\\caption{NegativeBinomial Regression Results}\n\\end{center}"
     },
     "execution_count": 22,
     "metadata": {},
     "output_type": "execute_result"
    }
   ],
   "execution_count": 22
  },
  {
   "cell_type": "markdown",
   "id": "214fe2579d03951f",
   "metadata": {},
   "source": [
    "## Median day of activity\n",
    "\n",
    "This model examines how students’ HEXAD traits and prior knowledge relate to the median day of their activity during the course. It helps identify which traits are associated with earlier or later patterns of sustained engagement."
   ]
  },
  {
   "cell_type": "code",
   "id": "3653a516bad46d3b",
   "metadata": {
    "ExecuteTime": {
     "end_time": "2025-05-23T21:10:16.410397Z",
     "start_time": "2025-05-23T21:10:16.329038Z"
    }
   },
   "source": [
    "is_over, mean_val, var_val = nb_models.check_overdispersion(df, count_col=\"median_day_of_activity\")\n",
    "print(f\"Mean: {mean_val:.2f}, Variance: {var_val:.2f}\")\n",
    "if is_over:\n",
    "    print(\"➡  Potential overdispersion detected (variance > mean)\")"
   ],
   "outputs": [
    {
     "name": "stdout",
     "output_type": "stream",
     "text": [
      "Mean: 57.34, Variance: 985.61\n",
      "➡  Potential overdispersion detected (variance > mean)\n"
     ]
    }
   ],
   "execution_count": 23
  },
  {
   "cell_type": "code",
   "id": "7d129dba26a10d54",
   "metadata": {
    "ExecuteTime": {
     "end_time": "2025-05-23T21:10:16.536588Z",
     "start_time": "2025-05-23T21:10:16.435721Z"
    }
   },
   "source": [
    "model_name = \"median_day_main\"\n",
    "formula = nb_models.get_nb_formula_by_name(model_name)\n",
    "model = nb_models.fit_negative_binomial(df, formula)"
   ],
   "outputs": [
    {
     "name": "stdout",
     "output_type": "stream",
     "text": [
      "Optimization terminated successfully.\n",
      "         Current function value: 4.881046\n",
      "         Iterations: 13\n",
      "         Function evaluations: 15\n",
      "         Gradient evaluations: 15\n"
     ]
    }
   ],
   "execution_count": 24
  },
  {
   "cell_type": "code",
   "id": "d77115aefe08ea12",
   "metadata": {
    "ExecuteTime": {
     "end_time": "2025-05-23T21:10:16.635975Z",
     "start_time": "2025-05-23T21:10:16.558931Z"
    }
   },
   "source": [
    "formula"
   ],
   "outputs": [
    {
     "data": {
      "text/plain": [
       "'median_day_of_activity ~ pre_test + HEXAD_P + HEXAD_S + HEXAD_F + HEXAD_A + HEXAD_D + HEXAD_R'"
      ]
     },
     "execution_count": 25,
     "metadata": {},
     "output_type": "execute_result"
    }
   ],
   "execution_count": 25
  },
  {
   "cell_type": "code",
   "id": "c78f5519ede312fa",
   "metadata": {
    "ExecuteTime": {
     "end_time": "2025-05-23T21:10:16.779892Z",
     "start_time": "2025-05-23T21:10:16.681592Z"
    }
   },
   "source": "model.summary()",
   "outputs": [
    {
     "data": {
      "text/plain": [
       "<class 'statsmodels.iolib.summary.Summary'>\n",
       "\"\"\"\n",
       "                       NegativeBinomial Regression Results                        \n",
       "==================================================================================\n",
       "Dep. Variable:     median_day_of_activity   No. Observations:                  752\n",
       "Model:                   NegativeBinomial   Df Residuals:                      744\n",
       "Method:                               MLE   Df Model:                            7\n",
       "Date:                    Fri, 23 May 2025   Pseudo R-squ.:                0.002484\n",
       "Time:                            17:10:16   Log-Likelihood:                -3670.5\n",
       "converged:                           True   LL-Null:                       -3679.7\n",
       "Covariance Type:                nonrobust   LLR p-value:                   0.01078\n",
       "==============================================================================\n",
       "                 coef    std err          z      P>|z|      [0.025      0.975]\n",
       "------------------------------------------------------------------------------\n",
       "Intercept      4.0393      0.024    170.104      0.000       3.993       4.086\n",
       "pre_test      -0.0619      0.024     -2.556      0.011      -0.109      -0.014\n",
       "HEXAD_P        0.0188      0.036      0.529      0.597      -0.051       0.088\n",
       "HEXAD_S        0.0822      0.031      2.630      0.009       0.021       0.143\n",
       "HEXAD_F       -0.0322      0.033     -0.965      0.335      -0.098       0.033\n",
       "HEXAD_A       -0.0368      0.037     -1.001      0.317      -0.109       0.035\n",
       "HEXAD_D        0.0127      0.027      0.469      0.639      -0.040       0.066\n",
       "HEXAD_R       -0.0279      0.033     -0.847      0.397      -0.092       0.037\n",
       "alpha          0.3996      0.021     19.140      0.000       0.359       0.441\n",
       "==============================================================================\n",
       "\"\"\""
      ],
      "text/html": [
       "<table class=\"simpletable\">\n",
       "<caption>NegativeBinomial Regression Results</caption>\n",
       "<tr>\n",
       "  <th>Dep. Variable:</th>   <td>median_day_of_activity</td> <th>  No. Observations:  </th>  <td>   752</td> \n",
       "</tr>\n",
       "<tr>\n",
       "  <th>Model:</th>              <td>NegativeBinomial</td>    <th>  Df Residuals:      </th>  <td>   744</td> \n",
       "</tr>\n",
       "<tr>\n",
       "  <th>Method:</th>                    <td>MLE</td>          <th>  Df Model:          </th>  <td>     7</td> \n",
       "</tr>\n",
       "<tr>\n",
       "  <th>Date:</th>               <td>Fri, 23 May 2025</td>    <th>  Pseudo R-squ.:     </th> <td>0.002484</td>\n",
       "</tr>\n",
       "<tr>\n",
       "  <th>Time:</th>                   <td>17:10:16</td>        <th>  Log-Likelihood:    </th> <td> -3670.5</td>\n",
       "</tr>\n",
       "<tr>\n",
       "  <th>converged:</th>                <td>True</td>          <th>  LL-Null:           </th> <td> -3679.7</td>\n",
       "</tr>\n",
       "<tr>\n",
       "  <th>Covariance Type:</th>        <td>nonrobust</td>       <th>  LLR p-value:       </th>  <td>0.01078</td>\n",
       "</tr>\n",
       "</table>\n",
       "<table class=\"simpletable\">\n",
       "<tr>\n",
       "      <td></td>         <th>coef</th>     <th>std err</th>      <th>z</th>      <th>P>|z|</th>  <th>[0.025</th>    <th>0.975]</th>  \n",
       "</tr>\n",
       "<tr>\n",
       "  <th>Intercept</th> <td>    4.0393</td> <td>    0.024</td> <td>  170.104</td> <td> 0.000</td> <td>    3.993</td> <td>    4.086</td>\n",
       "</tr>\n",
       "<tr>\n",
       "  <th>pre_test</th>  <td>   -0.0619</td> <td>    0.024</td> <td>   -2.556</td> <td> 0.011</td> <td>   -0.109</td> <td>   -0.014</td>\n",
       "</tr>\n",
       "<tr>\n",
       "  <th>HEXAD_P</th>   <td>    0.0188</td> <td>    0.036</td> <td>    0.529</td> <td> 0.597</td> <td>   -0.051</td> <td>    0.088</td>\n",
       "</tr>\n",
       "<tr>\n",
       "  <th>HEXAD_S</th>   <td>    0.0822</td> <td>    0.031</td> <td>    2.630</td> <td> 0.009</td> <td>    0.021</td> <td>    0.143</td>\n",
       "</tr>\n",
       "<tr>\n",
       "  <th>HEXAD_F</th>   <td>   -0.0322</td> <td>    0.033</td> <td>   -0.965</td> <td> 0.335</td> <td>   -0.098</td> <td>    0.033</td>\n",
       "</tr>\n",
       "<tr>\n",
       "  <th>HEXAD_A</th>   <td>   -0.0368</td> <td>    0.037</td> <td>   -1.001</td> <td> 0.317</td> <td>   -0.109</td> <td>    0.035</td>\n",
       "</tr>\n",
       "<tr>\n",
       "  <th>HEXAD_D</th>   <td>    0.0127</td> <td>    0.027</td> <td>    0.469</td> <td> 0.639</td> <td>   -0.040</td> <td>    0.066</td>\n",
       "</tr>\n",
       "<tr>\n",
       "  <th>HEXAD_R</th>   <td>   -0.0279</td> <td>    0.033</td> <td>   -0.847</td> <td> 0.397</td> <td>   -0.092</td> <td>    0.037</td>\n",
       "</tr>\n",
       "<tr>\n",
       "  <th>alpha</th>     <td>    0.3996</td> <td>    0.021</td> <td>   19.140</td> <td> 0.000</td> <td>    0.359</td> <td>    0.441</td>\n",
       "</tr>\n",
       "</table>"
      ],
      "text/latex": "\\begin{center}\n\\begin{tabular}{lclc}\n\\toprule\n\\textbf{Dep. Variable:}   & median\\_day\\_of\\_activity & \\textbf{  No. Observations:  } &      752    \\\\\n\\textbf{Model:}           &      NegativeBinomial     & \\textbf{  Df Residuals:      } &      744    \\\\\n\\textbf{Method:}          &            MLE            & \\textbf{  Df Model:          } &        7    \\\\\n\\textbf{Date:}            &      Fri, 23 May 2025     & \\textbf{  Pseudo R-squ.:     } &  0.002484   \\\\\n\\textbf{Time:}            &          17:10:16         & \\textbf{  Log-Likelihood:    } &   -3670.5   \\\\\n\\textbf{converged:}       &            True           & \\textbf{  LL-Null:           } &   -3679.7   \\\\\n\\textbf{Covariance Type:} &         nonrobust         & \\textbf{  LLR p-value:       } &  0.01078    \\\\\n\\bottomrule\n\\end{tabular}\n\\begin{tabular}{lcccccc}\n                   & \\textbf{coef} & \\textbf{std err} & \\textbf{z} & \\textbf{P$> |$z$|$} & \\textbf{[0.025} & \\textbf{0.975]}  \\\\\n\\midrule\n\\textbf{Intercept} &       4.0393  &        0.024     &   170.104  &         0.000        &        3.993    &        4.086     \\\\\n\\textbf{pre\\_test} &      -0.0619  &        0.024     &    -2.556  &         0.011        &       -0.109    &       -0.014     \\\\\n\\textbf{HEXAD\\_P}  &       0.0188  &        0.036     &     0.529  &         0.597        &       -0.051    &        0.088     \\\\\n\\textbf{HEXAD\\_S}  &       0.0822  &        0.031     &     2.630  &         0.009        &        0.021    &        0.143     \\\\\n\\textbf{HEXAD\\_F}  &      -0.0322  &        0.033     &    -0.965  &         0.335        &       -0.098    &        0.033     \\\\\n\\textbf{HEXAD\\_A}  &      -0.0368  &        0.037     &    -1.001  &         0.317        &       -0.109    &        0.035     \\\\\n\\textbf{HEXAD\\_D}  &       0.0127  &        0.027     &     0.469  &         0.639        &       -0.040    &        0.066     \\\\\n\\textbf{HEXAD\\_R}  &      -0.0279  &        0.033     &    -0.847  &         0.397        &       -0.092    &        0.037     \\\\\n\\textbf{alpha}     &       0.3996  &        0.021     &    19.140  &         0.000        &        0.359    &        0.441     \\\\\n\\bottomrule\n\\end{tabular}\n%\\caption{NegativeBinomial Regression Results}\n\\end{center}"
     },
     "execution_count": 26,
     "metadata": {},
     "output_type": "execute_result"
    }
   ],
   "execution_count": 26
  },
  {
   "cell_type": "markdown",
   "id": "260dc45cfd124faf",
   "metadata": {},
   "source": [
    "## Days of activity\n",
    "\n",
    "This model examines how students’ HEXAD traits and prior knowledge relate to the number of days they were active on the platform (code submission) during the course. It helps identify which traits are associated with more consistent engagement over time."
   ]
  },
  {
   "cell_type": "code",
   "id": "a8044fb5b5e2c8b6",
   "metadata": {
    "ExecuteTime": {
     "end_time": "2025-05-23T21:10:16.847613Z",
     "start_time": "2025-05-23T21:10:16.787042Z"
    }
   },
   "source": [
    "is_over, mean_val, var_val = nb_models.check_overdispersion(df, count_col=\"n_days_active\")\n",
    "print(f\"Mean: {mean_val:.2f}, Variance: {var_val:.2f}\")\n",
    "if is_over:\n",
    "    print(\"➡  Potential overdispersion detected (variance > mean)\")"
   ],
   "outputs": [
    {
     "name": "stdout",
     "output_type": "stream",
     "text": [
      "Mean: 11.75, Variance: 88.64\n",
      "➡  Potential overdispersion detected (variance > mean)\n"
     ]
    }
   ],
   "execution_count": 27
  },
  {
   "cell_type": "code",
   "id": "464304e3af26807c",
   "metadata": {
    "ExecuteTime": {
     "end_time": "2025-05-23T21:10:16.975810Z",
     "start_time": "2025-05-23T21:10:16.869765Z"
    }
   },
   "source": [
    "model_name = \"days_of_activity_main\"\n",
    "formula = nb_models.get_nb_formula_by_name(model_name)\n",
    "model = nb_models.fit_negative_binomial(df, formula)"
   ],
   "outputs": [
    {
     "name": "stdout",
     "output_type": "stream",
     "text": [
      "Optimization terminated successfully.\n",
      "         Current function value: 3.364413\n",
      "         Iterations: 11\n",
      "         Function evaluations: 13\n",
      "         Gradient evaluations: 13\n"
     ]
    }
   ],
   "execution_count": 28
  },
  {
   "cell_type": "code",
   "id": "88085ac77e81f3af",
   "metadata": {
    "ExecuteTime": {
     "end_time": "2025-05-23T21:10:17.069382Z",
     "start_time": "2025-05-23T21:10:16.998836Z"
    }
   },
   "source": [
    "formula"
   ],
   "outputs": [
    {
     "data": {
      "text/plain": [
       "'n_days_active ~ pre_test + HEXAD_P + HEXAD_S + HEXAD_F + HEXAD_A + HEXAD_D + HEXAD_R'"
      ]
     },
     "execution_count": 29,
     "metadata": {},
     "output_type": "execute_result"
    }
   ],
   "execution_count": 29
  },
  {
   "cell_type": "code",
   "id": "da5dd31dec9657d1",
   "metadata": {
    "ExecuteTime": {
     "end_time": "2025-05-23T21:10:17.201261Z",
     "start_time": "2025-05-23T21:10:17.115145Z"
    }
   },
   "source": "model.summary()",
   "outputs": [
    {
     "data": {
      "text/plain": [
       "<class 'statsmodels.iolib.summary.Summary'>\n",
       "\"\"\"\n",
       "                     NegativeBinomial Regression Results                      \n",
       "==============================================================================\n",
       "Dep. Variable:          n_days_active   No. Observations:                  752\n",
       "Model:               NegativeBinomial   Df Residuals:                      744\n",
       "Method:                           MLE   Df Model:                            7\n",
       "Date:                Fri, 23 May 2025   Pseudo R-squ.:                 0.02387\n",
       "Time:                        17:10:17   Log-Likelihood:                -2530.0\n",
       "converged:                       True   LL-Null:                       -2591.9\n",
       "Covariance Type:            nonrobust   LLR p-value:                 1.269e-23\n",
       "==============================================================================\n",
       "                 coef    std err          z      P>|z|      [0.025      0.975]\n",
       "------------------------------------------------------------------------------\n",
       "Intercept      2.3778      0.028     85.051      0.000       2.323       2.433\n",
       "pre_test      -0.2951      0.029    -10.326      0.000      -0.351      -0.239\n",
       "HEXAD_P       -0.0028      0.042     -0.067      0.947      -0.086       0.080\n",
       "HEXAD_S        0.0173      0.037      0.469      0.639      -0.055       0.090\n",
       "HEXAD_F       -0.0326      0.040     -0.819      0.413      -0.111       0.045\n",
       "HEXAD_A        0.0695      0.045      1.537      0.124      -0.019       0.158\n",
       "HEXAD_D       -0.0702      0.031     -2.234      0.025      -0.132      -0.009\n",
       "HEXAD_R        0.0625      0.040      1.578      0.115      -0.015       0.140\n",
       "alpha          0.4778      0.029     16.368      0.000       0.421       0.535\n",
       "==============================================================================\n",
       "\"\"\""
      ],
      "text/html": [
       "<table class=\"simpletable\">\n",
       "<caption>NegativeBinomial Regression Results</caption>\n",
       "<tr>\n",
       "  <th>Dep. Variable:</th>     <td>n_days_active</td>  <th>  No. Observations:  </th>  <td>   752</td>  \n",
       "</tr>\n",
       "<tr>\n",
       "  <th>Model:</th>           <td>NegativeBinomial</td> <th>  Df Residuals:      </th>  <td>   744</td>  \n",
       "</tr>\n",
       "<tr>\n",
       "  <th>Method:</th>                 <td>MLE</td>       <th>  Df Model:          </th>  <td>     7</td>  \n",
       "</tr>\n",
       "<tr>\n",
       "  <th>Date:</th>            <td>Fri, 23 May 2025</td> <th>  Pseudo R-squ.:     </th>  <td>0.02387</td> \n",
       "</tr>\n",
       "<tr>\n",
       "  <th>Time:</th>                <td>17:10:17</td>     <th>  Log-Likelihood:    </th> <td> -2530.0</td> \n",
       "</tr>\n",
       "<tr>\n",
       "  <th>converged:</th>             <td>True</td>       <th>  LL-Null:           </th> <td> -2591.9</td> \n",
       "</tr>\n",
       "<tr>\n",
       "  <th>Covariance Type:</th>     <td>nonrobust</td>    <th>  LLR p-value:       </th> <td>1.269e-23</td>\n",
       "</tr>\n",
       "</table>\n",
       "<table class=\"simpletable\">\n",
       "<tr>\n",
       "      <td></td>         <th>coef</th>     <th>std err</th>      <th>z</th>      <th>P>|z|</th>  <th>[0.025</th>    <th>0.975]</th>  \n",
       "</tr>\n",
       "<tr>\n",
       "  <th>Intercept</th> <td>    2.3778</td> <td>    0.028</td> <td>   85.051</td> <td> 0.000</td> <td>    2.323</td> <td>    2.433</td>\n",
       "</tr>\n",
       "<tr>\n",
       "  <th>pre_test</th>  <td>   -0.2951</td> <td>    0.029</td> <td>  -10.326</td> <td> 0.000</td> <td>   -0.351</td> <td>   -0.239</td>\n",
       "</tr>\n",
       "<tr>\n",
       "  <th>HEXAD_P</th>   <td>   -0.0028</td> <td>    0.042</td> <td>   -0.067</td> <td> 0.947</td> <td>   -0.086</td> <td>    0.080</td>\n",
       "</tr>\n",
       "<tr>\n",
       "  <th>HEXAD_S</th>   <td>    0.0173</td> <td>    0.037</td> <td>    0.469</td> <td> 0.639</td> <td>   -0.055</td> <td>    0.090</td>\n",
       "</tr>\n",
       "<tr>\n",
       "  <th>HEXAD_F</th>   <td>   -0.0326</td> <td>    0.040</td> <td>   -0.819</td> <td> 0.413</td> <td>   -0.111</td> <td>    0.045</td>\n",
       "</tr>\n",
       "<tr>\n",
       "  <th>HEXAD_A</th>   <td>    0.0695</td> <td>    0.045</td> <td>    1.537</td> <td> 0.124</td> <td>   -0.019</td> <td>    0.158</td>\n",
       "</tr>\n",
       "<tr>\n",
       "  <th>HEXAD_D</th>   <td>   -0.0702</td> <td>    0.031</td> <td>   -2.234</td> <td> 0.025</td> <td>   -0.132</td> <td>   -0.009</td>\n",
       "</tr>\n",
       "<tr>\n",
       "  <th>HEXAD_R</th>   <td>    0.0625</td> <td>    0.040</td> <td>    1.578</td> <td> 0.115</td> <td>   -0.015</td> <td>    0.140</td>\n",
       "</tr>\n",
       "<tr>\n",
       "  <th>alpha</th>     <td>    0.4778</td> <td>    0.029</td> <td>   16.368</td> <td> 0.000</td> <td>    0.421</td> <td>    0.535</td>\n",
       "</tr>\n",
       "</table>"
      ],
      "text/latex": "\\begin{center}\n\\begin{tabular}{lclc}\n\\toprule\n\\textbf{Dep. Variable:}   & n\\_days\\_active  & \\textbf{  No. Observations:  } &      752    \\\\\n\\textbf{Model:}           & NegativeBinomial & \\textbf{  Df Residuals:      } &      744    \\\\\n\\textbf{Method:}          &       MLE        & \\textbf{  Df Model:          } &        7    \\\\\n\\textbf{Date:}            & Fri, 23 May 2025 & \\textbf{  Pseudo R-squ.:     } &  0.02387    \\\\\n\\textbf{Time:}            &     17:10:17     & \\textbf{  Log-Likelihood:    } &   -2530.0   \\\\\n\\textbf{converged:}       &       True       & \\textbf{  LL-Null:           } &   -2591.9   \\\\\n\\textbf{Covariance Type:} &    nonrobust     & \\textbf{  LLR p-value:       } & 1.269e-23   \\\\\n\\bottomrule\n\\end{tabular}\n\\begin{tabular}{lcccccc}\n                   & \\textbf{coef} & \\textbf{std err} & \\textbf{z} & \\textbf{P$> |$z$|$} & \\textbf{[0.025} & \\textbf{0.975]}  \\\\\n\\midrule\n\\textbf{Intercept} &       2.3778  &        0.028     &    85.051  &         0.000        &        2.323    &        2.433     \\\\\n\\textbf{pre\\_test} &      -0.2951  &        0.029     &   -10.326  &         0.000        &       -0.351    &       -0.239     \\\\\n\\textbf{HEXAD\\_P}  &      -0.0028  &        0.042     &    -0.067  &         0.947        &       -0.086    &        0.080     \\\\\n\\textbf{HEXAD\\_S}  &       0.0173  &        0.037     &     0.469  &         0.639        &       -0.055    &        0.090     \\\\\n\\textbf{HEXAD\\_F}  &      -0.0326  &        0.040     &    -0.819  &         0.413        &       -0.111    &        0.045     \\\\\n\\textbf{HEXAD\\_A}  &       0.0695  &        0.045     &     1.537  &         0.124        &       -0.019    &        0.158     \\\\\n\\textbf{HEXAD\\_D}  &      -0.0702  &        0.031     &    -2.234  &         0.025        &       -0.132    &       -0.009     \\\\\n\\textbf{HEXAD\\_R}  &       0.0625  &        0.040     &     1.578  &         0.115        &       -0.015    &        0.140     \\\\\n\\textbf{alpha}     &       0.4778  &        0.029     &    16.368  &         0.000        &        0.421    &        0.535     \\\\\n\\bottomrule\n\\end{tabular}\n%\\caption{NegativeBinomial Regression Results}\n\\end{center}"
     },
     "execution_count": 30,
     "metadata": {},
     "output_type": "execute_result"
    }
   ],
   "execution_count": 30
  },
  {
   "cell_type": "markdown",
   "id": "ed01d5b948181905",
   "metadata": {},
   "source": [
    "## Weeks of activity\n",
    "\n",
    "This model examines how students’ HEXAD traits and prior knowledge relate to the number of weeks they were active during the course. It helps identify which traits are associated with sustained engagement across multiple weeks."
   ]
  },
  {
   "cell_type": "code",
   "id": "dcf94a71063b1931",
   "metadata": {
    "ExecuteTime": {
     "end_time": "2025-05-23T21:10:17.275584Z",
     "start_time": "2025-05-23T21:10:17.209929Z"
    }
   },
   "source": [
    "is_over, mean_val, var_val = nb_models.check_overdispersion(df, count_col=\"n_weeks_active\")\n",
    "print(f\"Mean: {mean_val:.2f}, Variance: {var_val:.2f}\")\n",
    "if is_over:\n",
    "    print(\"➡  Potential overdispersion detected (variance > mean)\")"
   ],
   "outputs": [
    {
     "name": "stdout",
     "output_type": "stream",
     "text": [
      "Mean: 5.56, Variance: 11.58\n",
      "➡  Potential overdispersion detected (variance > mean)\n"
     ]
    }
   ],
   "execution_count": 31
  },
  {
   "cell_type": "code",
   "id": "139fc656f0508952",
   "metadata": {
    "ExecuteTime": {
     "end_time": "2025-05-23T21:10:17.406818Z",
     "start_time": "2025-05-23T21:10:17.303543Z"
    }
   },
   "source": [
    "model_name = \"weeks_of_activity_main\"\n",
    "formula = nb_models.get_nb_formula_by_name(model_name)\n",
    "model = nb_models.fit_negative_binomial(df, formula)"
   ],
   "outputs": [
    {
     "name": "stdout",
     "output_type": "stream",
     "text": [
      "Optimization terminated successfully.\n",
      "         Current function value: 2.505746\n",
      "         Iterations: 15\n",
      "         Function evaluations: 18\n",
      "         Gradient evaluations: 18\n"
     ]
    }
   ],
   "execution_count": 32
  },
  {
   "cell_type": "code",
   "id": "36ea61f2db20d393",
   "metadata": {
    "ExecuteTime": {
     "end_time": "2025-05-23T21:10:17.500609Z",
     "start_time": "2025-05-23T21:10:17.424060Z"
    }
   },
   "source": [
    "formula"
   ],
   "outputs": [
    {
     "data": {
      "text/plain": [
       "'n_weeks_active ~ pre_test + HEXAD_P + HEXAD_S + HEXAD_F + HEXAD_A + HEXAD_D + HEXAD_R'"
      ]
     },
     "execution_count": 33,
     "metadata": {},
     "output_type": "execute_result"
    }
   ],
   "execution_count": 33
  },
  {
   "cell_type": "code",
   "id": "da9b960bb0737697",
   "metadata": {
    "ExecuteTime": {
     "end_time": "2025-05-23T21:10:17.613404Z",
     "start_time": "2025-05-23T21:10:17.523830Z"
    }
   },
   "source": "model.summary()",
   "outputs": [
    {
     "data": {
      "text/plain": [
       "<class 'statsmodels.iolib.summary.Summary'>\n",
       "\"\"\"\n",
       "                     NegativeBinomial Regression Results                      \n",
       "==============================================================================\n",
       "Dep. Variable:         n_weeks_active   No. Observations:                  752\n",
       "Model:               NegativeBinomial   Df Residuals:                      744\n",
       "Method:                           MLE   Df Model:                            7\n",
       "Date:                Fri, 23 May 2025   Pseudo R-squ.:                 0.02542\n",
       "Time:                        17:10:17   Log-Likelihood:                -1884.3\n",
       "converged:                       True   LL-Null:                       -1933.5\n",
       "Covariance Type:            nonrobust   LLR p-value:                 2.441e-18\n",
       "==============================================================================\n",
       "                 coef    std err          z      P>|z|      [0.025      0.975]\n",
       "------------------------------------------------------------------------------\n",
       "Intercept      1.6677      0.022     76.198      0.000       1.625       1.711\n",
       "pre_test      -0.1884      0.022     -8.594      0.000      -0.231      -0.145\n",
       "HEXAD_P        0.0054      0.032      0.169      0.866      -0.057       0.068\n",
       "HEXAD_S        0.0097      0.028      0.349      0.727      -0.045       0.064\n",
       "HEXAD_F       -0.0161      0.030     -0.533      0.594      -0.075       0.043\n",
       "HEXAD_A        0.0472      0.034      1.371      0.171      -0.020       0.115\n",
       "HEXAD_D       -0.0667      0.024     -2.751      0.006      -0.114      -0.019\n",
       "HEXAD_R        0.0499      0.030      1.637      0.102      -0.010       0.110\n",
       "alpha          0.1570      0.018      8.584      0.000       0.121       0.193\n",
       "==============================================================================\n",
       "\"\"\""
      ],
      "text/html": [
       "<table class=\"simpletable\">\n",
       "<caption>NegativeBinomial Regression Results</caption>\n",
       "<tr>\n",
       "  <th>Dep. Variable:</th>    <td>n_weeks_active</td>  <th>  No. Observations:  </th>  <td>   752</td>  \n",
       "</tr>\n",
       "<tr>\n",
       "  <th>Model:</th>           <td>NegativeBinomial</td> <th>  Df Residuals:      </th>  <td>   744</td>  \n",
       "</tr>\n",
       "<tr>\n",
       "  <th>Method:</th>                 <td>MLE</td>       <th>  Df Model:          </th>  <td>     7</td>  \n",
       "</tr>\n",
       "<tr>\n",
       "  <th>Date:</th>            <td>Fri, 23 May 2025</td> <th>  Pseudo R-squ.:     </th>  <td>0.02542</td> \n",
       "</tr>\n",
       "<tr>\n",
       "  <th>Time:</th>                <td>17:10:17</td>     <th>  Log-Likelihood:    </th> <td> -1884.3</td> \n",
       "</tr>\n",
       "<tr>\n",
       "  <th>converged:</th>             <td>True</td>       <th>  LL-Null:           </th> <td> -1933.5</td> \n",
       "</tr>\n",
       "<tr>\n",
       "  <th>Covariance Type:</th>     <td>nonrobust</td>    <th>  LLR p-value:       </th> <td>2.441e-18</td>\n",
       "</tr>\n",
       "</table>\n",
       "<table class=\"simpletable\">\n",
       "<tr>\n",
       "      <td></td>         <th>coef</th>     <th>std err</th>      <th>z</th>      <th>P>|z|</th>  <th>[0.025</th>    <th>0.975]</th>  \n",
       "</tr>\n",
       "<tr>\n",
       "  <th>Intercept</th> <td>    1.6677</td> <td>    0.022</td> <td>   76.198</td> <td> 0.000</td> <td>    1.625</td> <td>    1.711</td>\n",
       "</tr>\n",
       "<tr>\n",
       "  <th>pre_test</th>  <td>   -0.1884</td> <td>    0.022</td> <td>   -8.594</td> <td> 0.000</td> <td>   -0.231</td> <td>   -0.145</td>\n",
       "</tr>\n",
       "<tr>\n",
       "  <th>HEXAD_P</th>   <td>    0.0054</td> <td>    0.032</td> <td>    0.169</td> <td> 0.866</td> <td>   -0.057</td> <td>    0.068</td>\n",
       "</tr>\n",
       "<tr>\n",
       "  <th>HEXAD_S</th>   <td>    0.0097</td> <td>    0.028</td> <td>    0.349</td> <td> 0.727</td> <td>   -0.045</td> <td>    0.064</td>\n",
       "</tr>\n",
       "<tr>\n",
       "  <th>HEXAD_F</th>   <td>   -0.0161</td> <td>    0.030</td> <td>   -0.533</td> <td> 0.594</td> <td>   -0.075</td> <td>    0.043</td>\n",
       "</tr>\n",
       "<tr>\n",
       "  <th>HEXAD_A</th>   <td>    0.0472</td> <td>    0.034</td> <td>    1.371</td> <td> 0.171</td> <td>   -0.020</td> <td>    0.115</td>\n",
       "</tr>\n",
       "<tr>\n",
       "  <th>HEXAD_D</th>   <td>   -0.0667</td> <td>    0.024</td> <td>   -2.751</td> <td> 0.006</td> <td>   -0.114</td> <td>   -0.019</td>\n",
       "</tr>\n",
       "<tr>\n",
       "  <th>HEXAD_R</th>   <td>    0.0499</td> <td>    0.030</td> <td>    1.637</td> <td> 0.102</td> <td>   -0.010</td> <td>    0.110</td>\n",
       "</tr>\n",
       "<tr>\n",
       "  <th>alpha</th>     <td>    0.1570</td> <td>    0.018</td> <td>    8.584</td> <td> 0.000</td> <td>    0.121</td> <td>    0.193</td>\n",
       "</tr>\n",
       "</table>"
      ],
      "text/latex": "\\begin{center}\n\\begin{tabular}{lclc}\n\\toprule\n\\textbf{Dep. Variable:}   & n\\_weeks\\_active & \\textbf{  No. Observations:  } &      752    \\\\\n\\textbf{Model:}           & NegativeBinomial & \\textbf{  Df Residuals:      } &      744    \\\\\n\\textbf{Method:}          &       MLE        & \\textbf{  Df Model:          } &        7    \\\\\n\\textbf{Date:}            & Fri, 23 May 2025 & \\textbf{  Pseudo R-squ.:     } &  0.02542    \\\\\n\\textbf{Time:}            &     17:10:17     & \\textbf{  Log-Likelihood:    } &   -1884.3   \\\\\n\\textbf{converged:}       &       True       & \\textbf{  LL-Null:           } &   -1933.5   \\\\\n\\textbf{Covariance Type:} &    nonrobust     & \\textbf{  LLR p-value:       } & 2.441e-18   \\\\\n\\bottomrule\n\\end{tabular}\n\\begin{tabular}{lcccccc}\n                   & \\textbf{coef} & \\textbf{std err} & \\textbf{z} & \\textbf{P$> |$z$|$} & \\textbf{[0.025} & \\textbf{0.975]}  \\\\\n\\midrule\n\\textbf{Intercept} &       1.6677  &        0.022     &    76.198  &         0.000        &        1.625    &        1.711     \\\\\n\\textbf{pre\\_test} &      -0.1884  &        0.022     &    -8.594  &         0.000        &       -0.231    &       -0.145     \\\\\n\\textbf{HEXAD\\_P}  &       0.0054  &        0.032     &     0.169  &         0.866        &       -0.057    &        0.068     \\\\\n\\textbf{HEXAD\\_S}  &       0.0097  &        0.028     &     0.349  &         0.727        &       -0.045    &        0.064     \\\\\n\\textbf{HEXAD\\_F}  &      -0.0161  &        0.030     &    -0.533  &         0.594        &       -0.075    &        0.043     \\\\\n\\textbf{HEXAD\\_A}  &       0.0472  &        0.034     &     1.371  &         0.171        &       -0.020    &        0.115     \\\\\n\\textbf{HEXAD\\_D}  &      -0.0667  &        0.024     &    -2.751  &         0.006        &       -0.114    &       -0.019     \\\\\n\\textbf{HEXAD\\_R}  &       0.0499  &        0.030     &     1.637  &         0.102        &       -0.010    &        0.110     \\\\\n\\textbf{alpha}     &       0.1570  &        0.018     &     8.584  &         0.000        &        0.121    &        0.193     \\\\\n\\bottomrule\n\\end{tabular}\n%\\caption{NegativeBinomial Regression Results}\n\\end{center}"
     },
     "execution_count": 34,
     "metadata": {},
     "output_type": "execute_result"
    }
   ],
   "execution_count": 34
  }
 ],
 "metadata": {
  "kernelspec": {
   "display_name": "Python 3 (ipykernel)",
   "language": "python",
   "name": "python3"
  },
  "language_info": {
   "codemirror_mode": {
    "name": "ipython",
    "version": 3
   },
   "file_extension": ".py",
   "mimetype": "text/x-python",
   "name": "python",
   "nbconvert_exporter": "python",
   "pygments_lexer": "ipython3",
   "version": "3.10.7"
  }
 },
 "nbformat": 4,
 "nbformat_minor": 5
}
